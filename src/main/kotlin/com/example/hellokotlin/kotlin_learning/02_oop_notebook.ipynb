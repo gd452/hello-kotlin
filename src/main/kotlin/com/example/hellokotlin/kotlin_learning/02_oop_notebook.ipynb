{
 "cells": [
  {
   "cell_type": "markdown",
   "metadata": {},
   "source": [
    "# Kotlin 객체지향 프로그래밍 (OOP)\n",
    "## Java, C++, Python과 비교하며 배우는 Kotlin OOP\n",
    "\n",
    "이 노트북에서는 Kotlin의 객체지향 프로그래밍 개념을 학습합니다.\n",
    "\n",
    "### 학습 내용\n",
    "1. 클래스와 생성자\n",
    "2. 데이터 클래스\n",
    "3. 상속과 다형성\n",
    "4. 인터페이스\n",
    "5. Sealed 클래스\n",
    "6. 싱글톤 객체와 동반 객체"
   ]
  },
  {
   "cell_type": "markdown",
   "metadata": {},
   "source": [
    "## 1. 클래스와 생성자\n",
    "\n",
    "Kotlin의 클래스는 Java보다 간결하고, Python처럼 직관적입니다."
   ]
  },
  {
   "cell_type": "code",
   "metadata": {
    "ExecuteTime": {
     "end_time": "2025-07-10T06:51:55.666050Z",
     "start_time": "2025-07-10T06:51:55.497472Z"
    }
   },
   "source": [
    "// 기본 생성자가 있는 클래스 (가장 간결한 형태)\n",
    "class Person(val name: String, var age: Int) {\n",
    "    // val: 읽기 전용 프로퍼티 (Java의 final field + getter)\n",
    "    // var: 읽기/쓰기 프로퍼티 (Java의 field + getter/setter)\n",
    "    \n",
    "    fun introduce() {\n",
    "        println(\"안녕하세요, 저는 ${name}이고 ${age}살입니다.\")\n",
    "    }\n",
    "    \n",
    "    fun birthday() {\n",
    "        age++\n",
    "        println(\"생일 축하! 이제 ${age}살이 되었습니다.\")\n",
    "    }\n",
    "}\n",
    "\n",
    "// 객체 생성 (new 키워드 불필요)\n",
    "val person = Person(\"김코틀린\", 25)\n",
    "person.introduce()\n",
    "person.birthday()"
   ],
   "outputs": [
    {
     "name": "stdout",
     "output_type": "stream",
     "text": [
      "안녕하세요, 저는 김코틀린이고 25살입니다.\n",
      "생일 축하! 이제 26살이 되었습니다.\n"
     ]
    }
   ],
   "execution_count": 1
  },
  {
   "cell_type": "code",
   "metadata": {
    "ExecuteTime": {
     "end_time": "2025-07-10T07:20:32.583549Z",
     "start_time": "2025-07-10T07:20:32.540413Z"
    }
   },
   "source": [
    "// 여러 생성자가 있는 클래스 (Java의 오버로딩과 유사)\n",
    "class Car {\n",
    "    var brand: String = \"\"\n",
    "    var model: String = \"\"\n",
    "    var year: Int = 0\n",
    "    \n",
    "    // 보조 생성자 1\n",
    "    constructor(brand: String, model: String) {\n",
    "        this.brand = brand\n",
    "        this.model = model\n",
    "        this.year = 2024  // 기본값\n",
    "    }\n",
    "\n",
    "    // 보조 생성자 2\n",
    "    constructor(brand: String, model: String, year: Int) {\n",
    "        this.brand = brand\n",
    "        this.model = model\n",
    "        this.year = year\n",
    "    }\n",
    "    \n",
    "    fun displayInfo() {\n",
    "        println(\"차량: ${year}년식 ${brand} ${model}\")\n",
    "    }\n",
    "}\n",
    "\n",
    "val car1 = Car(\"현대\", \"아반떼\")\n",
    "val car2 = Car(\"기아\", \"K5\", 2023)\n",
    "car1.displayInfo()\n",
    "car2.displayInfo()"
   ],
   "outputs": [
    {
     "name": "stdout",
     "output_type": "stream",
     "text": [
      "차량: 2024년식 현대 아반떼\n",
      "차량: 2023년식 기아 K5\n"
     ]
    }
   ],
   "execution_count": 29
  },
  {
   "cell_type": "code",
   "metadata": {
    "ExecuteTime": {
     "end_time": "2025-07-10T07:12:22.504199Z",
     "start_time": "2025-07-10T07:12:22.447593Z"
    }
   },
   "source": [
    "// init 블록과 프로퍼티 초기화\n",
    "class Student(firstName: String, lastName: String) {\n",
    "    val fullName: String\n",
    "    var enrollmentYear: Int = 0\n",
    "    \n",
    "    init {\n",
    "        // init 블록은 기본 생성자 실행 시 호출됨\n",
    "        fullName = \"$firstName $lastName\"\n",
    "        enrollmentYear = 2024\n",
    "        println(\"새 학생 등록: $fullName\")\n",
    "    }\n",
    "    \n",
    "    // getter/setter 커스터마이징\n",
    "    var gpa: Double = 0.0\n",
    "        set(value) {\n",
    "            if (value in 0.0..4.0) {\n",
    "                field = value  // field는 backing field를 가리킴\n",
    "            } else {\n",
    "                println(\"GPA는 0.0과 4.0 사이여야 합니다.\")\n",
    "            }\n",
    "        }\n",
    "        get() = field\n",
    "}\n",
    "\n",
    "val student = Student(\"김\", \"코틀린\")\n",
    "student.gpa = 3.5\n",
    "println(\"GPA: ${student.gpa}\")\n",
    "student.gpa = 5.0  // 유효하지 않은 값"
   ],
   "outputs": [
    {
     "name": "stdout",
     "output_type": "stream",
     "text": [
      "새 학생 등록: 김 코틀린\n",
      "GPA: 3.5\n",
      "GPA는 0.0과 4.0 사이여야 합니다.\n"
     ]
    }
   ],
   "execution_count": 12
  },
  {
   "metadata": {},
   "cell_type": "markdown",
   "source": ""
  },
  {
   "cell_type": "markdown",
   "metadata": {},
   "source": [
    "### 💡 핵심 포인트\n",
    "- **Java와 달리** `new` 키워드가 필요 없음\n",
    "- **Python의 `__init__`과 달리** 생성자가 클래스 선언부에 포함\n",
    "- **C++과 달리** 자동으로 getter/setter 생성\n",
    "- **기본 생성자**는 클래스 헤더에, **보조 생성자**는 본문에 선언"
   ]
  },
  {
   "cell_type": "markdown",
   "metadata": {},
   "source": [
    "## 2. 데이터 클래스\n",
    "\n",
    "데이터를 담는 용도의 클래스를 위한 특별한 문법입니다. Python의 `@dataclass`와 유사합니다."
   ]
  },
  {
   "cell_type": "code",
   "metadata": {
    "ExecuteTime": {
     "end_time": "2025-07-10T07:21:15.417606Z",
     "start_time": "2025-07-10T07:21:15.333896Z"
    }
   },
   "source": [
    "// data class는 자동으로 equals(), hashCode(), toString(), copy() 등을 생성\n",
    "data class UserData(val id: Int, val name: String, val email: String)\n",
    "\n",
    "val user1 = UserData(1, \"홍길동\", \"hong@example.com\")\n",
    "val user2 = UserData(2, \"김철수\", \"kim@example.com\")\n",
    "val user3 = user1.copy(name = \"홍길순\")  // 일부 필드만 변경하여 복사\n",
    "\n",
    "println(\"user1: $user1\")  // 자동 생성된 toString()\n",
    "println(\"user2: $user2\")\n",
    "println(\"user3 (복사본): $user3\")"
   ],
   "outputs": [
    {
     "name": "stdout",
     "output_type": "stream",
     "text": [
      "user1: UserData(id=1, name=홍길동, email=hong@example.com)\n",
      "user2: UserData(id=2, name=김철수, email=kim@example.com)\n",
      "user3 (복사본): UserData(id=1, name=홍길순, email=hong@example.com)\n"
     ]
    }
   ],
   "execution_count": 30
  },
  {
   "cell_type": "code",
   "metadata": {
    "ExecuteTime": {
     "end_time": "2025-07-10T07:27:12.789497Z",
     "start_time": "2025-07-10T07:27:12.723123Z"
    }
   },
   "source": [
    "// 동등성 비교와 구조 분해\n",
    "val user1 = UserData(1, \"홍길동\", \"hong@example.com\")\n",
    "val user2 = UserData(1, \"홍길동\", \"hong@example.com\")\n",
    "val user3 = UserData(2, \"김철수\", \"kim@example.com\")\n",
    "\n",
    "// equals() 자동 구현으로 내용 비교\n",
    "println(\"user1 == user2: ${user1 == user2}\")  // true\n",
    "println(\"user1 == user3: ${user1 == user3}\")  // false\n",
    "\n",
    "// 구조 분해 선언 (Python의 unpacking과 유사)\n",
    "val (id, name, email) = user1\n",
    "println(\"구조 분해: id=$id, name=$name, email=$email\")"
   ],
   "outputs": [
    {
     "name": "stdout",
     "output_type": "stream",
     "text": [
      "user1 == user2: true\n",
      "user1 == user3: false\n",
      "구조 분해: id=1, name=홍길동, email=hong@example.com\n"
     ]
    }
   ],
   "execution_count": 31
  },
  {
   "cell_type": "code",
   "metadata": {
    "ExecuteTime": {
     "end_time": "2025-07-10T07:28:35.134705Z",
     "start_time": "2025-07-10T07:28:35.063786Z"
    }
   },
   "source": [
    "// 데이터 클래스의 실용적인 예제\n",
    "data class Product(\n",
    "    val name: String,\n",
    "    val price: Int,\n",
    "    val category: String = \"일반\"  // 기본값 지원\n",
    ")\n",
    "\n",
    "val products = listOf(\n",
    "    Product(\"노트북\", 1500000, \"전자제품\"),\n",
    "    Product(\"마우스\", 30000, \"전자제품\"),\n",
    "    Product(\"커피\", 5000)  // 기본 카테고리 사용\n",
    ")\n",
    "\n",
    "products.forEach {println(it)}\n",
    "\n",
    "// 컬렉션과 함께 사용하기 편리함\n",
    "products\n",
    "    .filter { it.price < 100000 }\n",
    "    .sortedBy { it.price }\n",
    "    .forEach { println(\"${it.name}: ${it.price}원\") }"
   ],
   "outputs": [
    {
     "name": "stdout",
     "output_type": "stream",
     "text": [
      "Product(name=노트북, price=1500000, category=전자제품)\n",
      "Product(name=마우스, price=30000, category=전자제품)\n",
      "Product(name=커피, price=5000, category=일반)\n",
      "커피: 5000원\n",
      "마우스: 30000원\n"
     ]
    }
   ],
   "execution_count": 33
  },
  {
   "cell_type": "markdown",
   "metadata": {},
   "source": [
    "### 💡 핵심 포인트\n",
    "- **Java의 POJO/JavaBean보다** 훨씬 간결\n",
    "- **Python의 @dataclass와 유사**하지만 타입 안전성 제공\n",
    "- **자동으로 생성되는 메서드**: equals(), hashCode(), toString(), copy(), componentN()\n",
    "- **주 생성자에 최소 하나의 매개변수** 필요"
   ]
  },
  {
   "cell_type": "markdown",
   "metadata": {},
   "source": [
    "## 3. 상속과 다형성\n",
    "\n",
    "Kotlin의 상속은 기본적으로 금지되어 있습니다. `open` 키워드로 상속을 허용합니다."
   ]
  },
  {
   "cell_type": "code",
   "metadata": {
    "ExecuteTime": {
     "end_time": "2025-07-10T07:30:02.129348Z",
     "start_time": "2025-07-10T07:30:02.080496Z"
    }
   },
   "source": [
    "// open 키워드로 상속 가능한 클래스 선언\n",
    "open class Animal(val name: String) {\n",
    "    // open 키워드로 오버라이드 가능한 메서드 선언\n",
    "    open fun makeSound() {\n",
    "        println(\"${name}이(가) 소리를 냅니다.\")\n",
    "    }\n",
    "    \n",
    "    // final 메서드는 오버라이드 불가 (기본값)\n",
    "    fun eat() {\n",
    "        println(\"${name}이(가) 먹이를 먹습니다.\")\n",
    "    }\n",
    "}\n",
    "\n",
    "// 상속 문법: 클래스명 : 부모클래스()\n",
    "class Dog(name: String) : Animal(name) {\n",
    "    override fun makeSound() {\n",
    "        println(\"${name}: 멍멍!\")\n",
    "    }\n",
    "    \n",
    "    fun wagTail() {\n",
    "        println(\"${name}이(가) 꼬리를 흔듭니다.\")\n",
    "    }\n",
    "}\n",
    "\n",
    "val dog = Dog(\"바둑이\")\n",
    "dog.makeSound()  // 오버라이드된 메서드\n",
    "dog.eat()        // 상속받은 메서드\n",
    "dog.wagTail()    // 자식 클래스의 메서드"
   ],
   "outputs": [
    {
     "name": "stdout",
     "output_type": "stream",
     "text": [
      "바둑이: 멍멍!\n",
      "바둑이이(가) 먹이를 먹습니다.\n",
      "바둑이이(가) 꼬리를 흔듭니다.\n"
     ]
    }
   ],
   "execution_count": 34
  },
  {
   "cell_type": "code",
   "metadata": {
    "ExecuteTime": {
     "end_time": "2025-07-10T07:30:38.016870Z",
     "start_time": "2025-07-10T07:30:37.968231Z"
    }
   },
   "source": [
    "// 다형성 예제\n",
    "class Cat(name: String) : Animal(name) {\n",
    "    override fun makeSound() {\n",
    "        println(\"${name}: 야옹~\")\n",
    "    }\n",
    "    \n",
    "    fun scratch() {\n",
    "        println(\"${name}이(가) 발톱을 세웁니다.\")\n",
    "    }\n",
    "}\n",
    "\n",
    "// 다형성: 부모 타입으로 자식 객체들을 다룸\n",
    "val animals: List<Animal> = listOf(\n",
    "    Dog(\"바둑이\"),\n",
    "    Cat(\"나비\"),\n",
    "    Animal(\"동물\")  // 부모 클래스도 인스턴스화 가능\n",
    ")\n",
    "\n",
    "println(\"=== 다형성 예제 ===\")\n",
    "animals.forEach { animal ->\n",
    "    animal.makeSound()  // 각 객체의 실제 타입에 따라 다른 동작\n",
    "}"
   ],
   "outputs": [
    {
     "name": "stdout",
     "output_type": "stream",
     "text": [
      "=== 다형성 예제 ===\n",
      "바둑이: 멍멍!\n",
      "나비: 야옹~\n",
      "동물이(가) 소리를 냅니다.\n"
     ]
    }
   ],
   "execution_count": 35
  },
  {
   "cell_type": "code",
   "metadata": {
    "ExecuteTime": {
     "end_time": "2025-07-10T07:34:08.593099Z",
     "start_time": "2025-07-10T07:34:08.523681Z"
    }
   },
   "source": [
    "// 추상 클래스\n",
    "abstract class Shape {\n",
    "    abstract val area: Double\n",
    "    abstract fun draw()\n",
    "    \n",
    "    // 추상 클래스도 구현된 메서드를 가질 수 있음\n",
    "    fun printInfo() {\n",
    "        println(\"도형의 넓이: $area\")\n",
    "    }\n",
    "}\n",
    "\n",
    "class Circle(private val radius: Double) : Shape() {\n",
    "    override val area: Double\n",
    "        get() = Math.PI * radius * radius\n",
    "    \n",
    "    override fun draw() {\n",
    "        println(\"반지름 ${radius}인 원을 그립니다.\")\n",
    "    }\n",
    "}\n",
    "\n",
    "class Rectangle(private val width: Double, private val height: Double) : Shape() {\n",
    "    override val area: Double\n",
    "        get() = width * height\n",
    "    \n",
    "    override fun draw() {\n",
    "        println(\"${width} x ${height} 직사각형을 그립니다.\")\n",
    "    }\n",
    "}\n",
    "\n",
    "val shapes = listOf(\n",
    "    Circle(5.0),\n",
    "    Rectangle(3.0, 4.0)\n",
    ")\n",
    "\n",
    "shapes.forEach { shape ->\n",
    "    shape.draw()\n",
    "    shape.printInfo()\n",
    "    println()\n",
    "}"
   ],
   "outputs": [
    {
     "name": "stdout",
     "output_type": "stream",
     "text": [
      "반지름 5.0인 원을 그립니다.\n",
      "도형의 넓이: 78.53981633974483\n",
      "\n",
      "3.0 x 4.0 직사각형을 그립니다.\n",
      "도형의 넓이: 12.0\n",
      "\n"
     ]
    }
   ],
   "execution_count": 37
  },
  {
   "cell_type": "markdown",
   "metadata": {},
   "source": [
    "### 💡 핵심 포인트\n",
    "- **Java와 달리** 기본적으로 모든 클래스는 final (상속 불가)\n",
    "- **C++의 virtual과 달리** open/override 키워드로 명시적 표현\n",
    "- **Python과 달리** 컴파일 시점에 타입 체크\n",
    "- **추상 클래스**는 인스턴스화 불가, 하위 클래스에서 구현 필요"
   ]
  },
  {
   "cell_type": "markdown",
   "metadata": {},
   "source": [
    "## 4. 인터페이스\n",
    "\n",
    "Kotlin의 인터페이스는 Java 8+의 인터페이스와 유사하게 기본 구현을 가질 수 있습니다."
   ]
  },
  {
   "cell_type": "code",
   "metadata": {
    "ExecuteTime": {
     "end_time": "2025-07-10T07:34:54.618001Z",
     "start_time": "2025-07-10T07:34:54.573829Z"
    }
   },
   "source": [
    "// 인터페이스 정의\n",
    "interface Drawable {\n",
    "    fun draw()  // 추상 메서드\n",
    "    \n",
    "    // 기본 구현이 있는 메서드\n",
    "    fun resize(scale: Double) {\n",
    "        println(\"크기를 ${scale}배로 조정합니다.\")\n",
    "    }\n",
    "}\n",
    "\n",
    "interface Clickable {\n",
    "    fun click()\n",
    "    \n",
    "    fun doubleClick() {\n",
    "        click()\n",
    "        click()\n",
    "    }\n",
    "}\n",
    "\n",
    "// 여러 인터페이스 구현\n",
    "class Button(val text: String) : Drawable, Clickable {\n",
    "    override fun draw() {\n",
    "        println(\"[${text}] 버튼을 그립니다.\")\n",
    "    }\n",
    "    \n",
    "    override fun click() {\n",
    "        println(\"[${text}] 버튼을 클릭했습니다.\")\n",
    "    }\n",
    "\n",
    "//    override fun doubleClick() {\n",
    "//        println(\"[${text}] 버튼을 더블 클릭했습니다.\")\n",
    "//        // 기본 구현을 사용하지 않고 오버라이드\n",
    "//    }\n",
    "}\n",
    "\n",
    "val button = Button(\"확인\")\n",
    "button.draw()\n",
    "button.click()\n",
    "button.doubleClick()  // 기본 구현 사용\n",
    "button.resize(1.5)    // 기본 구현 사용"
   ],
   "outputs": [
    {
     "name": "stdout",
     "output_type": "stream",
     "text": [
      "[확인] 버튼을 그립니다.\n",
      "[확인] 버튼을 클릭했습니다.\n",
      "[확인] 버튼을 클릭했습니다.\n",
      "[확인] 버튼을 클릭했습니다.\n",
      "크기를 1.5배로 조정합니다.\n"
     ]
    }
   ],
   "execution_count": 40
  },
  {
   "cell_type": "code",
   "metadata": {
    "ExecuteTime": {
     "end_time": "2025-07-10T07:44:45.114777Z",
     "start_time": "2025-07-10T07:44:45.080907Z"
    }
   },
   "source": [
    "// 인터페이스의 프로퍼티\n",
    "interface Named {\n",
    "    val name: String  // 추상 프로퍼티\n",
    "    \n",
    "    // 프로퍼티도 기본 구현 가능\n",
    "    val displayName: String\n",
    "        get() = \"Name: $name\"\n",
    "}\n",
    "\n",
    "interface Versioned {\n",
    "    val version: String\n",
    "}\n",
    "\n",
    "// 인터페이스 구현\n",
    "class Software(\n",
    "    override val name: String,\n",
    "    override val version: String\n",
    ") : Named, Versioned {\n",
    "    fun info() {\n",
    "        println(\"$displayName (v$version)\")\n",
    "    }\n",
    "}\n",
    "\n",
    "val software = Software(\"Kotlin Notebook\", \"1.0.0\")\n",
    "software.info()"
   ],
   "outputs": [
    {
     "name": "stdout",
     "output_type": "stream",
     "text": [
      "Name: Kotlin Notebook (v1.0.0)\n"
     ]
    }
   ],
   "execution_count": 44
  },
  {
   "cell_type": "code",
   "metadata": {
    "ExecuteTime": {
     "end_time": "2025-07-10T07:48:38.663612Z",
     "start_time": "2025-07-10T07:48:38.616110Z"
    }
   },
   "source": [
    "// 인터페이스 충돌 해결\n",
    "interface A {\n",
    "    fun foo() { println(\"A의 foo\") }\n",
    "    fun bar()  // 추상 메서드\n",
    "}\n",
    "\n",
    "interface B {\n",
    "    fun foo() { println(\"B의 foo\") }\n",
    "    fun bar() { println(\"B의 bar\") }\n",
    "}\n",
    "\n",
    "class C : A, B {\n",
    "    // 충돌하는 메서드는 반드시 오버라이드\n",
    "    override fun foo() {\n",
    "        super<A>.foo()  // a의 구현 호출\n",
    "        super<B>.foo()  // b의 구현 호출\n",
    "        println(\"c의 foo\")\n",
    "    }\n",
    "    \n",
    "    override fun bar() {\n",
    "        super<B>.bar()  // B의 구현만 호출\n",
    "    }\n",
    "}\n",
    "\n",
    "val c = C()\n",
    "c.foo()\n",
    "println(\"---\")\n",
    "c.bar()"
   ],
   "outputs": [
    {
     "name": "stdout",
     "output_type": "stream",
     "text": [
      "A의 foo\n",
      "B의 foo\n",
      "c의 foo\n",
      "---\n",
      "B의 bar\n"
     ]
    }
   ],
   "execution_count": 48
  },
  {
   "cell_type": "markdown",
   "metadata": {},
   "source": [
    "### 💡 핵심 포인트\n",
    "- **Java 인터페이스처럼** 다중 구현 가능\n",
    "- **Java 8+처럼** 기본 메서드 구현 가능\n",
    "- **C++의 순수 가상 클래스와 유사**하지만 더 유연\n",
    "- **프로퍼티도 선언 가능** (추상 또는 구현 포함)"
   ]
  },
  {
   "cell_type": "markdown",
   "metadata": {},
   "source": [
    "## 5. Sealed 클래스\n",
    "\n",
    "Sealed 클래스는 클래스 계층을 제한하는 특별한 종류의 클래스입니다. 대수적 데이터 타입을 표현하는 데 유용합니다."
   ]
  },
  {
   "cell_type": "code",
   "metadata": {
    "ExecuteTime": {
     "end_time": "2025-07-10T07:50:49.292667Z",
     "start_time": "2025-07-10T07:50:49.226846Z"
    }
   },
   "source": [
    "// API 응답을 표현하는 Sealed 클래스\n",
    "sealed class Result<out T> {\n",
    "    data class Success<T>(val data: T) : Result<T>()\n",
    "    data class Error(val message: String) : Result<Nothing>()\n",
    "    object Loading : Result<Nothing>()\n",
    "}\n",
    "\n",
    "// 사용 예제\n",
    "fun fetchData(id: Int): Result<String> {\n",
    "    return when (id) {\n",
    "        1 -> Result.Success(\"사용자 데이터\")\n",
    "        2 -> Result.Error(\"사용자를 찾을 수 없습니다\")\n",
    "        else -> Result.Loading\n",
    "    }\n",
    "}\n",
    "\n",
    "// when 표현식에서 모든 경우를 처리해야 함\n",
    "fun handleResult(result: Result<String>) {\n",
    "    when (result) {\n",
    "        is Result.Success -> println(\"성공: ${result.data}\")\n",
    "        is Result.Error -> println(\"에러: ${result.message}\")\n",
    "        Result.Loading -> println(\"로딩 중...\")\n",
    "        // else 불필요 - 모든 경우가 처리됨\n",
    "    }\n",
    "}\n",
    "\n",
    "// 테스트\n",
    "handleResult(fetchData(1))\n",
    "handleResult(fetchData(2))\n",
    "handleResult(fetchData(3))"
   ],
   "outputs": [
    {
     "name": "stdout",
     "output_type": "stream",
     "text": [
      "성공: 사용자 데이터\n",
      "에러: 사용자를 찾을 수 없습니다\n",
      "로딩 중...\n"
     ]
    }
   ],
   "execution_count": 51
  },
  {
   "cell_type": "code",
   "metadata": {
    "ExecuteTime": {
     "end_time": "2025-07-11T06:13:57.328503Z",
     "start_time": "2025-07-11T06:13:57.255716Z"
    }
   },
   "source": [
    "// 결제 방법을 표현하는 Sealed 클래스\n",
    "sealed class PaymentMethod {\n",
    "    data class CreditCard(val number: String, val cvv: String) : PaymentMethod()\n",
    "    data class BankTransfer(val accountNumber: String) : PaymentMethod()\n",
    "    object Cash : PaymentMethod()\n",
    "    data class PayPal(val email: String) : PaymentMethod()\n",
    "}\n",
    "\n",
    "fun processPayment(method: PaymentMethod) {\n",
    "    val fee = when (method) {\n",
    "        is PaymentMethod.CreditCard -> {\n",
    "            println(\"신용카드 결제: **** ${method.number.takeLast(4)}\")\n",
    "            0.03  // 3% 수수료\n",
    "        }\n",
    "        is PaymentMethod.BankTransfer -> {\n",
    "            println(\"계좌이체: ${method.accountNumber}\")\n",
    "            0.01  // 1% 수수료\n",
    "        }\n",
    "        PaymentMethod.Cash -> {\n",
    "            println(\"현금 결제\")\n",
    "            0.0   // 수수료 없음\n",
    "        }\n",
    "        is PaymentMethod.PayPal -> {\n",
    "            println(\"PayPal 결제: ${method.email}\")\n",
    "            0.04  // 4% 수수료\n",
    "        }\n",
    "    }\n",
    "    println(\"수수료율: ${fee * 100}%\\n\")\n",
    "}\n",
    "\n",
    "// 다양한 결제 방법 테스트\n",
    "processPayment(PaymentMethod.CreditCard(\"1234-5678-9012-3456\", \"123\"))\n",
    "processPayment(PaymentMethod.BankTransfer(\"123-456-789\"))\n",
    "processPayment(PaymentMethod.Cash)\n",
    "processPayment(PaymentMethod.PayPal(\"user@example.com\"))"
   ],
   "outputs": [
    {
     "name": "stdout",
     "output_type": "stream",
     "text": [
      "신용카드 결제: **** 3456\n",
      "수수료율: 3.0%\n",
      "\n",
      "계좌이체: 123-456-789\n",
      "수수료율: 1.0%\n",
      "\n",
      "현금 결제\n",
      "수수료율: 0.0%\n",
      "\n",
      "PayPal 결제: user@example.com\n",
      "수수료율: 4.0%\n",
      "\n"
     ]
    }
   ],
   "execution_count": 60
  },
  {
   "cell_type": "code",
   "metadata": {
    "ExecuteTime": {
     "end_time": "2025-07-11T06:14:06.853699Z",
     "start_time": "2025-07-11T06:14:06.741125Z"
    }
   },
   "source": [
    "// UI 상태를 표현하는 Sealed 클래스\n",
    "sealed class UiState {\n",
    "    object Idle : UiState()\n",
    "    object Loading : UiState()\n",
    "    data class Success(val data: List<String>) : UiState()\n",
    "    data class Error(val exception: Exception) : UiState()\n",
    "}\n",
    "\n",
    "// 상태에 따른 UI 렌더링\n",
    "fun render(state: UiState) {\n",
    "    when (state) {\n",
    "        is UiState.Idle -> println(\"대기 중...\")\n",
    "        UiState.Loading -> println(\"데이터 로딩 중...\")\n",
    "        is UiState.Success -> {\n",
    "            println(\"데이터 로드 완료:\")\n",
    "            state.data.forEach { println(\"  - $it\") }\n",
    "        }\n",
    "        is UiState.Error -> println(\"에러 발생: ${state.exception.message}\")\n",
    "    }\n",
    "}\n",
    "\n",
    "// 상태 변화 시뮬레이션\n",
    "render(UiState.Idle)\n",
    "render(UiState.Loading)\n",
    "render(UiState.Success(listOf(\"아이템1\", \"아이템2\", \"아이템3\")))\n",
    "render(UiState.Error(Exception(\"네트워크 오류\")))"
   ],
   "outputs": [
    {
     "name": "stdout",
     "output_type": "stream",
     "text": [
      "대기 중...\n",
      "데이터 로딩 중...\n",
      "데이터 로드 완료:\n",
      "  - 아이템1\n",
      "  - 아이템2\n",
      "  - 아이템3\n",
      "에러 발생: 네트워크 오류\n"
     ]
    }
   ],
   "execution_count": 61
  },
  {
   "cell_type": "markdown",
   "metadata": {},
   "source": [
    "### 💡 핵심 포인트\n",
    "- **enum과 달리** 각 하위 클래스가 다른 프로퍼티를 가질 수 있음\n",
    "- **when 표현식과 함께 사용 시** 컴파일러가 모든 경우를 체크\n",
    "- **대수적 데이터 타입** 표현에 적합 (함수형 프로그래밍)\n",
    "- **상태 패턴 구현**에 매우 유용"
   ]
  },
  {
   "cell_type": "markdown",
   "metadata": {},
   "source": [
    "## 6. 싱글톤 객체와 동반 객체\n",
    "\n",
    "Kotlin은 싱글톤 패턴을 언어 레벨에서 지원합니다."
   ]
  },
  {
   "cell_type": "code",
   "metadata": {
    "ExecuteTime": {
     "end_time": "2025-07-11T06:20:22.186448Z",
     "start_time": "2025-07-11T06:20:22.134790Z"
    }
   },
   "source": [
    "// 싱글톤 객체 (object 선언)\n",
    "object DatabaseConfig {\n",
    "    var host = \"localhost\"\n",
    "    var port = 5432\n",
    "    var database = \"mydb\"\n",
    "    \n",
    "    fun getConnectionString(): String {\n",
    "        return \"jdbc:postgresql://$host:$port/$database\"\n",
    "    }\n",
    "    \n",
    "    fun reset() {\n",
    "        host = \"localhost\"\n",
    "        port = 5432\n",
    "        database = \"mydb\"\n",
    "    }\n",
    "}\n",
    "\n",
    "// 싱글톤 사용 - 인스턴스 생성 불필요\n",
    "println(\"초기 설정: ${DatabaseConfig.getConnectionString()}\")\n",
    "\n",
    "DatabaseConfig.host = \"192.168.1.100\"\n",
    "DatabaseConfig.port = 5433\n",
    "println(\"변경 후: ${DatabaseConfig.getConnectionString()}\")\n",
    "\n",
    "DatabaseConfig.reset()\n",
    "println(\"리셋 후: ${DatabaseConfig.getConnectionString()}\")"
   ],
   "outputs": [
    {
     "name": "stdout",
     "output_type": "stream",
     "text": [
      "초기 설정: jdbc:postgresql://localhost:5432/mydb\n",
      "변경 후: jdbc:postgresql://192.168.1.100:5433/mydb\n",
      "리셋 후: jdbc:postgresql://localhost:5432/mydb\n"
     ]
    }
   ],
   "execution_count": 62
  },
  {
   "cell_type": "code",
   "metadata": {
    "ExecuteTime": {
     "end_time": "2025-07-11T06:23:01.027386Z",
     "start_time": "2025-07-11T06:23:00.958329Z"
    }
   },
   "source": [
    "// Companion Object (동반 객체)\n",
    "class User private constructor(val id: Int, val name: String) {\n",
    "    companion object {\n",
    "        private var userCount = 0\n",
    "\n",
    "        // 팩토리 메서드\n",
    "        fun createUser(name: String): User {\n",
    "            userCount++\n",
    "            return User(userCount, name)\n",
    "        }\n",
    "\n",
    "        fun getTotalUsers() = userCount\n",
    "\n",
    "        // 상수 정의\n",
    "        const val MAX_NAME_LENGTH = 50\n",
    "    }\n",
    "\n",
    "    override fun toString() = \"User(id=$id, name='$name')\"\n",
    "}\n",
    "\n",
    "// 사용 예제 - Java의 static 메서드처럼 사용\n",
    "val user1 = User.createUser(\"Alice\")\n",
    "val user2 = User.createUser(\"Bob\")\n",
    "val user3 = User.createUser(\"Charlie\")\n",
    "\n",
    "println(\"생성된 사용자:\")\n",
    "println(user1)\n",
    "println(user2)\n",
    "println(user3)\n",
    "println(\"총 사용자 수: ${User.getTotalUsers()}\")\n",
    "println(\"최대 이름 길이: ${User.MAX_NAME_LENGTH}\")"
   ],
   "outputs": [
    {
     "name": "stdout",
     "output_type": "stream",
     "text": [
      "생성된 사용자:\n",
      "User(id=1, name='Alice')\n",
      "User(id=2, name='Bob')\n",
      "User(id=3, name='Charlie')\n",
      "총 사용자 수: 3\n",
      "최대 이름 길이: 50\n"
     ]
    }
   ],
   "execution_count": 64
  },
  {
   "cell_type": "code",
   "metadata": {
    "ExecuteTime": {
     "end_time": "2025-07-11T06:36:14.179853Z",
     "start_time": "2025-07-11T06:36:14.122058Z"
    }
   },
   "source": [
    "// 익명 객체 (object 표현식)\n",
    "interface EventListener {\n",
    "    fun onEvent(event: String)\n",
    "}\n",
    "\n",
    "class EventManager {\n",
    "    fun registerListener(listener: EventListener) {\n",
    "        listener.onEvent(\"이벤트 발생!\")\n",
    "    }\n",
    "}\n",
    "\n",
    "val manager = EventManager()\n",
    "\n",
    "// 익명 객체로 인터페이스 구현\n",
    "manager.registerListener(object : EventListener {\n",
    "    override fun onEvent(event: String) {\n",
    "        println(\"이벤트 수신: $event\")\n",
    "    }\n",
    "})\n",
    "\n",
    "// 변수에 익명 객체 저장\n",
    "val adHocObject = object {\n",
    "    var x = 1\n",
    "    var y = 2\n",
    "    fun sum() = x + y\n",
    "}\n",
    "\n",
    "adHocObject.sum()  // 익명 객체의 메서드 호출\n",
    "\n",
    "println(\"익명 객체의 합: ${adHocObject.sum()}\")\n",
    "adHocObject.x = 10\n",
    "println(\"x 변경 후 합: ${adHocObject.sum()}\")"
   ],
   "outputs": [
    {
     "ename": "org.jetbrains.kotlinx.jupyter.exceptions.ReplCompilerException",
     "evalue": "at Cell In[68], line 28, column 13: Unresolved reference. None of the following candidates is applicable because of receiver type mismatch: \npublic fun Array<out Byte>.sum(): Int defined in kotlin.collections\npublic fun Array<out Double>.sum(): Double defined in kotlin.collections\npublic fun Array<out Float>.sum(): Float defined in kotlin.collections\npublic fun Array<out Int>.sum(): Int defined in kotlin.collections\npublic fun Array<out Long>.sum(): Long defined in kotlin.collections\npublic fun Array<out Short>.sum(): Int defined in kotlin.collections\npublic fun Array<out UByte>.sum(): UInt defined in kotlin.collections\npublic fun Array<out UInt>.sum(): UInt defined in kotlin.collections\npublic fun Array<out ULong>.sum(): ULong defined in kotlin.collections\npublic fun Array<out UShort>.sum(): UInt defined in kotlin.collections\npublic fun ByteArray.sum(): Int defined in kotlin.collections\npublic fun DoubleArray.sum(): Double defined in kotlin.collections\npublic fun FloatArray.sum(): Float defined in kotlin.collections\npublic fun IntArray.sum(): Int defined in kotlin.collections\npublic fun LongArray.sum(): Long defined in kotlin.collections\npublic fun ShortArray.sum(): Int defined in kotlin.collections\npublic inline fun UByteArray.sum(): UInt defined in kotlin.collections\npublic inline fun UIntArray.sum(): UInt defined in kotlin.collections\npublic inline fun ULongArray.sum(): ULong defined in kotlin.collections\npublic inline fun UShortArray.sum(): UInt defined in kotlin.collections\npublic fun Iterable<Byte>.sum(): Int defined in kotlin.collections\npublic fun Iterable<Double>.sum(): Double defined in kotlin.collections\npublic fun Iterable<Float>.sum(): Float defined in kotlin.collections\npublic fun Iterable<Int>.sum(): Int defined in kotlin.collections\npublic fun Iterable<Long>.sum(): Long defined in kotlin.collections\npublic fun Iterable<Short>.sum(): Int defined in kotlin.collections\npublic fun Iterable<UByte>.sum(): UInt defined in kotlin.collections\npublic fun Iterable<UInt>.sum(): UInt defined in kotlin.collections\npublic fun Iterable<ULong>.sum(): ULong defined in kotlin.collections\npublic fun Iterable<UShort>.sum(): UInt defined in kotlin.collections\npublic fun Sequence<Byte>.sum(): Int defined in kotlin.sequences\npublic fun Sequence<Double>.sum(): Double defined in kotlin.sequences\npublic fun Sequence<Float>.sum(): Float defined in kotlin.sequences\npublic fun Sequence<Int>.sum(): Int defined in kotlin.sequences\npublic fun Sequence<Long>.sum(): Long defined in kotlin.sequences\npublic fun Sequence<Short>.sum(): Int defined in kotlin.sequences\npublic fun Sequence<UByte>.sum(): UInt defined in kotlin.sequences\npublic fun Sequence<UInt>.sum(): UInt defined in kotlin.sequences\npublic fun Sequence<ULong>.sum(): ULong defined in kotlin.sequences\npublic fun Sequence<UShort>.sum(): UInt defined in kotlin.sequences\nat Cell In[68], line 30, column 34: Unresolved reference. None of the following candidates is applicable because of receiver type mismatch: \npublic fun Array<out Byte>.sum(): Int defined in kotlin.collections\npublic fun Array<out Double>.sum(): Double defined in kotlin.collections\npublic fun Array<out Float>.sum(): Float defined in kotlin.collections\npublic fun Array<out Int>.sum(): Int defined in kotlin.collections\npublic fun Array<out Long>.sum(): Long defined in kotlin.collections\npublic fun Array<out Short>.sum(): Int defined in kotlin.collections\npublic fun Array<out UByte>.sum(): UInt defined in kotlin.collections\npublic fun Array<out UInt>.sum(): UInt defined in kotlin.collections\npublic fun Array<out ULong>.sum(): ULong defined in kotlin.collections\npublic fun Array<out UShort>.sum(): UInt defined in kotlin.collections\npublic fun ByteArray.sum(): Int defined in kotlin.collections\npublic fun DoubleArray.sum(): Double defined in kotlin.collections\npublic fun FloatArray.sum(): Float defined in kotlin.collections\npublic fun IntArray.sum(): Int defined in kotlin.collections\npublic fun LongArray.sum(): Long defined in kotlin.collections\npublic fun ShortArray.sum(): Int defined in kotlin.collections\npublic inline fun UByteArray.sum(): UInt defined in kotlin.collections\npublic inline fun UIntArray.sum(): UInt defined in kotlin.collections\npublic inline fun ULongArray.sum(): ULong defined in kotlin.collections\npublic inline fun UShortArray.sum(): UInt defined in kotlin.collections\npublic fun Iterable<Byte>.sum(): Int defined in kotlin.collections\npublic fun Iterable<Double>.sum(): Double defined in kotlin.collections\npublic fun Iterable<Float>.sum(): Float defined in kotlin.collections\npublic fun Iterable<Int>.sum(): Int defined in kotlin.collections\npublic fun Iterable<Long>.sum(): Long defined in kotlin.collections\npublic fun Iterable<Short>.sum(): Int defined in kotlin.collections\npublic fun Iterable<UByte>.sum(): UInt defined in kotlin.collections\npublic fun Iterable<UInt>.sum(): UInt defined in kotlin.collections\npublic fun Iterable<ULong>.sum(): ULong defined in kotlin.collections\npublic fun Iterable<UShort>.sum(): UInt defined in kotlin.collections\npublic fun Sequence<Byte>.sum(): Int defined in kotlin.sequences\npublic fun Sequence<Double>.sum(): Double defined in kotlin.sequences\npublic fun Sequence<Float>.sum(): Float defined in kotlin.sequences\npublic fun Sequence<Int>.sum(): Int defined in kotlin.sequences\npublic fun Sequence<Long>.sum(): Long defined in kotlin.sequences\npublic fun Sequence<Short>.sum(): Int defined in kotlin.sequences\npublic fun Sequence<UByte>.sum(): UInt defined in kotlin.sequences\npublic fun Sequence<UInt>.sum(): UInt defined in kotlin.sequences\npublic fun Sequence<ULong>.sum(): ULong defined in kotlin.sequences\npublic fun Sequence<UShort>.sum(): UInt defined in kotlin.sequences\nat Cell In[68], line 31, column 13: Unresolved reference: x\nat Cell In[68], line 32, column 34: Unresolved reference. None of the following candidates is applicable because of receiver type mismatch: \npublic fun Array<out Byte>.sum(): Int defined in kotlin.collections\npublic fun Array<out Double>.sum(): Double defined in kotlin.collections\npublic fun Array<out Float>.sum(): Float defined in kotlin.collections\npublic fun Array<out Int>.sum(): Int defined in kotlin.collections\npublic fun Array<out Long>.sum(): Long defined in kotlin.collections\npublic fun Array<out Short>.sum(): Int defined in kotlin.collections\npublic fun Array<out UByte>.sum(): UInt defined in kotlin.collections\npublic fun Array<out UInt>.sum(): UInt defined in kotlin.collections\npublic fun Array<out ULong>.sum(): ULong defined in kotlin.collections\npublic fun Array<out UShort>.sum(): UInt defined in kotlin.collections\npublic fun ByteArray.sum(): Int defined in kotlin.collections\npublic fun DoubleArray.sum(): Double defined in kotlin.collections\npublic fun FloatArray.sum(): Float defined in kotlin.collections\npublic fun IntArray.sum(): Int defined in kotlin.collections\npublic fun LongArray.sum(): Long defined in kotlin.collections\npublic fun ShortArray.sum(): Int defined in kotlin.collections\npublic inline fun UByteArray.sum(): UInt defined in kotlin.collections\npublic inline fun UIntArray.sum(): UInt defined in kotlin.collections\npublic inline fun ULongArray.sum(): ULong defined in kotlin.collections\npublic inline fun UShortArray.sum(): UInt defined in kotlin.collections\npublic fun Iterable<Byte>.sum(): Int defined in kotlin.collections\npublic fun Iterable<Double>.sum(): Double defined in kotlin.collections\npublic fun Iterable<Float>.sum(): Float defined in kotlin.collections\npublic fun Iterable<Int>.sum(): Int defined in kotlin.collections\npublic fun Iterable<Long>.sum(): Long defined in kotlin.collections\npublic fun Iterable<Short>.sum(): Int defined in kotlin.collections\npublic fun Iterable<UByte>.sum(): UInt defined in kotlin.collections\npublic fun Iterable<UInt>.sum(): UInt defined in kotlin.collections\npublic fun Iterable<ULong>.sum(): ULong defined in kotlin.collections\npublic fun Iterable<UShort>.sum(): UInt defined in kotlin.collections\npublic fun Sequence<Byte>.sum(): Int defined in kotlin.sequences\npublic fun Sequence<Double>.sum(): Double defined in kotlin.sequences\npublic fun Sequence<Float>.sum(): Float defined in kotlin.sequences\npublic fun Sequence<Int>.sum(): Int defined in kotlin.sequences\npublic fun Sequence<Long>.sum(): Long defined in kotlin.sequences\npublic fun Sequence<Short>.sum(): Int defined in kotlin.sequences\npublic fun Sequence<UByte>.sum(): UInt defined in kotlin.sequences\npublic fun Sequence<UInt>.sum(): UInt defined in kotlin.sequences\npublic fun Sequence<ULong>.sum(): ULong defined in kotlin.sequences\npublic fun Sequence<UShort>.sum(): UInt defined in kotlin.sequences",
     "output_type": "error",
     "traceback": [
      "org.jetbrains.kotlinx.jupyter.exceptions.ReplCompilerException: at Cell In[68], line 28, column 13: Unresolved reference. None of the following candidates is applicable because of receiver type mismatch: ",
      "public fun Array<out Byte>.sum(): Int defined in kotlin.collections",
      "public fun Array<out Double>.sum(): Double defined in kotlin.collections",
      "public fun Array<out Float>.sum(): Float defined in kotlin.collections",
      "public fun Array<out Int>.sum(): Int defined in kotlin.collections",
      "public fun Array<out Long>.sum(): Long defined in kotlin.collections",
      "public fun Array<out Short>.sum(): Int defined in kotlin.collections",
      "public fun Array<out UByte>.sum(): UInt defined in kotlin.collections",
      "public fun Array<out UInt>.sum(): UInt defined in kotlin.collections",
      "public fun Array<out ULong>.sum(): ULong defined in kotlin.collections",
      "public fun Array<out UShort>.sum(): UInt defined in kotlin.collections",
      "public fun ByteArray.sum(): Int defined in kotlin.collections",
      "public fun DoubleArray.sum(): Double defined in kotlin.collections",
      "public fun FloatArray.sum(): Float defined in kotlin.collections",
      "public fun IntArray.sum(): Int defined in kotlin.collections",
      "public fun LongArray.sum(): Long defined in kotlin.collections",
      "public fun ShortArray.sum(): Int defined in kotlin.collections",
      "public inline fun UByteArray.sum(): UInt defined in kotlin.collections",
      "public inline fun UIntArray.sum(): UInt defined in kotlin.collections",
      "public inline fun ULongArray.sum(): ULong defined in kotlin.collections",
      "public inline fun UShortArray.sum(): UInt defined in kotlin.collections",
      "public fun Iterable<Byte>.sum(): Int defined in kotlin.collections",
      "public fun Iterable<Double>.sum(): Double defined in kotlin.collections",
      "public fun Iterable<Float>.sum(): Float defined in kotlin.collections",
      "public fun Iterable<Int>.sum(): Int defined in kotlin.collections",
      "public fun Iterable<Long>.sum(): Long defined in kotlin.collections",
      "public fun Iterable<Short>.sum(): Int defined in kotlin.collections",
      "public fun Iterable<UByte>.sum(): UInt defined in kotlin.collections",
      "public fun Iterable<UInt>.sum(): UInt defined in kotlin.collections",
      "public fun Iterable<ULong>.sum(): ULong defined in kotlin.collections",
      "public fun Iterable<UShort>.sum(): UInt defined in kotlin.collections",
      "public fun Sequence<Byte>.sum(): Int defined in kotlin.sequences",
      "public fun Sequence<Double>.sum(): Double defined in kotlin.sequences",
      "public fun Sequence<Float>.sum(): Float defined in kotlin.sequences",
      "public fun Sequence<Int>.sum(): Int defined in kotlin.sequences",
      "public fun Sequence<Long>.sum(): Long defined in kotlin.sequences",
      "public fun Sequence<Short>.sum(): Int defined in kotlin.sequences",
      "public fun Sequence<UByte>.sum(): UInt defined in kotlin.sequences",
      "public fun Sequence<UInt>.sum(): UInt defined in kotlin.sequences",
      "public fun Sequence<ULong>.sum(): ULong defined in kotlin.sequences",
      "public fun Sequence<UShort>.sum(): UInt defined in kotlin.sequences",
      "at Cell In[68], line 30, column 34: Unresolved reference. None of the following candidates is applicable because of receiver type mismatch: ",
      "public fun Array<out Byte>.sum(): Int defined in kotlin.collections",
      "public fun Array<out Double>.sum(): Double defined in kotlin.collections",
      "public fun Array<out Float>.sum(): Float defined in kotlin.collections",
      "public fun Array<out Int>.sum(): Int defined in kotlin.collections",
      "public fun Array<out Long>.sum(): Long defined in kotlin.collections",
      "public fun Array<out Short>.sum(): Int defined in kotlin.collections",
      "public fun Array<out UByte>.sum(): UInt defined in kotlin.collections",
      "public fun Array<out UInt>.sum(): UInt defined in kotlin.collections",
      "public fun Array<out ULong>.sum(): ULong defined in kotlin.collections",
      "public fun Array<out UShort>.sum(): UInt defined in kotlin.collections",
      "public fun ByteArray.sum(): Int defined in kotlin.collections",
      "public fun DoubleArray.sum(): Double defined in kotlin.collections",
      "public fun FloatArray.sum(): Float defined in kotlin.collections",
      "public fun IntArray.sum(): Int defined in kotlin.collections",
      "public fun LongArray.sum(): Long defined in kotlin.collections",
      "public fun ShortArray.sum(): Int defined in kotlin.collections",
      "public inline fun UByteArray.sum(): UInt defined in kotlin.collections",
      "public inline fun UIntArray.sum(): UInt defined in kotlin.collections",
      "public inline fun ULongArray.sum(): ULong defined in kotlin.collections",
      "public inline fun UShortArray.sum(): UInt defined in kotlin.collections",
      "public fun Iterable<Byte>.sum(): Int defined in kotlin.collections",
      "public fun Iterable<Double>.sum(): Double defined in kotlin.collections",
      "public fun Iterable<Float>.sum(): Float defined in kotlin.collections",
      "public fun Iterable<Int>.sum(): Int defined in kotlin.collections",
      "public fun Iterable<Long>.sum(): Long defined in kotlin.collections",
      "public fun Iterable<Short>.sum(): Int defined in kotlin.collections",
      "public fun Iterable<UByte>.sum(): UInt defined in kotlin.collections",
      "public fun Iterable<UInt>.sum(): UInt defined in kotlin.collections",
      "public fun Iterable<ULong>.sum(): ULong defined in kotlin.collections",
      "public fun Iterable<UShort>.sum(): UInt defined in kotlin.collections",
      "public fun Sequence<Byte>.sum(): Int defined in kotlin.sequences",
      "public fun Sequence<Double>.sum(): Double defined in kotlin.sequences",
      "public fun Sequence<Float>.sum(): Float defined in kotlin.sequences",
      "public fun Sequence<Int>.sum(): Int defined in kotlin.sequences",
      "public fun Sequence<Long>.sum(): Long defined in kotlin.sequences",
      "public fun Sequence<Short>.sum(): Int defined in kotlin.sequences",
      "public fun Sequence<UByte>.sum(): UInt defined in kotlin.sequences",
      "public fun Sequence<UInt>.sum(): UInt defined in kotlin.sequences",
      "public fun Sequence<ULong>.sum(): ULong defined in kotlin.sequences",
      "public fun Sequence<UShort>.sum(): UInt defined in kotlin.sequences",
      "at Cell In[68], line 31, column 13: Unresolved reference: x",
      "at Cell In[68], line 32, column 34: Unresolved reference. None of the following candidates is applicable because of receiver type mismatch: ",
      "public fun Array<out Byte>.sum(): Int defined in kotlin.collections",
      "public fun Array<out Double>.sum(): Double defined in kotlin.collections",
      "public fun Array<out Float>.sum(): Float defined in kotlin.collections",
      "public fun Array<out Int>.sum(): Int defined in kotlin.collections",
      "public fun Array<out Long>.sum(): Long defined in kotlin.collections",
      "public fun Array<out Short>.sum(): Int defined in kotlin.collections",
      "public fun Array<out UByte>.sum(): UInt defined in kotlin.collections",
      "public fun Array<out UInt>.sum(): UInt defined in kotlin.collections",
      "public fun Array<out ULong>.sum(): ULong defined in kotlin.collections",
      "public fun Array<out UShort>.sum(): UInt defined in kotlin.collections",
      "public fun ByteArray.sum(): Int defined in kotlin.collections",
      "public fun DoubleArray.sum(): Double defined in kotlin.collections",
      "public fun FloatArray.sum(): Float defined in kotlin.collections",
      "public fun IntArray.sum(): Int defined in kotlin.collections",
      "public fun LongArray.sum(): Long defined in kotlin.collections",
      "public fun ShortArray.sum(): Int defined in kotlin.collections",
      "public inline fun UByteArray.sum(): UInt defined in kotlin.collections",
      "public inline fun UIntArray.sum(): UInt defined in kotlin.collections",
      "public inline fun ULongArray.sum(): ULong defined in kotlin.collections",
      "public inline fun UShortArray.sum(): UInt defined in kotlin.collections",
      "public fun Iterable<Byte>.sum(): Int defined in kotlin.collections",
      "public fun Iterable<Double>.sum(): Double defined in kotlin.collections",
      "public fun Iterable<Float>.sum(): Float defined in kotlin.collections",
      "public fun Iterable<Int>.sum(): Int defined in kotlin.collections",
      "public fun Iterable<Long>.sum(): Long defined in kotlin.collections",
      "public fun Iterable<Short>.sum(): Int defined in kotlin.collections",
      "public fun Iterable<UByte>.sum(): UInt defined in kotlin.collections",
      "public fun Iterable<UInt>.sum(): UInt defined in kotlin.collections",
      "public fun Iterable<ULong>.sum(): ULong defined in kotlin.collections",
      "public fun Iterable<UShort>.sum(): UInt defined in kotlin.collections",
      "public fun Sequence<Byte>.sum(): Int defined in kotlin.sequences",
      "public fun Sequence<Double>.sum(): Double defined in kotlin.sequences",
      "public fun Sequence<Float>.sum(): Float defined in kotlin.sequences",
      "public fun Sequence<Int>.sum(): Int defined in kotlin.sequences",
      "public fun Sequence<Long>.sum(): Long defined in kotlin.sequences",
      "public fun Sequence<Short>.sum(): Int defined in kotlin.sequences",
      "public fun Sequence<UByte>.sum(): UInt defined in kotlin.sequences",
      "public fun Sequence<UInt>.sum(): UInt defined in kotlin.sequences",
      "public fun Sequence<ULong>.sum(): ULong defined in kotlin.sequences",
      "public fun Sequence<UShort>.sum(): UInt defined in kotlin.sequences",
      "\tat org.jetbrains.kotlinx.jupyter.repl.impl.JupyterCompilerImpl.compileSync(JupyterCompilerImpl.kt:152)",
      "\tat org.jetbrains.kotlinx.jupyter.repl.impl.InternalEvaluatorImpl.eval(InternalEvaluatorImpl.kt:127)",
      "\tat org.jetbrains.kotlinx.jupyter.repl.impl.CellExecutorImpl.execute_L4Nmkdk$lambda$9$lambda$1(CellExecutorImpl.kt:80)",
      "\tat org.jetbrains.kotlinx.jupyter.repl.impl.ReplForJupyterImpl.withHost(ReplForJupyterImpl.kt:794)",
      "\tat org.jetbrains.kotlinx.jupyter.repl.impl.CellExecutorImpl.execute-L4Nmkdk(CellExecutorImpl.kt:78)",
      "\tat org.jetbrains.kotlinx.jupyter.repl.execution.CellExecutor.execute-L4Nmkdk$default(CellExecutor.kt:14)",
      "\tat org.jetbrains.kotlinx.jupyter.repl.impl.ReplForJupyterImpl.evaluateUserCode-wNURfNM(ReplForJupyterImpl.kt:616)",
      "\tat org.jetbrains.kotlinx.jupyter.repl.impl.ReplForJupyterImpl.evalExImpl(ReplForJupyterImpl.kt:474)",
      "\tat org.jetbrains.kotlinx.jupyter.repl.impl.ReplForJupyterImpl.evalEx$lambda$20(ReplForJupyterImpl.kt:467)",
      "\tat org.jetbrains.kotlinx.jupyter.repl.impl.ReplForJupyterImpl.withEvalContext(ReplForJupyterImpl.kt:447)",
      "\tat org.jetbrains.kotlinx.jupyter.repl.impl.ReplForJupyterImpl.evalEx(ReplForJupyterImpl.kt:466)",
      "\tat org.jetbrains.kotlinx.jupyter.messaging.IdeCompatibleMessageRequestProcessor.processExecuteRequest$lambda$7$lambda$6$lambda$5(IdeCompatibleMessageRequestProcessor.kt:160)",
      "\tat org.jetbrains.kotlinx.jupyter.streams.BlockingSubstitutionEngine.withDataSubstitution(SubstitutionEngine.kt:70)",
      "\tat org.jetbrains.kotlinx.jupyter.streams.StreamSubstitutionManager.withSubstitutedStreams(StreamSubstitutionManager.kt:118)",
      "\tat org.jetbrains.kotlinx.jupyter.messaging.IdeCompatibleMessageRequestProcessor.withForkedIn(IdeCompatibleMessageRequestProcessor.kt:354)",
      "\tat org.jetbrains.kotlinx.jupyter.messaging.IdeCompatibleMessageRequestProcessor.evalWithIO$lambda$16$lambda$15(IdeCompatibleMessageRequestProcessor.kt:368)",
      "\tat org.jetbrains.kotlinx.jupyter.streams.BlockingSubstitutionEngine.withDataSubstitution(SubstitutionEngine.kt:70)",
      "\tat org.jetbrains.kotlinx.jupyter.streams.StreamSubstitutionManager.withSubstitutedStreams(StreamSubstitutionManager.kt:118)",
      "\tat org.jetbrains.kotlinx.jupyter.messaging.IdeCompatibleMessageRequestProcessor.withForkedErr(IdeCompatibleMessageRequestProcessor.kt:343)",
      "\tat org.jetbrains.kotlinx.jupyter.messaging.IdeCompatibleMessageRequestProcessor.evalWithIO$lambda$16(IdeCompatibleMessageRequestProcessor.kt:367)",
      "\tat org.jetbrains.kotlinx.jupyter.streams.BlockingSubstitutionEngine.withDataSubstitution(SubstitutionEngine.kt:70)",
      "\tat org.jetbrains.kotlinx.jupyter.streams.StreamSubstitutionManager.withSubstitutedStreams(StreamSubstitutionManager.kt:118)",
      "\tat org.jetbrains.kotlinx.jupyter.messaging.IdeCompatibleMessageRequestProcessor.withForkedOut(IdeCompatibleMessageRequestProcessor.kt:335)",
      "\tat org.jetbrains.kotlinx.jupyter.messaging.IdeCompatibleMessageRequestProcessor.evalWithIO(IdeCompatibleMessageRequestProcessor.kt:366)",
      "\tat org.jetbrains.kotlinx.jupyter.messaging.IdeCompatibleMessageRequestProcessor.processExecuteRequest$lambda$7$lambda$6(IdeCompatibleMessageRequestProcessor.kt:159)",
      "\tat org.jetbrains.kotlinx.jupyter.execution.JupyterExecutorImpl$Task.execute(JupyterExecutorImpl.kt:41)",
      "\tat org.jetbrains.kotlinx.jupyter.execution.JupyterExecutorImpl.executorThread$lambda$0(JupyterExecutorImpl.kt:83)",
      "\tat kotlin.concurrent.ThreadsKt$thread$thread$1.run(Thread.kt:30)",
      ""
     ]
    }
   ],
   "execution_count": 68
  },
  {
   "cell_type": "markdown",
   "metadata": {},
   "source": [
    "### 💡 핵심 포인트\n",
    "- **object 선언**: 싱글톤 패턴을 언어 레벨에서 지원\n",
    "- **companion object**: Java의 static 멤버와 유사하지만 더 강력\n",
    "- **object 표현식**: Java의 익명 내부 클래스와 유사\n",
    "- **thread-safe**: 싱글톤 객체는 자동으로 thread-safe"
   ]
  },
  {
   "cell_type": "markdown",
   "metadata": {},
   "source": [
    "## 실습 과제\n",
    "\n",
    "학습한 OOP 개념들을 활용하여 간단한 도서관 관리 시스템을 구현해보세요."
   ]
  },
  {
   "cell_type": "code",
   "metadata": {
    "ExecuteTime": {
     "end_time": "2025-07-11T06:41:36.152414Z",
     "start_time": "2025-07-11T06:41:36.081977Z"
    }
   },
   "source": [
    "// 과제: 도서관 관리 시스템\n",
    "// TODO: 다음 요구사항을 만족하는 시스템을 구현하세요\n",
    "\n",
    "// 1. Book 데이터 클래스 (title, author, isbn)\n",
    "// 2. Member 클래스 (name, memberId)\n",
    "// 3. Borrowable 인터페이스 (borrow(), return() 메서드)\n",
    "// 4. Library 싱글톤 객체 (도서 추가, 대출, 반납 기능)\n",
    "// 5. BorrowResult sealed 클래스 (Success, BookNotAvailable, MemberNotFound)\n",
    "\n",
    "// 여기에 코드를 작성하세요\n",
    "data class Book(val title: String, val author: String, val borrowed: Boolean)\n",
    "class Member(val name: String, val memberId: Int)\n",
    "interface Borrowable {\n",
    "    fun borrow()\n",
    "    fun returnBook()\n",
    "}\n",
    "object Library: Borrowable {\n",
    "    private val books = mutableListOf<Book>()\n",
    "    private val members = mutableListOf<Member>()\n",
    "\n",
    "    fun addBook(book: Book) {\n",
    "        books.add(book)\n",
    "    }\n",
    "\n",
    "    fun addMember(member: Member) {\n",
    "        members.add(member)\n",
    "    }\n",
    "\n",
    "    override fun borrow() {\n",
    "        // 대출 로직 구현\n",
    "    }\n",
    "\n",
    "    override fun returnBook() {\n",
    "        // 반납 로직 구현\n",
    "    }\n",
    "}\n",
    "\n",
    "sealed class BorrowResult {\n",
    "    data class Success(val book: Book) : BorrowResult()\n",
    "    data class BookNotAvailable(val book: Book) : BorrowResult()\n",
    "    data class MemberNotFound(val memberId: Int) : BorrowResult()\n",
    "}"
   ],
   "outputs": [],
   "execution_count": 69
  }
 ],
 "metadata": {
  "kernelspec": {
   "display_name": "Kotlin",
   "language": "kotlin",
   "name": "kotlin"
  },
  "language_info": {
   "codemirror_mode": "text/x-kotlin",
   "file_extension": ".kt",
   "mimetype": "text/x-kotlin",
   "name": "kotlin",
   "nbconvert_exporter": "",
   "pygments_lexer": "kotlin",
   "version": "1.8.0"
  }
 },
 "nbformat": 4,
 "nbformat_minor": 4
}
