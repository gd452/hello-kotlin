{
 "cells": [
  {
   "cell_type": "markdown",
   "metadata": {},
   "source": [
    "# Kotlin 함수형 프로그래밍\n",
    "## Java 8+, Python, JavaScript와 비교하며 배우는 Kotlin 함수형 프로그래밍\n",
    "\n",
    "이 노트북에서는 Kotlin의 함수형 프로그래밍 기능을 학습합니다.\n",
    "\n",
    "### 학습 내용\n",
    "1. 람다 표현식\n",
    "2. 고차 함수\n",
    "3. 컬렉션 함수형 연산\n",
    "4. 시퀀스와 지연 평가\n",
    "5. 함수 합성과 파이프라인"
   ]
  },
  {
   "cell_type": "markdown",
   "metadata": {},
   "source": [
    "## 1. 람다 표현식\n",
    "\n",
    "람다는 이름 없는 함수로, 값처럼 다룰 수 있습니다. Python의 lambda, Java 8의 람다, JavaScript의 화살표 함수와 유사합니다."
   ]
  },
  {
   "cell_type": "code",
   "execution_count": null,
   "metadata": {},
   "outputs": [],
   "source": [
    "// 기본 람다 표현식\n",
    "val sum = { a: Int, b: Int -> a + b }\n",
    "println(\"람다로 더하기: 5 + 3 = ${sum(5, 3)}\")\n",
    "\n",
    "// 타입 명시가 있는 람다\n",
    "val greet: (String) -> String = { name -> \"안녕하세요, ${name}님!\" }\n",
    "println(greet(\"Kotlin\"))\n",
    "\n",
    "// 단일 매개변수는 it으로 참조 가능\n",
    "val isEven: (Int) -> Boolean = { it % 2 == 0 }\n",
    "println(\"4는 짝수인가? ${isEven(4)}\")\n",
    "println(\"7은 짝수인가? ${isEven(7)}\")"
   ]
  },
  {
   "cell_type": "code",
   "execution_count": null,
   "metadata": {},
   "outputs": [],
   "source": [
    "// 람다와 컬렉션\n",
    "val numbers = listOf(1, 2, 3, 4, 5)\n",
    "\n",
    "// map: 각 요소를 변환 (Python의 map, Java의 stream().map()과 유사)\n",
    "val doubled = numbers.map { it * 2 }\n",
    "println(\"원본: $numbers\")\n",
    "println(\"2배: $doubled\")\n",
    "\n",
    "// 명시적 매개변수명 사용\n",
    "val tripled = numbers.map { number -> number * 3 }\n",
    "println(\"3배: $tripled\")"
   ]
  },
  {
   "cell_type": "code",
   "execution_count": null,
   "metadata": {},
   "outputs": [],
   "source": [
    "// 여러 줄 람다\n",
    "val longGreeting = { name: String, time: String ->\n",
    "    when (time) {\n",
    "        \"morning\" -> \"좋은 아침입니다, ${name}님!\"\n",
    "        \"evening\" -> \"좋은 저녁입니다, ${name}님!\"\n",
    "        else -> \"안녕하세요, ${name}님!\"\n",
    "    }\n",
    "}\n",
    "\n",
    "println(longGreeting(\"개발자\", \"morning\"))\n",
    "println(longGreeting(\"학생\", \"evening\"))\n",
    "println(longGreeting(\"방문자\", \"afternoon\"))"
   ]
  },
  {
   "cell_type": "code",
   "execution_count": null,
   "metadata": {},
   "outputs": [],
   "source": [
    "// 클로저: 외부 변수 캡처\n",
    "var counter = 0\n",
    "\n",
    "val increment = {\n",
    "    counter++  // 외부 변수를 캡처하여 수정\n",
    "    println(\"카운터: $counter\")\n",
    "}\n",
    "\n",
    "increment()\n",
    "increment()\n",
    "increment()"
   ]
  },
  {
   "cell_type": "markdown",
   "metadata": {},
   "source": [
    "### 💡 핵심 포인트\n",
    "- **Python의 lambda보다** 더 강력하고 다양한 문법 지원\n",
    "- **Java 8 람다와 유사**하지만 더 간결한 문법\n",
    "- **JavaScript의 화살표 함수처럼** 클로저 지원\n",
    "- **it 키워드**로 단일 매개변수 간단히 참조"
   ]
  },
  {
   "cell_type": "markdown",
   "metadata": {},
   "source": [
    "## 2. 고차 함수\n",
    "\n",
    "함수를 매개변수로 받거나 함수를 반환하는 함수입니다."
   ]
  },
  {
   "cell_type": "code",
   "execution_count": null,
   "metadata": {},
   "outputs": [],
   "source": [
    "// 함수를 매개변수로 받는 고차 함수\n",
    "fun calculate(a: Int, b: Int, operation: (Int, Int) -> Int): Int {\n",
    "    return operation(a, b)\n",
    "}\n",
    "\n",
    "// 다양한 연산 정의\n",
    "val add = { x: Int, y: Int -> x + y }\n",
    "val multiply = { x: Int, y: Int -> x * y }\n",
    "val subtract = { x: Int, y: Int -> x - y }\n",
    "\n",
    "println(\"10 + 5 = ${calculate(10, 5, add)}\")\n",
    "println(\"10 * 5 = ${calculate(10, 5, multiply)}\")\n",
    "println(\"10 - 5 = ${calculate(10, 5, subtract)}\")\n",
    "\n",
    "// 인라인 람다 사용\n",
    "println(\"10 / 5 = ${calculate(10, 5) { x, y -> x / y }}\")"
   ]
  },
  {
   "cell_type": "code",
   "execution_count": null,
   "metadata": {},
   "outputs": [],
   "source": [
    "// 함수를 반환하는 고차 함수 (커링과 유사)\n",
    "fun createMultiplier(factor: Int): (Int) -> Int {\n",
    "    return { number -> number * factor }\n",
    "}\n",
    "\n",
    "val double = createMultiplier(2)\n",
    "val triple = createMultiplier(3)\n",
    "val quadruple = createMultiplier(4)\n",
    "\n",
    "println(\"7의 2배: ${double(7)}\")\n",
    "println(\"7의 3배: ${triple(7)}\")\n",
    "println(\"7의 4배: ${quadruple(7)}\")\n",
    "\n",
    "// 리스트에 적용\n",
    "val numbers = listOf(1, 2, 3, 4, 5)\n",
    "println(\"모든 수를 3배로: ${numbers.map(triple)}\")"
   ]
  },
  {
   "cell_type": "code",
   "execution_count": null,
   "metadata": {},
   "outputs": [],
   "source": [
    "// 확장 함수와 고차 함수의 조합\n",
    "fun String.processText(transform: (String) -> String): String {\n",
    "    return transform(this)\n",
    "}\n",
    "\n",
    "val text = \"hello kotlin\"\n",
    "\n",
    "// 다양한 변환 적용\n",
    "println(\"대문자: ${text.processText { it.uppercase() }}\")\n",
    "println(\"역순: ${text.processText { it.reversed() }}\")\n",
    "println(\"첫 글자 대문자: ${text.processText { it.capitalize() }}\")\n",
    "println(\"단어별 대문자: ${text.processText { \n",
    "    it.split(\" \").joinToString(\" \") { word -> word.capitalize() }\n",
    "}}\")"
   ]
  },
  {
   "cell_type": "code",
   "execution_count": null,
   "metadata": {},
   "outputs": [],
   "source": [
    "// 실용적인 고차 함수 예제: 재시도 로직\n",
    "fun <T> retry(times: Int, block: () -> T?): T? {\n",
    "    repeat(times) { attempt ->\n",
    "        val result = block()\n",
    "        if (result != null) {\n",
    "            println(\"성공! (시도 ${attempt + 1}회)\")\n",
    "            return result\n",
    "        }\n",
    "        println(\"실패... (시도 ${attempt + 1}회)\")\n",
    "    }\n",
    "    return null\n",
    "}\n",
    "\n",
    "// 시뮬레이션: 50% 확률로 성공\n",
    "val result = retry(5) {\n",
    "    if (Math.random() > 0.5) \"데이터 로드 성공\" else null\n",
    "}\n",
    "\n",
    "println(\"최종 결과: $result\")"
   ]
  },
  {
   "cell_type": "markdown",
   "metadata": {},
   "source": [
    "### 💡 핵심 포인트\n",
    "- **일급 함수**: 함수를 값처럼 다룰 수 있음\n",
    "- **커링과 부분 적용** 패턴 구현 가능\n",
    "- **전략 패턴**을 함수로 간단히 구현\n",
    "- **코드 재사용성**과 모듈화 향상"
   ]
  },
  {
   "cell_type": "markdown",
   "metadata": {},
   "source": [
    "## 3. 컬렉션 함수형 연산\n",
    "\n",
    "Kotlin은 컬렉션을 다루는 풍부한 함수형 API를 제공합니다."
   ]
  },
  {
   "cell_type": "code",
   "execution_count": null,
   "metadata": {},
   "outputs": [],
   "source": [
    "// 기본 컬렉션 연산\n",
    "val numbers = listOf(1, 2, 3, 4, 5, 6, 7, 8, 9, 10)\n",
    "println(\"원본: $numbers\")\n",
    "\n",
    "// filter: 조건에 맞는 요소만 선택\n",
    "val evenNumbers = numbers.filter { it % 2 == 0 }\n",
    "println(\"짝수: $evenNumbers\")\n",
    "\n",
    "// map: 각 요소를 변환\n",
    "val squared = numbers.map { it * it }\n",
    "println(\"제곱: $squared\")\n",
    "\n",
    "// filter + map 체이닝\n",
    "val evenSquared = numbers\n",
    "    .filter { it % 2 == 0 }\n",
    "    .map { it * it }\n",
    "println(\"짝수의 제곱: $evenSquared\")"
   ]
  },
  {
   "cell_type": "code",
   "execution_count": null,
   "metadata": {},
   "outputs": [],
   "source": [
    "// reduce와 fold\n",
    "val numbers = listOf(1, 2, 3, 4, 5)\n",
    "\n",
    "// reduce: 첫 번째 요소부터 시작\n",
    "val sum = numbers.reduce { acc, n -> acc + n }\n",
    "println(\"합계 (reduce): $sum\")\n",
    "\n",
    "val product = numbers.reduce { acc, n -> acc * n }\n",
    "println(\"곱 (reduce): $product\")\n",
    "\n",
    "// fold: 초기값 지정 가능\n",
    "val sumFrom100 = numbers.fold(100) { acc, n -> acc + n }\n",
    "println(\"100부터 시작한 합계 (fold): $sumFrom100\")\n",
    "\n",
    "// 문자열 연결\n",
    "val words = listOf(\"Kotlin\", \"is\", \"awesome\")\n",
    "val sentence = words.fold(\"\") { acc, word -> \"$acc $word\" }.trim()\n",
    "println(\"문장: $sentence\")"
   ]
  },
  {
   "cell_type": "code",
   "execution_count": null,
   "metadata": {},
   "outputs": [],
   "source": [
    "// 실용적인 예제: 사람 데이터 처리\n",
    "data class Person(val name: String, val age: Int, val city: String)\n",
    "\n",
    "val people = listOf(\n",
    "    Person(\"김철수\", 25, \"서울\"),\n",
    "    Person(\"이영희\", 30, \"부산\"),\n",
    "    Person(\"박민수\", 22, \"서울\"),\n",
    "    Person(\"정지은\", 28, \"대구\"),\n",
    "    Person(\"최동욱\", 35, \"서울\"),\n",
    "    Person(\"강미나\", 26, \"부산\")\n",
    ")\n",
    "\n",
    "// 필터링\n",
    "val seoulPeople = people.filter { it.city == \"서울\" }\n",
    "println(\"서울 거주자:\")\n",
    "seoulPeople.forEach { println(\"  - ${it.name} (${it.age}세)\") }\n",
    "\n",
    "// 매핑\n",
    "val names = people.map { it.name }\n",
    "println(\"\\n이름 목록: $names\")\n",
    "\n",
    "// 평균 계산\n",
    "val averageAge = people.map { it.age }.average()\n",
    "println(\"평균 나이: %.1f세\".format(averageAge))"
   ]
  },
  {
   "cell_type": "code",
   "execution_count": null,
   "metadata": {},
   "outputs": [],
   "source": [
    "// 그룹핑과 정렬\n",
    "val people = listOf(\n",
    "    Person(\"김철수\", 25, \"서울\"),\n",
    "    Person(\"이영희\", 30, \"부산\"),\n",
    "    Person(\"박민수\", 22, \"서울\"),\n",
    "    Person(\"정지은\", 28, \"대구\"),\n",
    "    Person(\"최동욱\", 35, \"서울\"),\n",
    "    Person(\"강미나\", 26, \"부산\")\n",
    ")\n",
    "\n",
    "// groupBy: 특정 기준으로 그룹화\n",
    "val peopleByCity = people.groupBy { it.city }\n",
    "println(\"도시별 그룹:\")\n",
    "peopleByCity.forEach { (city, residents) ->\n",
    "    println(\"  $city: ${residents.map { it.name }}\")\n",
    "}\n",
    "\n",
    "// sortedBy: 정렬\n",
    "val sortedByAge = people.sortedBy { it.age }\n",
    "println(\"\\n나이순 정렬:\")\n",
    "sortedByAge.forEach { println(\"  ${it.name} (${it.age}세)\") }\n",
    "\n",
    "// sortedByDescending: 역순 정렬\n",
    "val sortedByAgeDesc = people.sortedByDescending { it.age }\n",
    "println(\"\\n나이 역순:\")\n",
    "sortedByAgeDesc.take(3).forEach { println(\"  ${it.name} (${it.age}세)\") }"
   ]
  },
  {
   "cell_type": "code",
   "execution_count": null,
   "metadata": {},
   "outputs": [],
   "source": [
    "// 고급 컬렉션 연산\n",
    "val numbers = listOf(1, 2, 3, 4, 5, 6, 7, 8, 9, 10)\n",
    "\n",
    "// partition: 조건에 따라 두 그룹으로 분할\n",
    "val (evens, odds) = numbers.partition { it % 2 == 0 }\n",
    "println(\"짝수: $evens\")\n",
    "println(\"홀수: $odds\")\n",
    "\n",
    "// any, all, none\n",
    "println(\"\\n조건 검사:\")\n",
    "println(\"10보다 큰 수가 있는가? ${numbers.any { it > 10 }}\")\n",
    "println(\"모두 양수인가? ${numbers.all { it > 0 }}\")\n",
    "println(\"음수가 없는가? ${numbers.none { it < 0 }}\")\n",
    "\n",
    "// find, firstOrNull\n",
    "val firstEven = numbers.find { it % 2 == 0 }\n",
    "println(\"\\n첫 번째 짝수: $firstEven\")\n",
    "\n",
    "val firstOver10 = numbers.firstOrNull { it > 10 }\n",
    "println(\"10보다 큰 첫 번째 수: $firstOver10\")\n",
    "\n",
    "// flatMap\n",
    "val nestedList = listOf(\n",
    "    listOf(1, 2, 3),\n",
    "    listOf(4, 5),\n",
    "    listOf(6, 7, 8, 9)\n",
    ")\n",
    "val flattened = nestedList.flatMap { it }\n",
    "println(\"\\n평탄화: $flattened\")"
   ]
  },
  {
   "cell_type": "markdown",
   "metadata": {},
   "source": [
    "### 💡 핵심 포인트\n",
    "- **Java Stream API와 유사**하지만 더 간결\n",
    "- **Python의 리스트 컴프리헨션**보다 명시적\n",
    "- **체이닝**으로 복잡한 데이터 처리 파이프라인 구성\n",
    "- **불변성**: 원본 컬렉션은 변경되지 않음"
   ]
  },
  {
   "cell_type": "markdown",
   "metadata": {},
   "source": [
    "## 4. 시퀀스와 지연 평가\n",
    "\n",
    "시퀀스는 지연 평가를 통해 대용량 데이터를 효율적으로 처리합니다."
   ]
  },
  {
   "cell_type": "code",
   "execution_count": null,
   "metadata": {},
   "outputs": [],
   "source": [
    "// 즉시 평가 vs 지연 평가\n",
    "val numbers = (1..1000000).toList()\n",
    "\n",
    "// 즉시 평가: 각 단계마다 새로운 리스트 생성\n",
    "val eagerResult = numbers\n",
    "    .filter { it % 2 == 0 }    // 500,000개 리스트 생성\n",
    "    .map { it * it }           // 500,000개 리스트 생성\n",
    "    .take(5)                   // 5개 리스트 생성\n",
    "\n",
    "println(\"즉시 평가 결과: $eagerResult\")\n",
    "\n",
    "// 지연 평가: 필요한 만큼만 계산\n",
    "val lazyResult = numbers.asSequence()\n",
    "    .filter { it % 2 == 0 }    // 연산만 기록\n",
    "    .map { it * it }           // 연산만 기록\n",
    "    .take(5)                   // 연산만 기록\n",
    "    .toList()                  // 실제 계산 수행\n",
    "\n",
    "println(\"지연 평가 결과: $lazyResult\")"
   ]
  },
  {
   "cell_type": "code",
   "execution_count": null,
   "metadata": {},
   "outputs": [],
   "source": [
    "// 무한 시퀀스\n",
    "val infiniteSequence = generateSequence(1) { it + 1 }\n",
    "\n",
    "// 3의 배수 중 처음 10개\n",
    "val multiplesOf3 = infiniteSequence\n",
    "    .filter { it % 3 == 0 }\n",
    "    .take(10)\n",
    "    .toList()\n",
    "\n",
    "println(\"3의 배수 (처음 10개): $multiplesOf3\")\n",
    "\n",
    "// 제곱수 생성\n",
    "val squares = generateSequence(1) { it + 1 }\n",
    "    .map { it * it }\n",
    "    .takeWhile { it < 100 }\n",
    "    .toList()\n",
    "\n",
    "println(\"100 미만의 제곱수: $squares\")"
   ]
  },
  {
   "cell_type": "code",
   "execution_count": null,
   "metadata": {},
   "outputs": [],
   "source": [
    "// 피보나치 수열 생성\n",
    "fun fibonacci(): Sequence<Int> = sequence {\n",
    "    var a = 0\n",
    "    var b = 1\n",
    "    \n",
    "    yield(a)  // 첫 번째 값 반환\n",
    "    yield(b)  // 두 번째 값 반환\n",
    "    \n",
    "    while (true) {\n",
    "        val next = a + b\n",
    "        yield(next)  // 다음 값 반환\n",
    "        a = b\n",
    "        b = next\n",
    "    }\n",
    "}\n",
    "\n",
    "// 피보나치 수열의 처음 15개\n",
    "val fib = fibonacci().take(15).toList()\n",
    "println(\"피보나치 수열: $fib\")\n",
    "\n",
    "// 1000 미만의 피보나치 수\n",
    "val fibUnder1000 = fibonacci()\n",
    "    .takeWhile { it < 1000 }\n",
    "    .toList()\n",
    "println(\"1000 미만 피보나치: $fibUnder1000\")"
   ]
  },
  {
   "cell_type": "code",
   "execution_count": null,
   "metadata": {},
   "outputs": [],
   "source": [
    "// 시퀀스 연산의 실행 순서 확인\n",
    "println(\"=== 즉시 평가 ===\")\n",
    "(1..5).toList()\n",
    "    .filter { \n",
    "        println(\"filter: $it\")\n",
    "        it % 2 == 0 \n",
    "    }\n",
    "    .map { \n",
    "        println(\"map: $it\")\n",
    "        it * it \n",
    "    }\n",
    "\n",
    "println(\"\\n=== 지연 평가 ===\")\n",
    "(1..5).asSequence()\n",
    "    .filter { \n",
    "        println(\"filter: $it\")\n",
    "        it % 2 == 0 \n",
    "    }\n",
    "    .map { \n",
    "        println(\"map: $it\")\n",
    "        it * it \n",
    "    }\n",
    "    .toList()  // 터미널 연산"
   ]
  },
  {
   "cell_type": "markdown",
   "metadata": {},
   "source": [
    "### 💡 핵심 포인트\n",
    "- **Java Stream과 유사**한 지연 평가\n",
    "- **Python의 generator**와 비슷한 개념\n",
    "- **메모리 효율적**: 중간 컬렉션 생성 없음\n",
    "- **무한 시퀀스** 처리 가능"
   ]
  },
  {
   "cell_type": "markdown",
   "metadata": {},
   "source": [
    "## 5. 함수 합성과 파이프라인\n",
    "\n",
    "함수들을 조합하여 더 복잡한 연산을 만들 수 있습니다."
   ]
  },
  {
   "cell_type": "code",
   "execution_count": null,
   "metadata": {},
   "outputs": [],
   "source": [
    "// 기본 함수들\n",
    "val trim = { s: String -> s.trim() }\n",
    "val uppercase = { s: String -> s.uppercase() }\n",
    "val addPrefix = { s: String -> \"PREFIX: $s\" }\n",
    "val addSuffix = { s: String -> \"$s :SUFFIX\" }\n",
    "\n",
    "// 함수 합성\n",
    "fun <A, B, C> compose(f: (B) -> C, g: (A) -> B): (A) -> C = { x -> f(g(x)) }\n",
    "\n",
    "val processText = compose(compose(addPrefix, uppercase), trim)\n",
    "println(processText(\"  hello world  \"))\n",
    "\n",
    "// 여러 함수 합성\n",
    "val fullProcess = compose(addSuffix, compose(addPrefix, compose(uppercase, trim)))\n",
    "println(fullProcess(\"  kotlin  \"))"
   ]
  },
  {
   "cell_type": "code",
   "execution_count": null,
   "metadata": {},
   "outputs": [],
   "source": [
    "// 파이프라인 스타일 (더 읽기 쉬운 방식)\n",
    "infix fun <A, B> ((A) -> B).then(next: (B) -> B): (A) -> B = { x -> next(this(x)) }\n",
    "\n",
    "val pipeline = trim then uppercase then addPrefix then addSuffix\n",
    "println(pipeline(\"  kotlin functional  \"))\n",
    "\n",
    "// 여러 변환 파이프라인\n",
    "val removeSpaces = { s: String -> s.replace(\" \", \"\") }\n",
    "val reverse = { s: String -> s.reversed() }\n",
    "\n",
    "val complexPipeline = trim then removeSpaces then uppercase then reverse\n",
    "println(complexPipeline(\"  hello kotlin  \"))"
   ]
  },
  {
   "cell_type": "code",
   "execution_count": null,
   "metadata": {},
   "outputs": [],
   "source": [
    "// 실용적인 예제: 주문 처리 파이프라인\n",
    "data class Order(val id: Int, val amount: Double, val status: String)\n",
    "\n",
    "val orders = listOf(\n",
    "    Order(1, 100.0, \"completed\"),\n",
    "    Order(2, 250.0, \"pending\"),\n",
    "    Order(3, 150.0, \"completed\"),\n",
    "    Order(4, 300.0, \"cancelled\"),\n",
    "    Order(5, 200.0, \"completed\"),\n",
    "    Order(6, 175.0, \"pending\")\n",
    ")\n",
    "\n",
    "// 완료된 주문의 총액\n",
    "val totalCompleted = orders\n",
    "    .filter { it.status == \"completed\" }\n",
    "    .map { it.amount }\n",
    "    .reduce { acc, amount -> acc + amount }\n",
    "\n",
    "println(\"완료된 주문 총액: $$totalCompleted\")\n",
    "\n",
    "// 10% 할증 후 $150 초과 주문\n",
    "val premiumOrders = orders\n",
    "    .asSequence()\n",
    "    .filter { it.status == \"completed\" }\n",
    "    .map { it.copy(amount = it.amount * 1.1) }\n",
    "    .filter { it.amount > 150 }\n",
    "    .toList()\n",
    "\n",
    "println(\"\\n프리미엄 주문 (10% 할증 후 $150 초과):\")\n",
    "premiumOrders.forEach { println(\"  주문 #${it.id}: $${it.amount}\") }"
   ]
  },
  {
   "cell_type": "code",
   "execution_count": null,
   "metadata": {},
   "outputs": [],
   "source": [
    "// 상태별 통계\n",
    "val orderStats = orders\n",
    "    .groupBy { it.status }\n",
    "    .mapValues { (_, orders) -> \n",
    "        mapOf(\n",
    "            \"count\" to orders.size,\n",
    "            \"total\" to orders.sumOf { it.amount },\n",
    "            \"average\" to orders.map { it.amount }.average()\n",
    "        )\n",
    "    }\n",
    "\n",
    "println(\"\\n주문 상태별 통계:\")\n",
    "orderStats.forEach { (status, stats) ->\n",
    "    println(\"$status:\")\n",
    "    println(\"  개수: ${stats[\"count\"]}\")\n",
    "    println(\"  총액: $${stats[\"total\"]}\")\n",
    "    println(\"  평균: $%.2f\".format(stats[\"average\"]))\n",
    "}\n",
    "\n",
    "// 파티션을 사용한 분류\n",
    "val (completed, notCompleted) = orders.partition { it.status == \"completed\" }\n",
    "println(\"\\n완료된 주문: ${completed.size}개\")\n",
    "println(\"미완료 주문: ${notCompleted.size}개\")"
   ]
  },
  {
   "cell_type": "markdown",
   "metadata": {},
   "source": [
    "### 💡 핵심 포인트\n",
    "- **함수 합성**으로 복잡한 변환을 단순하게 표현\n",
    "- **파이프라인**으로 데이터 흐름을 명확하게 표현\n",
    "- **선언적 프로그래밍**: 무엇을 할지 기술\n",
    "- **재사용 가능한** 작은 함수들의 조합"
   ]
  },
  {
   "cell_type": "markdown",
   "metadata": {},
   "source": [
    "## 실습 과제\n",
    "\n",
    "함수형 프로그래밍 개념을 활용하여 학생 성적 분석 시스템을 구현해보세요."
   ]
  },
  {
   "cell_type": "code",
   "execution_count": null,
   "metadata": {},
   "outputs": [],
   "source": [
    "// 과제: 학생 성적 분석 시스템\n",
    "data class Student(val name: String, val scores: Map<String, Int>)\n",
    "\n",
    "val students = listOf(\n",
    "    Student(\"김철수\", mapOf(\"수학\" to 85, \"영어\" to 92, \"과학\" to 78)),\n",
    "    Student(\"이영희\", mapOf(\"수학\" to 95, \"영어\" to 88, \"과학\" to 91)),\n",
    "    Student(\"박민수\", mapOf(\"수학\" to 73, \"영어\" to 79, \"과학\" to 82)),\n",
    "    Student(\"정지은\", mapOf(\"수학\" to 88, \"영어\" to 95, \"과학\" to 87))\n",
    ")\n",
    "\n",
    "// TODO: 다음 기능들을 구현하세요\n",
    "// 1. 각 학생의 평균 점수 계산\n",
    "// 2. 과목별 최고 점수 학생 찾기\n",
    "// 3. 평균 80점 이상인 우수 학생 필터링\n",
    "// 4. 전체 학생의 과목별 평균 점수\n",
    "// 5. 성적순으로 학생 순위 매기기\n",
    "\n",
    "// 여기에 코드를 작성하세요\n"
   ]
  }
 ],
 "metadata": {
  "kernelspec": {
   "display_name": "Kotlin",
   "language": "kotlin",
   "name": "kotlin"
  },
  "language_info": {
   "codemirror_mode": "text/x-kotlin",
   "file_extension": ".kt",
   "mimetype": "text/x-kotlin",
   "name": "kotlin",
   "nbconvert_exporter": "",
   "pygments_lexer": "kotlin",
   "version": "1.8.0"
  }
 },
 "nbformat": 4,
 "nbformat_minor": 4
}