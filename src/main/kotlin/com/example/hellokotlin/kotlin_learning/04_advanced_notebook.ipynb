{
 "cells": [
  {
   "cell_type": "markdown",
   "metadata": {},
   "source": [
    "# Kotlin 고급 기능\n",
    "## 확장 함수, 값 클래스, 위임, 코루틴, DSL\n",
    "\n",
    "이 노트북에서는 Kotlin의 고급 기능들을 학습합니다.\n",
    "\n",
    "### 학습 내용\n",
    "1. 확장 함수 (Extension Functions)\n",
    "2. 값 클래스 (Value Classes / Inline Classes)\n",
    "3. 위임 (Delegation)\n",
    "4. 코루틴 (Coroutines)\n",
    "5. DSL (Domain Specific Language)"
   ]
  },
  {
   "cell_type": "markdown",
   "metadata": {},
   "source": [
    "## 1. 확장 함수 (Extension Functions)\n",
    "\n",
    "기존 클래스에 새로운 메서드를 추가하는 것처럼 보이게 하는 기능입니다. C#의 확장 메서드와 유사합니다."
   ]
  },
  {
   "cell_type": "code",
   "execution_count": 1,
   "metadata": {
    "ExecuteTime": {
     "end_time": "2025-07-15T05:52:24.305856Z",
     "start_time": "2025-07-15T05:52:24.166859Z"
    }
   },
   "outputs": [
    {
     "name": "stdout",
     "output_type": "stream",
     "text": [
      "원본: 'Hello Kotlin World'\n",
      "공백 제거: 'HelloKotlinWorld'\n",
      "느낌표 추가: 'Hello Kotlin World!'\n"
     ]
    }
   ],
   "source": [
    "// String 클래스에 확장 함수 추가\n",
    "fun String.removeSpaces(): String = this.replace(\" \", \"\")\n",
    "\n",
    "val text = \"Hello Kotlin World\"\n",
    "println(\"원본: '$text'\")\n",
    "println(\"공백 제거: '${text.removeSpaces()}'\")\n",
    "\n",
    "// this는 수신 객체를 가리킴\n",
    "fun String.addExclamation() = \"$this!\"\n",
    "println(\"느낌표 추가: '${text.addExclamation()}'\")"
   ]
  },
  {
   "cell_type": "code",
   "execution_count": 3,
   "metadata": {
    "ExecuteTime": {
     "end_time": "2025-07-15T05:54:07.836842Z",
     "start_time": "2025-07-15T05:54:07.754303Z"
    }
   },
   "outputs": [
    {
     "name": "stdout",
     "output_type": "stream",
     "text": [
      "cleaned: 'level'\n",
      "'level' -> 회문입니다\n",
      "cleaned: 'amanaplanacanalpanama'\n",
      "'A man a plan a canal Panama' -> 회문입니다\n",
      "cleaned: 'raceacar'\n",
      "'race a car' -> 회문이 아닙니다\n",
      "cleaned: 'hello'\n",
      "'hello' -> 회문이 아닙니다\n"
     ]
    }
   ],
   "source": [
    "// 회문 검사 확장 함수\n",
    "fun String.isPalindrome(): Boolean {\n",
    "    val cleaned = this.lowercase().filter { it.isLetterOrDigit() }\n",
    "    println(\"cleaned: '$cleaned'\")\n",
    "    return cleaned == cleaned.reversed()\n",
    "}\n",
    "\n",
    "// 테스트\n",
    "val testStrings = listOf(\n",
    "    \"level\",\n",
    "    \"A man a plan a canal Panama\",\n",
    "    \"race a car\",\n",
    "    \"hello\"\n",
    ")\n",
    "\n",
    "testStrings.forEach { str ->\n",
    "    println(\"'$str' -> ${if (str.isPalindrome()) \"회문입니다\" else \"회문이 아닙니다\"}\")\n",
    "}"
   ]
  },
  {
   "cell_type": "code",
   "execution_count": 6,
   "metadata": {
    "ExecuteTime": {
     "end_time": "2025-07-15T05:57:14.393295Z",
     "start_time": "2025-07-15T05:57:14.286690Z"
    }
   },
   "outputs": [
    {
     "name": "stdout",
     "output_type": "stream",
     "text": [
      "두 번째 요소:\n",
      "[10, 20, 30, 40, 50] -> 20\n",
      "[5] -> null\n",
      "\n",
      "25보다 큰 수: [30, 40, 50]\n"
     ]
    }
   ],
   "source": [
    "// 제네릭 확장 함수\n",
    "fun <T> List<T>.secondOrNull(): T? = if (size >= 2) this[1] else null\n",
    "\n",
    "fun <T> List<T>.customFilter(predicate: (T) -> Boolean): List<T> {\n",
    "    val result = mutableListOf<T>()\n",
    "    for (item in this) {\n",
    "        if (predicate(item)) {\n",
    "            result.add(item)\n",
    "        }\n",
    "    }\n",
    "    return result\n",
    "}\n",
    "\n",
    "val numbers = listOf(10, 20, 30, 40, 50)\n",
    "val shortList = listOf(5)\n",
    "\n",
    "println(\"두 번째 요소:\")\n",
    "println(\"$numbers -> ${numbers.secondOrNull()}\")\n",
    "println(\"$shortList -> ${shortList.secondOrNull()}\")\n",
    "\n",
    "val filtered = numbers.customFilter { it > 25 }\n",
    "println(\"\\n25보다 큰 수: $filtered\")"
   ]
  },
  {
   "cell_type": "code",
   "execution_count": 7,
   "metadata": {
    "ExecuteTime": {
     "end_time": "2025-07-15T05:58:09.681901Z",
     "start_time": "2025-07-15T05:58:09.605264Z"
    }
   },
   "outputs": [
    {
     "name": "stdout",
     "output_type": "stream",
     "text": [
      "정수 확장 함수:\n",
      "4.isEven() = true\n",
      "7.isOdd() = true\n",
      "5.squared() = 25\n",
      "6.factorial() = 720\n",
      "\n",
      "3의 제곱의 제곱: 81\n"
     ]
    }
   ],
   "source": [
    "// 기본 타입에 대한 확장\n",
    "fun Int.isEven() = this % 2 == 0\n",
    "fun Int.isOdd() = !isEven()\n",
    "fun Int.squared() = this * this\n",
    "fun Int.factorial(): Long {\n",
    "    return if (this <= 1) 1L else this * (this - 1).factorial()\n",
    "}\n",
    "\n",
    "println(\"정수 확장 함수:\")\n",
    "println(\"4.isEven() = ${4.isEven()}\")\n",
    "println(\"7.isOdd() = ${7.isOdd()}\")\n",
    "println(\"5.squared() = ${5.squared()}\")\n",
    "println(\"6.factorial() = ${6.factorial()}\")\n",
    "\n",
    "// 연쇄 호출\n",
    "val result = 3.squared().squared()\n",
    "println(\"\\n3의 제곱의 제곱: $result\")"
   ]
  },
  {
   "cell_type": "code",
   "execution_count": null,
   "metadata": {},
   "outputs": [],
   "source": [
    "// 확장 함수로 빌더 패턴 구현\n",
    "class StringBuilder2 {\n",
    "    private val content = mutableListOf<String>()\n",
    "    \n",
    "    fun append(text: String) {\n",
    "        content.add(text)\n",
    "    }\n",
    "    \n",
    "    override fun toString() = content.joinToString(\"\")\n",
    "}\n",
    "\n",
    "// 확장 함수로 체이닝 지원\n",
    "fun StringBuilder2.appendLine(text: String): StringBuilder2 {\n",
    "    append(\"$text\\n\")\n",
    "    return this\n",
    "}\n",
    "\n",
    "fun StringBuilder2.appendWithSpace(text: String): StringBuilder2 {\n",
    "    append(\"$text \")\n",
    "    return this\n",
    "}\n",
    "\n",
    "val builder = StringBuilder2()\n",
    "    .appendLine(\"첫 번째 줄\")\n",
    "    .appendLine(\"두 번째 줄\")\n",
    "    .appendWithSpace(\"단어1\")\n",
    "    .appendWithSpace(\"단어2\")\n",
    "    .appendLine(\"\")\n",
    "\n",
    "println(builder)"
   ]
  },
  {
   "cell_type": "markdown",
   "metadata": {},
   "source": [
    "### 💡 핵심 포인트\n",
    "- **기존 클래스를 수정하지 않고** 새 기능 추가\n",
    "- **수신 객체 타입**에 따라 호출 가능 여부 결정\n",
    "- **정적으로 해결**되므로 다형성 없음\n",
    "- **가독성 향상**: `StringUtils.isEmpty(str)` → `str.isEmpty()`"
   ]
  },
  {
   "cell_type": "markdown",
   "metadata": {},
   "source": [
    "## 2. 값 클래스 (Value Classes / Inline Classes)\n",
    "\n",
    "런타임 오버헤드 없이 타입 안전성을 제공하는 래퍼 클래스입니다."
   ]
  },
  {
   "cell_type": "code",
   "execution_count": 8,
   "metadata": {
    "ExecuteTime": {
     "end_time": "2025-07-15T06:03:17.085138Z",
     "start_time": "2025-07-15T06:03:16.954312Z"
    }
   },
   "outputs": [
    {
     "name": "stdout",
     "output_type": "stream",
     "text": [
      "약한 비밀번호 강도: 약함\n",
      "강한 비밀번호 강도: 강함\n"
     ]
    }
   ],
   "source": [
    "// 값 클래스 정의\n",
    "@JvmInline\n",
    "value class Password(val value: String) {\n",
    "    init {\n",
    "        require(value.length >= 8) { \"비밀번호는 8자 이상이어야 합니다\" }\n",
    "    }\n",
    "    \n",
    "    fun isStrong(): Boolean {\n",
    "        return value.any { it.isDigit() } &&\n",
    "               value.any { it.isUpperCase() } &&\n",
    "               value.any { it.isLowerCase() }\n",
    "    }\n",
    "}\n",
    "\n",
    "// 사용\n",
    "val weakPassword = Password(\"12345678\")\n",
    "val strongPassword = Password(\"MyPass123\")\n",
    "\n",
    "println(\"약한 비밀번호 강도: ${if (weakPassword.isStrong()) \"강함\" else \"약함\"}\")\n",
    "println(\"강한 비밀번호 강도: ${if (strongPassword.isStrong()) \"강함\" else \"약함\"}\")\n",
    "\n",
    "// 컴파일 타임에 타입 체크\n",
    "// val email: Email = weakPassword  // 컴파일 에러!"
   ]
  },
  {
   "cell_type": "code",
   "execution_count": null,
   "metadata": {},
   "outputs": [],
   "source": [
    "// 이메일 값 클래스\n",
    "@JvmInline\n",
    "value class Email(val value: String) {\n",
    "    init {\n",
    "        require(\"@\" in value && \".\" in value) { \"올바른 이메일 형식이 아닙니다\" }\n",
    "    }\n",
    "    \n",
    "    val domain: String\n",
    "        get() = value.substringAfter(\"@\")\n",
    "    \n",
    "    val username: String\n",
    "        get() = value.substringBefore(\"@\")\n",
    "}\n",
    "\n",
    "val email = Email(\"user@example.com\")\n",
    "println(\"이메일: ${email.value}\")\n",
    "println(\"사용자명: ${email.username}\")\n",
    "println(\"도메인: ${email.domain}\")"
   ]
  },
  {
   "cell_type": "code",
   "execution_count": 10,
   "metadata": {
    "ExecuteTime": {
     "end_time": "2025-07-15T06:14:54.035890Z",
     "start_time": "2025-07-15T06:14:53.946972Z"
    }
   },
   "outputs": [
    {
     "name": "stdout",
     "output_type": "stream",
     "text": [
      "온도 변환:\n",
      "섭씨: 25.0°C\n",
      "화씨: 77.0°F\n",
      "켈빈: 298.15K\n",
      "\n",
      "거리 변환:\n",
      "미터: 1500.0m\n",
      "킬로미터: 1.5km\n",
      "피트: 4921.26 ft\n"
     ]
    }
   ],
   "source": [
    "// 단위를 표현하는 값 클래스\n",
    "@JvmInline\n",
    "value class Celsius(val value: Double) {\n",
    "    fun toFahrenheit() = value * 9/5 + 32\n",
    "    fun toKelvin() = value + 273.15\n",
    "}\n",
    "\n",
    "@JvmInline\n",
    "value class Meters(val value: Double) {\n",
    "    fun toKilometers() = value / 1000\n",
    "    fun toFeet() = value * 3.28084\n",
    "}\n",
    "\n",
    "// 타입 안전한 온도 변환\n",
    "val temp = Celsius(25.0)\n",
    "println(\"온도 변환:\")\n",
    "println(\"섭씨: ${temp.value}°C\")\n",
    "println(\"화씨: ${temp.toFahrenheit()}°F\")\n",
    "println(\"켈빈: ${temp.toKelvin()}K\")\n",
    "\n",
    "// 타입 안전한 거리 변환\n",
    "val distance = Meters(1500.0)\n",
    "println(\"\\n거리 변환:\")\n",
    "println(\"미터: ${distance.value}m\")\n",
    "println(\"킬로미터: ${distance.toKilometers()}km\")\n",
    "println(\"피트: %.2f ft\".format(distance.toFeet()))"
   ]
  },
  {
   "cell_type": "code",
   "execution_count": 11,
   "metadata": {
    "ExecuteTime": {
     "end_time": "2025-07-15T06:14:57.370546Z",
     "start_time": "2025-07-15T06:14:57.297846Z"
    }
   },
   "outputs": [
    {
     "name": "stdout",
     "output_type": "stream",
     "text": [
      "User-123\n",
      "Product-456\n",
      "Order-789 for User-123\n"
     ]
    }
   ],
   "source": [
    "// 값 클래스를 사용한 타입 안전 ID\n",
    "@JvmInline\n",
    "value class UserId(val value: Long)\n",
    "\n",
    "@JvmInline\n",
    "value class ProductId(val value: Long)\n",
    "\n",
    "@JvmInline\n",
    "value class OrderId(val value: Long)\n",
    "\n",
    "// 함수 시그니처가 명확해짐\n",
    "fun findUser(id: UserId): String = \"User-${id.value}\"\n",
    "fun findProduct(id: ProductId): String = \"Product-${id.value}\"\n",
    "fun findOrder(userId: UserId, orderId: OrderId): String = \n",
    "    \"Order-${orderId.value} for User-${userId.value}\"\n",
    "\n",
    "// 타입 안전성\n",
    "val userId = UserId(123)\n",
    "val productId = ProductId(456)\n",
    "val orderId = OrderId(789)\n",
    "\n",
    "println(findUser(userId))\n",
    "println(findProduct(productId))\n",
    "println(findOrder(userId, orderId))\n",
    "\n",
    "// findUser(productId)  // 컴파일 에러! 타입이 맞지 않음"
   ]
  },
  {
   "cell_type": "markdown",
   "metadata": {},
   "source": [
    "### 💡 핵심 포인트\n",
    "- **런타임 오버헤드 없음**: 컴파일 시 원시 타입으로 인라인\n",
    "- **타입 안전성**: 실수로 잘못된 타입 전달 방지\n",
    "- **도메인 모델링**: 비즈니스 개념을 타입으로 표현\n",
    "- **단일 프로퍼티만** 가질 수 있음"
   ]
  },
  {
   "cell_type": "markdown",
   "metadata": {},
   "source": [
    "## 3. 위임 (Delegation)\n",
    "\n",
    "Kotlin은 클래스 위임과 프로퍼티 위임을 언어 레벨에서 지원합니다."
   ]
  },
  {
   "cell_type": "code",
   "execution_count": 21,
   "metadata": {
    "ExecuteTime": {
     "end_time": "2025-07-15T06:25:32.833380Z",
     "start_time": "2025-07-15T06:25:32.787934Z"
    }
   },
   "outputs": [
    {
     "name": "stdout",
     "output_type": "stream",
     "text": [
      "콘솔: [INFO] 애플리케이션 시작\n",
      "콘솔: [INFO] 처리 중...\n",
      "콘솔: [INFO] 완료!\n"
     ]
    }
   ],
   "source": [
    "// 클래스 위임\n",
    "interface Printer {\n",
    "    fun print(message: String)\n",
    "}\n",
    "\n",
    "class ConsolePrinter : Printer {\n",
    "    override fun print(message: String) {\n",
    "        println(\"콘솔: $message\")\n",
    "    }\n",
    "}\n",
    "\n",
    "// by 키워드로 위임\n",
    "class PrefixPrinter(\n",
    "    private val prefix: String,\n",
    "    private val printer: Printer\n",
    ") : Printer by printer {\n",
    "    // 선택적으로 오버라이드 가능\n",
    "    override fun print(message: String) {\n",
    "        printer.print(\"$prefix $message\")\n",
    "    }\n",
    "}\n",
    "\n",
    "val printer = PrefixPrinter(\"[INFO]\", ConsolePrinter())\n",
    "printer.print(\"애플리케이션 시작\")\n",
    "printer.print(\"처리 중...\")\n",
    "printer.print(\"완료!\")"
   ]
  },
  {
   "cell_type": "code",
   "execution_count": 27,
   "metadata": {
    "ExecuteTime": {
     "end_time": "2025-07-15T06:30:40.201358Z",
     "start_time": "2025-07-15T06:30:39.118801Z"
    }
   },
   "outputs": [
    {
     "name": "stdout",
     "output_type": "stream",
     "text": [
      "매니저 생성됨\n",
      "작업 시작\n",
      "무거운 리소스 생성 중...\n",
      "리소스 생성 완료!\n",
      "리소스 사용\n"
     ]
    }
   ],
   "source": [
    "// 프로퍼티 위임 - lazy\n",
    "class ExpensiveResource {\n",
    "    init {\n",
    "        println(\"무거운 리소스 생성 중...\")\n",
    "        Thread.sleep(1000)  // 시뮬레이션\n",
    "        println(\"리소스 생성 완료!\")\n",
    "    }\n",
    "    \n",
    "    fun use() = \"리소스 사용\"\n",
    "}\n",
    "\n",
    "class ResourceManager {\n",
    "    // lazy 위임: 처음 접근할 때 초기화\n",
    "    val resource by lazy { ExpensiveResource() }\n",
    "    \n",
    "    fun doWork() {\n",
    "        println(\"작업 시작\")\n",
    "        // 필요할 때만 리소스 생성\n",
    "        if (Math.random() > 0.5) {\n",
    "            println(resource.use())\n",
    "        } else {\n",
    "            println(\"리소스 필요 없음\")\n",
    "        }\n",
    "    }\n",
    "}\n",
    "\n",
    "val manager = ResourceManager()\n",
    "println(\"매니저 생성됨\")\n",
    "manager.doWork()"
   ]
  },
  {
   "cell_type": "code",
   "execution_count": null,
   "metadata": {},
   "outputs": [],
   "source": [
    ") : Printer by printer {\n"
   ]
  },
  {
   "cell_type": "code",
   "execution_count": 31,
   "metadata": {
    "ExecuteTime": {
     "end_time": "2025-07-15T06:37:07.638624Z",
     "start_time": "2025-07-15T06:37:07.563106Z"
    }
   },
   "outputs": [
    {
     "name": "stdout",
     "output_type": "stream",
     "text": [
      "name 변경: '' -> '김코틀린'\n",
      "email 변경: '' -> 'kim@example.com'\n",
      "name 읽기: '김코틀린'\n",
      "현재 이름: 김코틀린\n",
      "email 읽기: 'kim@example.com'\n",
      "현재 이메일: kim@example.com\n"
     ]
    }
   ],
   "source": [
    "// 커스텀 프로퍼티 위임\n",
    "import kotlin.reflect.KProperty\n",
    "\n",
    "class LoggingProperty<T>(private var value: T) {\n",
    "    operator fun getValue(ref: Any?, property: KProperty<*>): T {\n",
    "        println(\"${property.name} 읽기: '$value'\")\n",
    "        return value\n",
    "    }\n",
    "    \n",
    "    operator fun setValue(ref: Any?, property: KProperty<*>, newValue: T) {\n",
    "        println(\"${property.name} 변경: '$value' -> '$newValue'\")\n",
    "        value = newValue\n",
    "    }\n",
    "}\n",
    "\n",
    "class User {\n",
    "    var name: String by LoggingProperty(\"\")\n",
    "    var email: String by LoggingProperty(\"\")\n",
    "}\n",
    "\n",
    "val user = User()\n",
    "user.name = \"김코틀린\"\n",
    "user.email = \"kim@example.com\"\n",
    "println(\"현재 이름: ${user.name}\")\n",
    "println(\"현재 이메일: ${user.email}\")"
   ]
  },
  {
   "cell_type": "code",
   "execution_count": 32,
   "metadata": {
    "ExecuteTime": {
     "end_time": "2025-07-15T06:40:25.989618Z",
     "start_time": "2025-07-15T06:40:25.878744Z"
    }
   },
   "outputs": [
    {
     "name": "stdout",
     "output_type": "stream",
     "text": [
      "name 변경됨: <초기값> -> 홍길동\n",
      "name 변경됨: 홍길동 -> 김철수\n",
      "\n",
      "나이 변경 시도:\n",
      "age 변경 시도: 0 -> 25\n",
      "현재 나이: 25\n",
      "age 변경 시도: 25 -> -5\n",
      "현재 나이: 25\n"
     ]
    }
   ],
   "source": [
    "// Observable 프로퍼티\n",
    "import kotlin.properties.Delegates\n",
    "\n",
    "class ObservableUser {\n",
    "    var name: String by Delegates.observable(\"<초기값>\") { prop, old, new ->\n",
    "        println(\"${prop.name} 변경됨: $old -> $new\")\n",
    "    }\n",
    "    \n",
    "    var age: Int by Delegates.vetoable(0) { prop, old, new ->\n",
    "        println(\"${prop.name} 변경 시도: $old -> $new\")\n",
    "        new >= 0  // true면 변경 허용, false면 거부\n",
    "    }\n",
    "}\n",
    "\n",
    "val observableUser = ObservableUser()\n",
    "observableUser.name = \"홍길동\"\n",
    "observableUser.name = \"김철수\"\n",
    "\n",
    "println(\"\\n나이 변경 시도:\")\n",
    "observableUser.age = 25\n",
    "println(\"현재 나이: ${observableUser.age}\")\n",
    "\n",
    "observableUser.age = -5  // 거부됨\n",
    "println(\"현재 나이: ${observableUser.age}\")"
   ]
  },
  {
   "cell_type": "markdown",
   "metadata": {},
   "source": [
    "### 💡 핵심 포인트\n",
    "- **클래스 위임**: 상속 대신 합성 사용 권장\n",
    "- **프로퍼티 위임**: 공통 프로퍼티 동작을 재사용\n",
    "- **lazy**: 지연 초기화\n",
    "- **observable/vetoable**: 프로퍼티 변경 감지/제어"
   ]
  },
  {
   "cell_type": "markdown",
   "metadata": {},
   "source": [
    "## 4. 코루틴 (Coroutines)\n",
    "\n",
    "비동기 프로그래밍을 위한 경량 스레드입니다. async/await 패턴을 지원합니다.\n",
    "\n",
    "**주의**: Jupyter 환경에서는 코루틴 실행이 제한적일 수 있습니다."
   ]
  },
  {
   "cell_type": "code",
   "execution_count": 35,
   "metadata": {
    "ExecuteTime": {
     "end_time": "2025-07-15T07:04:25.063849Z",
     "start_time": "2025-07-15T07:04:25.016457Z"
    }
   },
   "outputs": [
    {
     "ename": "org.jetbrains.kotlinx.jupyter.exceptions.ReplCompilerException",
     "evalue": "at Cell In[35], line 1, column 16: Unresolved reference: coroutines\nat Cell In[35], line 4, column 1: Unresolved reference: runBlocking\nat Cell In[35], line 8, column 5: Unresolved reference: launch\nat Cell In[35], line 9, column 9: Unresolved reference: delay\nat Cell In[35], line 14, column 20: Unresolved reference: async\nat Cell In[35], line 15, column 9: Unresolved reference: delay",
     "output_type": "error",
     "traceback": [
      "org.jetbrains.kotlinx.jupyter.exceptions.ReplCompilerException: at Cell In[35], line 1, column 16: Unresolved reference: coroutines",
      "at Cell In[35], line 4, column 1: Unresolved reference: runBlocking",
      "at Cell In[35], line 8, column 5: Unresolved reference: launch",
      "at Cell In[35], line 9, column 9: Unresolved reference: delay",
      "at Cell In[35], line 14, column 20: Unresolved reference: async",
      "at Cell In[35], line 15, column 9: Unresolved reference: delay",
      "\tat org.jetbrains.kotlinx.jupyter.repl.impl.JupyterCompilerImpl.compileSync(JupyterCompilerImpl.kt:152)",
      "\tat org.jetbrains.kotlinx.jupyter.repl.impl.InternalEvaluatorImpl.eval(InternalEvaluatorImpl.kt:127)",
      "\tat org.jetbrains.kotlinx.jupyter.repl.impl.CellExecutorImpl.execute_L4Nmkdk$lambda$9$lambda$1(CellExecutorImpl.kt:80)",
      "\tat org.jetbrains.kotlinx.jupyter.repl.impl.ReplForJupyterImpl.withHost(ReplForJupyterImpl.kt:794)",
      "\tat org.jetbrains.kotlinx.jupyter.repl.impl.CellExecutorImpl.execute-L4Nmkdk(CellExecutorImpl.kt:78)",
      "\tat org.jetbrains.kotlinx.jupyter.repl.execution.CellExecutor.execute-L4Nmkdk$default(CellExecutor.kt:14)",
      "\tat org.jetbrains.kotlinx.jupyter.repl.impl.ReplForJupyterImpl.evaluateUserCode-wNURfNM(ReplForJupyterImpl.kt:616)",
      "\tat org.jetbrains.kotlinx.jupyter.repl.impl.ReplForJupyterImpl.evalExImpl(ReplForJupyterImpl.kt:474)",
      "\tat org.jetbrains.kotlinx.jupyter.repl.impl.ReplForJupyterImpl.evalEx$lambda$20(ReplForJupyterImpl.kt:467)",
      "\tat org.jetbrains.kotlinx.jupyter.repl.impl.ReplForJupyterImpl.withEvalContext(ReplForJupyterImpl.kt:447)",
      "\tat org.jetbrains.kotlinx.jupyter.repl.impl.ReplForJupyterImpl.evalEx(ReplForJupyterImpl.kt:466)",
      "\tat org.jetbrains.kotlinx.jupyter.messaging.IdeCompatibleMessageRequestProcessor.processExecuteRequest$lambda$7$lambda$6$lambda$5(IdeCompatibleMessageRequestProcessor.kt:160)",
      "\tat org.jetbrains.kotlinx.jupyter.streams.BlockingSubstitutionEngine.withDataSubstitution(SubstitutionEngine.kt:70)",
      "\tat org.jetbrains.kotlinx.jupyter.streams.StreamSubstitutionManager.withSubstitutedStreams(StreamSubstitutionManager.kt:118)",
      "\tat org.jetbrains.kotlinx.jupyter.messaging.IdeCompatibleMessageRequestProcessor.withForkedIn(IdeCompatibleMessageRequestProcessor.kt:354)",
      "\tat org.jetbrains.kotlinx.jupyter.messaging.IdeCompatibleMessageRequestProcessor.evalWithIO$lambda$16$lambda$15(IdeCompatibleMessageRequestProcessor.kt:368)",
      "\tat org.jetbrains.kotlinx.jupyter.streams.BlockingSubstitutionEngine.withDataSubstitution(SubstitutionEngine.kt:70)",
      "\tat org.jetbrains.kotlinx.jupyter.streams.StreamSubstitutionManager.withSubstitutedStreams(StreamSubstitutionManager.kt:118)",
      "\tat org.jetbrains.kotlinx.jupyter.messaging.IdeCompatibleMessageRequestProcessor.withForkedErr(IdeCompatibleMessageRequestProcessor.kt:343)",
      "\tat org.jetbrains.kotlinx.jupyter.messaging.IdeCompatibleMessageRequestProcessor.evalWithIO$lambda$16(IdeCompatibleMessageRequestProcessor.kt:367)",
      "\tat org.jetbrains.kotlinx.jupyter.streams.BlockingSubstitutionEngine.withDataSubstitution(SubstitutionEngine.kt:70)",
      "\tat org.jetbrains.kotlinx.jupyter.streams.StreamSubstitutionManager.withSubstitutedStreams(StreamSubstitutionManager.kt:118)",
      "\tat org.jetbrains.kotlinx.jupyter.messaging.IdeCompatibleMessageRequestProcessor.withForkedOut(IdeCompatibleMessageRequestProcessor.kt:335)",
      "\tat org.jetbrains.kotlinx.jupyter.messaging.IdeCompatibleMessageRequestProcessor.evalWithIO(IdeCompatibleMessageRequestProcessor.kt:366)",
      "\tat org.jetbrains.kotlinx.jupyter.messaging.IdeCompatibleMessageRequestProcessor.processExecuteRequest$lambda$7$lambda$6(IdeCompatibleMessageRequestProcessor.kt:159)",
      "\tat org.jetbrains.kotlinx.jupyter.execution.JupyterExecutorImpl$Task.execute(JupyterExecutorImpl.kt:41)",
      "\tat org.jetbrains.kotlinx.jupyter.execution.JupyterExecutorImpl.executorThread$lambda$0(JupyterExecutorImpl.kt:83)",
      "\tat kotlin.concurrent.ThreadsKt$thread$thread$1.run(Thread.kt:30)",
      ""
     ]
    }
   ],
   "source": [
    "import kotlinx.coroutines.*\n",
    "\n",
    "// 기본 코루틴 실행\n",
    "runBlocking {\n",
    "    println(\"코루틴 시작\")\n",
    "    \n",
    "    // launch: 새 코루틴 시작 (결과 반환 X)\n",
    "    launch {\n",
    "        delay(1000)  // 1초 대기 (스레드 블록하지 않음)\n",
    "        println(\"launch 코루틴 완료\")\n",
    "    }\n",
    "    \n",
    "    // async: 새 코루틴 시작 (결과 반환 O)\n",
    "    val deferred = async {\n",
    "        delay(500)\n",
    "        \"async 결과\"\n",
    "    }\n",
    "    \n",
    "    println(\"대기 중...\")\n",
    "    println(\"async 결과: ${deferred.await()}\")\n",
    "}"
   ]
  },
  {
   "cell_type": "code",
   "execution_count": null,
   "metadata": {},
   "outputs": [],
   "source": [
    "import kotlin.system.measureTimeMillis\n",
    "\n",
    "// 순차 실행 vs 병렬 실행\n",
    "runBlocking {\n",
    "    suspend fun fetchData(name: String, delay: Long): String {\n",
    "        delay(delay)\n",
    "        return \"$name 데이터\"\n",
    "    }\n",
    "    \n",
    "    // 순차 실행\n",
    "    val time1 = measureTimeMillis {\n",
    "        val data1 = fetchData(\"첫 번째\", 1000)\n",
    "        val data2 = fetchData(\"두 번째\", 1000)\n",
    "        println(\"순차: $data1, $data2\")\n",
    "    }\n",
    "    println(\"순차 실행 시간: ${time1}ms\")\n",
    "    \n",
    "    // 병렬 실행\n",
    "    val time2 = measureTimeMillis {\n",
    "        val deferred1 = async { fetchData(\"첫 번째\", 1000) }\n",
    "        val deferred2 = async { fetchData(\"두 번째\", 1000) }\n",
    "        println(\"병렬: ${deferred1.await()}, ${deferred2.await()}\")\n",
    "    }\n",
    "    println(\"병렬 실행 시간: ${time2}ms\")\n",
    "}"
   ]
  },
  {
   "cell_type": "code",
   "execution_count": null,
   "metadata": {},
   "outputs": [],
   "source": [
    "// 코루틴 스코프와 구조적 동시성\n",
    "runBlocking {\n",
    "    println(\"메인 코루틴 시작\")\n",
    "    \n",
    "    // coroutineScope: 모든 자식이 완료될 때까지 대기\n",
    "    coroutineScope {\n",
    "        launch {\n",
    "            delay(2000)\n",
    "            println(\"자식 코루틴 1 완료\")\n",
    "        }\n",
    "        \n",
    "        launch {\n",
    "            delay(1000)\n",
    "            println(\"자식 코루틴 2 완료\")\n",
    "        }\n",
    "        \n",
    "        println(\"coroutineScope 내부\")\n",
    "    }\n",
    "    \n",
    "    println(\"모든 자식 코루틴 완료 후 실행\")\n",
    "}"
   ]
  },
  {
   "cell_type": "code",
   "execution_count": null,
   "metadata": {},
   "outputs": [],
   "source": [
    "// Flow - 비동기 데이터 스트림\n",
    "import kotlinx.coroutines.flow.*\n",
    "\n",
    "runBlocking {\n",
    "    // Flow 생성\n",
    "    fun simpleFlow(): Flow<Int> = flow {\n",
    "        println(\"Flow 시작\")\n",
    "        for (i in 1..3) {\n",
    "            delay(300)  // 비동기 작업 시뮬레이션\n",
    "            emit(i)     // 값 방출\n",
    "        }\n",
    "    }\n",
    "    \n",
    "    // Flow 수집\n",
    "    println(\"Flow 수집 시작\")\n",
    "    simpleFlow()\n",
    "        .map { it * it }  // 변환\n",
    "        .filter { it > 5 } // 필터링\n",
    "        .collect { value ->\n",
    "            println(\"수신: $value\")\n",
    "        }\n",
    "}"
   ]
  },
  {
   "cell_type": "code",
   "execution_count": null,
   "metadata": {},
   "outputs": [],
   "source": [
    "// 실용적인 예제: 여러 API 호출\n",
    "runBlocking {\n",
    "    data class User(val id: Int, val name: String)\n",
    "    data class Post(val userId: Int, val title: String)\n",
    "    \n",
    "    suspend fun fetchUser(id: Int): User {\n",
    "        delay(1000)  // API 호출 시뮬레이션\n",
    "        return User(id, \"User$id\")\n",
    "    }\n",
    "    \n",
    "    suspend fun fetchPosts(userId: Int): List<Post> {\n",
    "        delay(1500)  // API 호출 시뮬레이션\n",
    "        return listOf(\n",
    "            Post(userId, \"Post 1\"),\n",
    "            Post(userId, \"Post 2\")\n",
    "        )\n",
    "    }\n",
    "    \n",
    "    // 여러 사용자의 정보와 게시물을 병렬로 가져오기\n",
    "    val userIds = listOf(1, 2, 3)\n",
    "    \n",
    "    val time = measureTimeMillis {\n",
    "        val results = userIds.map { id ->\n",
    "            async {\n",
    "                val user = fetchUser(id)\n",
    "                val posts = fetchPosts(id)\n",
    "                user to posts\n",
    "            }\n",
    "        }.awaitAll()\n",
    "        \n",
    "        results.forEach { (user, posts) ->\n",
    "            println(\"${user.name}: ${posts.size}개 게시물\")\n",
    "        }\n",
    "    }\n",
    "    \n",
    "    println(\"총 소요 시간: ${time}ms\")\n",
    "}"
   ]
  },
  {
   "cell_type": "markdown",
   "metadata": {},
   "source": [
    "### 💡 핵심 포인트\n",
    "- **경량**: 수천 개의 코루틴도 문제없이 실행\n",
    "- **구조적 동시성**: 부모-자식 관계로 생명주기 관리\n",
    "- **취소 가능**: 협력적 취소 지원\n",
    "- **Flow**: 비동기 데이터 스트림 처리"
   ]
  },
  {
   "cell_type": "markdown",
   "metadata": {},
   "source": [
    "## 5. DSL (Domain Specific Language)\n",
    "\n",
    "Kotlin의 문법적 특성을 활용하여 도메인 특화 언어를 만들 수 있습니다."
   ]
  },
  {
   "cell_type": "code",
   "execution_count": 36,
   "metadata": {
    "ExecuteTime": {
     "end_time": "2025-07-15T07:44:29.347284Z",
     "start_time": "2025-07-15T07:44:29.213567Z"
    }
   },
   "outputs": [
    {
     "name": "stdout",
     "output_type": "stream",
     "text": [
      "<html>\n",
      "  <head>\n",
      "    <title>Kotlin DSL 예제</title>\n",
      "  </head>\n",
      "  <body>\n",
      "    <h1>DSL로 HTML 생성하기</h1>\n",
      "    <p>이것은 Kotlin DSL로 만든 HTML입니다.</p>\n",
      "    <p>타입 안전하고 읽기 쉽습니다.</p>\n",
      "  </body>\n",
      "</html>\n"
     ]
    }
   ],
   "source": [
    "// HTML DSL 예제\n",
    "class HTML {\n",
    "    private val elements = mutableListOf<String>()\n",
    "    \n",
    "    fun head(block: Head.() -> Unit) {\n",
    "        val head = Head()\n",
    "        head.block()  // 수신 객체 지정 람다\n",
    "        elements.add(head.toString())\n",
    "    }\n",
    "    \n",
    "    fun body(block: Body.() -> Unit) {\n",
    "        val body = Body()\n",
    "        body.block()\n",
    "        elements.add(body.toString())\n",
    "    }\n",
    "    \n",
    "    override fun toString() = \"<html>\\n${elements.joinToString(\"\\n\")}\\n</html>\"\n",
    "}\n",
    "\n",
    "class Head {\n",
    "    private var title = \"\"\n",
    "    \n",
    "    fun title(text: String) {\n",
    "        title = text\n",
    "    }\n",
    "    \n",
    "    override fun toString() = \"  <head>\\n    <title>$title</title>\\n  </head>\"\n",
    "}\n",
    "\n",
    "class Body {\n",
    "    private val content = mutableListOf<String>()\n",
    "    \n",
    "    fun h1(text: String) {\n",
    "        content.add(\"    <h1>$text</h1>\")\n",
    "    }\n",
    "    \n",
    "    fun p(text: String) {\n",
    "        content.add(\"    <p>$text</p>\")\n",
    "    }\n",
    "    \n",
    "    override fun toString() = \"  <body>\\n${content.joinToString(\"\\n\")}\\n  </body>\"\n",
    "}\n",
    "\n",
    "fun html(block: HTML.() -> Unit): HTML {\n",
    "    val html = HTML()\n",
    "    html.block()\n",
    "    return html\n",
    "}\n",
    "\n",
    "// DSL 사용\n",
    "val document = html {\n",
    "    head {\n",
    "        title(\"Kotlin DSL 예제\")\n",
    "    }\n",
    "    body {\n",
    "        h1(\"DSL로 HTML 생성하기\")\n",
    "        p(\"이것은 Kotlin DSL로 만든 HTML입니다.\")\n",
    "        p(\"타입 안전하고 읽기 쉽습니다.\")\n",
    "    }\n",
    "}\n",
    "\n",
    "println(document)"
   ]
  },
  {
   "cell_type": "code",
   "execution_count": 38,
   "metadata": {
    "ExecuteTime": {
     "end_time": "2025-07-15T07:59:20.252672Z",
     "start_time": "2025-07-15T07:59:20.192676Z"
    }
   },
   "outputs": [
    {
     "name": "stdout",
     "output_type": "stream",
     "text": [
      "        Server Configuration:\n",
      "        - Port: 9000\n",
      "        - Context Path: /api\n",
      "        \n",
      "        Database Configuration:\n",
      "- Host: db.example.com:5433\n",
      "- Database: myapp\n",
      "- Username: admin\n",
      "- Connection: jdbc:postgresql://db.example.com:5433/myapp\n"
     ]
    }
   ],
   "source": [
    "// 설정 DSL 예제\n",
    "class DatabaseConfig {\n",
    "    var host = \"localhost\"\n",
    "    var port = 5432\n",
    "    var database = \"\"\n",
    "    var username = \"\"\n",
    "    var password = \"\"\n",
    "    \n",
    "    fun connectionString() = \"jdbc:postgresql://$host:$port/$database\"\n",
    "    \n",
    "    override fun toString() = \"\"\"\n",
    "        Database Configuration:\n",
    "        - Host: $host:$port\n",
    "        - Database: $database\n",
    "        - Username: $username\n",
    "        - Connection: ${connectionString()}\n",
    "    \"\"\".trimIndent()\n",
    "}\n",
    "\n",
    "class ServerConfig {\n",
    "    var port = 8080\n",
    "    var contextPath = \"/\"\n",
    "    val database = DatabaseConfig()\n",
    "    \n",
    "    fun database(block: DatabaseConfig.() -> Unit) {\n",
    "        database.block()\n",
    "    }\n",
    "    \n",
    "    override fun toString() = \"\"\"\n",
    "        Server Configuration:\n",
    "        - Port: $port\n",
    "        - Context Path: $contextPath\n",
    "        \n",
    "        $database\n",
    "    \"\"\".trimIndent()\n",
    "}\n",
    "\n",
    "fun server(block: ServerConfig.() -> Unit): ServerConfig {\n",
    "    val config = ServerConfig()\n",
    "    config.block()\n",
    "    return config\n",
    "}\n",
    "\n",
    "// DSL 사용\n",
    "val config = server {\n",
    "    port = 9000\n",
    "    contextPath = \"/api\"\n",
    "    \n",
    "    database {\n",
    "        host = \"db.example.com\"\n",
    "        port = 5433\n",
    "        database = \"myapp\"\n",
    "        username = \"admin\"\n",
    "        password = \"secret\"\n",
    "    }\n",
    "}\n",
    "\n",
    "println(config)"
   ]
  },
  {
   "cell_type": "code",
   "execution_count": 42,
   "metadata": {
    "ExecuteTime": {
     "end_time": "2025-07-15T08:02:25.816137Z",
     "start_time": "2025-07-15T08:02:25.736881Z"
    }
   },
   "outputs": [
    {
     "name": "stdout",
     "output_type": "stream",
     "text": [
      "테스트: 문자열 확장 함수 테스트\n",
      "  ✓ removeSpaces는 공백을 제거한다\n",
      "cleaned: 'level'\n",
      "  ✓ isPalindrome은 회문을 검사한다\n",
      "cleaned: 'hello'\n",
      "  ✓ isPalindrome은 회문이 아닌 것을 구별한다\n",
      "  모든 테스트 통과!\n",
      "\n",
      "테스트: 정수 확장 함수 테스트\n",
      "  ✓ isEven은 짝수를 판별한다\n",
      "  ✓ squared는 제곱을 계산한다\n",
      "  모든 테스트 통과!\n",
      "\n"
     ]
    }
   ],
   "source": [
    "// 테스트 DSL 예제\n",
    "class TestCase(val name: String) {\n",
    "    private val assertions = mutableListOf<() -> Unit>()\n",
    "    \n",
    "    fun assert(description: String, block: () -> Boolean) {\n",
    "        assertions.add {\n",
    "            val result = block()\n",
    "            println(\"  ${if (result) \"✓\" else \"✗\"} $description\")\n",
    "            if (!result) {\n",
    "                throw AssertionError(description)\n",
    "            }\n",
    "        }\n",
    "    }\n",
    "    \n",
    "    fun run() {\n",
    "        println(\"테스트: $name\")\n",
    "        try {\n",
    "            assertions.forEach { it() }\n",
    "            println(\"  모든 테스트 통과!\\n\")\n",
    "        } catch (e: AssertionError) {\n",
    "            println(\"  테스트 실패: ${e.message}\\n\")\n",
    "        }\n",
    "    }\n",
    "}\n",
    "\n",
    "fun test(name: String, block: TestCase.() -> Unit) {\n",
    "    val testCase = TestCase(name)\n",
    "    testCase.block()\n",
    "    testCase.run()\n",
    "}\n",
    "\n",
    "// DSL 사용\n",
    "test(\"문자열 확장 함수 테스트\") {\n",
    "    assert(\"removeSpaces는 공백을 제거한다\") {\n",
    "        \"a b c\".removeSpaces() == \"abc\"\n",
    "    }\n",
    "    \n",
    "    assert(\"isPalindrome은 회문을 검사한다\") {\n",
    "        \"level\".isPalindrome() == true\n",
    "    }\n",
    "    \n",
    "    assert(\"isPalindrome은 회문이 아닌 것을 구별한다\") {\n",
    "        \"hello\".isPalindrome() == false\n",
    "    }\n",
    "}\n",
    "\n",
    "test(\"정수 확장 함수 테스트\") {\n",
    "    assert(\"isEven은 짝수를 판별한다\") {\n",
    "        4.isEven() && !5.isEven()\n",
    "    }\n",
    "    \n",
    "    assert(\"squared는 제곱을 계산한다\") {\n",
    "        5.squared() == 25\n",
    "    }\n",
    "}"
   ]
  },
  {
   "cell_type": "markdown",
   "metadata": {},
   "source": [
    "### 💡 핵심 포인트\n",
    "- **수신 객체 지정 람다**: `block: T.() -> Unit`\n",
    "- **중위 함수**: 자연스러운 문법\n",
    "- **연산자 오버로딩**: 직관적인 API\n",
    "- **타입 안전**: 컴파일 타임 검증"
   ]
  },
  {
   "metadata": {
    "ExecuteTime": {
     "end_time": "2025-07-16T01:26:05.230408Z",
     "start_time": "2025-07-16T01:26:05.175522Z"
    }
   },
   "cell_type": "code",
   "source": [
    "// 클래스 정의\n",
    "class Person(val name: String, val age: Int)\n",
    "\n",
    "// KClass 얻기\n",
    "val kClass: KClass<Person> = Person::class\n",
    "\n",
    "// 클래스 이름 출력\n",
    "println(\">> ${kClass.simpleName}\") // Person\n",
    "\n",
    "// 생성자 정보 출력\n",
    "kClass.constructors.forEach { println(\">>>> ${it}\") }\n",
    "\n",
    "// 프로퍼티 정보 출력\n",
    "kClass.members.forEach { println(it.name) }"
   ],
   "outputs": [
    {
     "name": "stdout",
     "output_type": "stream",
     "text": [
      ">> Person\n",
      ">>>> fun `<init>`(kotlin.String, kotlin.Int): Line_92_jupyter.Person\n",
      "age\n",
      "name\n",
      "equals\n",
      "hashCode\n",
      "toString\n"
     ]
    }
   ],
   "execution_count": 86
  },
  {
   "cell_type": "markdown",
   "metadata": {},
   "source": [
    "## 실습 과제\n",
    "\n",
    "고급 기능들을 활용하여 간단한 의존성 주입(DI) 프레임워크를 구현해보세요."
   ]
  },
  {
   "cell_type": "code",
   "metadata": {
    "ExecuteTime": {
     "end_time": "2025-07-16T02:18:07.796934Z",
     "start_time": "2025-07-16T02:18:07.535058Z"
    }
   },
   "source": [
    "// 과제: 미니 DI 프레임워크\n",
    "// TODO: 다음 기능을 구현하세요\n",
    "// 1. @Inject 어노테이션\n",
    "// 2. Container 클래스 (의존성 등록/해결)\n",
    "// 3. DSL로 의존성 설정\n",
    "// 4. 지연 초기화 지원\n",
    "\n",
    "// 예시 사용법:\n",
    "// val container = container {\n",
    "//     singleton<Database> { MySQLDatabase() }\n",
    "//     factory<Service> { UserService(get()) }\n",
    "// }\n",
    "// \n",
    "// val service: Service = container.get()\n",
    "\n",
    "import kotlin.reflect.KClass\n",
    "import kotlin.reflect.full.primaryConstructor\n",
    "import kotlin.reflect.full.hasAnnotation\n",
    "\n",
    "// --- 과제에 필요한 인터페이스 및 클래스 (예시용) ---\n",
    "\n",
    "interface Database {\n",
    "    fun connect(): String\n",
    "}\n",
    "\n",
    "class MySQLDatabase : Database {\n",
    "    override fun connect() = \"MySQL 데이터베이스에 연결되었습니다.\"\n",
    "}\n",
    "\n",
    "interface Service {\n",
    "    fun serve(): String\n",
    "}\n",
    "\n",
    "class UserService(private val db: Database) : Service {\n",
    "    override fun serve() = \"유저 서비스가 시작됩니다. (${db.connect()})\"\n",
    "}\n",
    "\n",
    "class ReportService @Inject constructor(private val service: Service) {\n",
    "    fun generateReport(): String {\n",
    "        println(\"리포트 생성을 시작합니다...\")\n",
    "        val serviceResult = service.serve()\n",
    "        return \"리포트 생성 완료: [$serviceResult]\"\n",
    "    }\n",
    "}\n",
    "\n",
    "// --- 미니 DI 프레임워크 구현 ---\n",
    "\n",
    "@Retention(AnnotationRetention.RUNTIME)\n",
    "@Target(AnnotationTarget.CONSTRUCTOR)\n",
    "annotation class Inject\n",
    "\n",
    "sealed class Provider<T : Any>(val creator: Container.() -> T) {\n",
    "    class Singleton<T : Any>(creator: Container.() -> T) : Provider<T>(creator)\n",
    "    class Factory<T : Any>(creator: Container.() -> T) : Provider<T>(creator)\n",
    "}\n",
    "\n",
    "class Container {\n",
    "    // 의존성 생성 레시피(Provider)를 클래스 타입(KClass)을 키로 하여 저장하는 맵\n",
    "    private val providers = mutableMapOf<KClass<*>, Provider<*>>()\n",
    "    // 생성된 싱글턴 인스턴스를 캐싱하는 맵. 지연 초기화에 사용됩니다.\n",
    "    private val singletonInstances = mutableMapOf<KClass<*>, Any>()\n",
    "\n",
    "    // DSL의 편의성을 위해 KClass를 직접 받는 등록 함수를 만듭니다.\n",
    "    fun <T : Any> registerSingleton(type: KClass<T>, creator: Container.() -> T) {\n",
    "        providers[type] = Provider.Singleton(creator)\n",
    "    }\n",
    "\n",
    "    fun <T : Any> registerFactory(type: KClass<T>, creator: Container.() -> T) {\n",
    "        providers[type] = Provider.Factory(creator)\n",
    "    }\n",
    "\n",
    "    @Suppress(\"UNCHECKED_CAST\")\n",
    "    fun <T : Any> get(type: KClass<T>): T {\n",
    "        println(\">>>>>>> Container.get() 호출: ${type.simpleName}\")\n",
    "        // 1. 싱글턴 캐시를 먼저 확인합니다.\n",
    "        singletonInstances[type]?.let {\n",
    "            println(\"ℹ️ [Cache] ${type.simpleName} 인스턴스를 캐시에서 가져옵니다.\")\n",
    "            return it as T\n",
    "        }\n",
    "\n",
    "        // 2. 등록된 프로바이더(레시피)가 있는지 확인합니다.\n",
    "        val provider = providers[type]\n",
    "        if (provider != null) {\n",
    "            println(\"ℹ️ [Provider] ${type.simpleName} 인스턴스를 프로바이더로 생성합니다.\")\n",
    "            return when (provider) {\n",
    "                is Provider.Singleton -> {\n",
    "                    val instance = provider.creator(this)\n",
    "                    singletonInstances[type] = instance\n",
    "                    instance\n",
    "                }\n",
    "\n",
    "                is Provider.Factory -> provider.creator(this)\n",
    "            } as T\n",
    "        }\n",
    "\n",
    "        println(\"ℹ️ [Reflection] ${type.simpleName}에 대한 프로바이더가 없어 리플렉션으로 생성합니다.\")\n",
    "        return createInstanceWithInjection(type)\n",
    "    }\n",
    "\n",
    "    @Suppress(\"UNCHECKED_CAST\")\n",
    "    private fun <T : Any> createInstanceWithInjection(type: KClass<T>): T {\n",
    "        val constructor = type.constructors.find { it.hasAnnotation<Inject>() }\n",
    "            ?: type.primaryConstructor\n",
    "            ?: throw IllegalArgumentException(\"${type.simpleName} 클래스에 주입할 생성자가 없습니다.\")\n",
    "\n",
    "        val parameters = constructor.parameters.map { param ->\n",
    "            val paramType = param.type.classifier as KClass<*>\n",
    "            get(paramType)\n",
    "        }\n",
    "\n",
    "        val instance = constructor.call(*parameters.toTypedArray())\n",
    "        singletonInstances[type] = instance\n",
    "        println(\"✅ [Reflection] ${type.simpleName} 인스턴스 자동 생성 및 등록 완료.\")\n",
    "        return instance\n",
    "    }\n",
    "}\n",
    "\n",
    "// [수정됨] DSL을 위한 확장 함수 (inline 유지)\n",
    "inline fun <reified T : Any> Container.singleton(noinline creator: Container.() -> T) {\n",
    "    this.registerSingleton(T::class, creator)\n",
    "}\n",
    "\n",
    "inline fun <reified T : Any> Container.factory(noinline creator: Container.() -> T) {\n",
    "    this.registerFactory(T::class, creator)\n",
    "}\n",
    "\n",
    "inline fun <reified T : Any> Container.get(): T = this.get(T::class)\n",
    "\n",
    "fun container(init: Container.() -> Unit): Container {\n",
    "    return Container().apply(init)\n",
    "}\n",
    "\n",
    "// --- 예시 사용법 ---\n",
    "println(\"--- DI 컨테이너 설정 시작 ---\")\n",
    "val appContainer = container {\n",
    "    singleton<Database> { MySQLDatabase() }\n",
    "    factory<Service> { UserService(get()) }\n",
    "}\n",
    "println(\"--- DI 컨테이너 설정 완료 ---\\n\")\n",
    "\n",
    "println(\"--- 1. 팩토리 스코프 의존성 요청 ---\")\n",
    "val userService1: Service = appContainer.get()\n",
    "println(\"UserService1 객체: ${userService1.serve()}\")\n",
    "println(\"주소: ${userService1.hashCode()}\\n\")\n",
    "\n",
    "val userService2: Service = appContainer.get()\n",
    "println(\"UserService2 객체: ${userService2.serve()}\")\n",
    "println(\"주소: ${userService2.hashCode()}\\n\")\n",
    "\n",
    "println(\"--- 2. ReportService 자동 주입 예제 ---\")\n",
    "val reportService: ReportService = appContainer.get()\n",
    "println(reportService.generateReport())\n",
    "\n"
   ],
   "outputs": [
    {
     "name": "stdout",
     "output_type": "stream",
     "text": [
      "--- DI 컨테이너 설정 시작 ---\n",
      "--- DI 컨테이너 설정 완료 ---\n",
      "\n",
      "--- 1. 팩토리 스코프 의존성 요청 ---\n",
      ">>>>>>> Container.get() 호출: Service\n",
      "ℹ️ [Provider] Service 인스턴스를 프로바이더로 생성합니다.\n",
      ">>>>>>> Container.get() 호출: Database\n",
      "ℹ️ [Provider] Database 인스턴스를 프로바이더로 생성합니다.\n",
      "UserService1 객체: 유저 서비스가 시작됩니다. (MySQL 데이터베이스에 연결되었습니다.)\n",
      "주소: 795798816\n",
      "\n",
      ">>>>>>> Container.get() 호출: Service\n",
      "ℹ️ [Provider] Service 인스턴스를 프로바이더로 생성합니다.\n",
      ">>>>>>> Container.get() 호출: Database\n",
      "ℹ️ [Cache] Database 인스턴스를 캐시에서 가져옵니다.\n",
      "UserService2 객체: 유저 서비스가 시작됩니다. (MySQL 데이터베이스에 연결되었습니다.)\n",
      "주소: 1661828723\n",
      "\n",
      "--- 2. ReportService 자동 주입 예제 ---\n",
      ">>>>>>> Container.get() 호출: ReportService\n",
      "ℹ️ [Reflection] ReportService에 대한 프로바이더가 없어 리플렉션으로 생성합니다.\n",
      ">>>>>>> Container.get() 호출: Service\n",
      "ℹ️ [Provider] Service 인스턴스를 프로바이더로 생성합니다.\n",
      ">>>>>>> Container.get() 호출: Database\n",
      "ℹ️ [Cache] Database 인스턴스를 캐시에서 가져옵니다.\n",
      "✅ [Reflection] ReportService 인스턴스 자동 생성 및 등록 완료.\n",
      "리포트 생성을 시작합니다...\n",
      "리포트 생성 완료: [유저 서비스가 시작됩니다. (MySQL 데이터베이스에 연결되었습니다.)]\n"
     ]
    }
   ],
   "execution_count": 111
  },
  {
   "metadata": {
    "ExecuteTime": {
     "end_time": "2025-07-16T02:06:01.012766Z",
     "start_time": "2025-07-16T02:06:00.977463Z"
    }
   },
   "cell_type": "code",
   "source": [
    "inline fun test(block: () -> Unit, noinline after: () -> Unit) {\n",
    "    block()      // 이 람다는 코드가 복사됨(인라인)\n",
    "    after()      // 이 람다는 복사되지 않고 함수 객체로 전달됨\n",
    "}\n",
    "\n",
    "fun runLater(action: () -> Unit) {\n",
    "    println(\"나중에 실행할게요!\")\n",
    "    action()\n",
    "}\n",
    "\n",
    "test(\n",
    "    { println(\"즉시 실행\") },\n",
    "    { runLater{ println(\"runLater 인자로 넘어간 함수\") } }\n",
    ")"
   ],
   "outputs": [
    {
     "name": "stdout",
     "output_type": "stream",
     "text": [
      "즉시 실행\n",
      "나중에 실행할게요!\n",
      "runLater 인자로 넘어간 함수\n"
     ]
    }
   ],
   "execution_count": 100
  },
  {
   "metadata": {
    "ExecuteTime": {
     "end_time": "2025-07-16T05:03:29.623548Z",
     "start_time": "2025-07-16T05:03:29.318062Z"
    }
   },
   "cell_type": "code",
   "source": [
    "import kotlin.reflect.KClass\n",
    "import kotlin.reflect.full.primaryConstructor\n",
    "import kotlin.text.set\n",
    "\n",
    "@Target(AnnotationTarget.CONSTRUCTOR)\n",
    "@Retention(AnnotationRetention.RUNTIME)\n",
    "annotation class Inject\n",
    "\n",
    "typealias Provider<T> = Container.() -> T\n",
    "\n",
    "class Container {\n",
    "    private val singletons = mutableMapOf<KClass<*>, Any>()\n",
    "    private val providers = mutableMapOf<KClass<*>, Provider<*>>()\n",
    "\n",
    "    fun <T : Any> singleton(clazz: KClass<T>, provider: Provider<T>) {\n",
    "        println(\"Container.singleton() 호출: ${clazz.simpleName}\")\n",
    "        providers[clazz] = {\n",
    "            @Suppress(\"UNCHECKED_CAST\")\n",
    "            singletons.getOrPut(clazz) { provider() } as T\n",
    "        }\n",
    "    }\n",
    "\n",
    "    fun <T : Any> factory(clazz: KClass<T>, provider: Provider<T>) {\n",
    "        println(\"Container.factory() 호출: ${clazz.simpleName}\")\n",
    "        providers[clazz] = provider\n",
    "    }\n",
    "\n",
    "    @Suppress(\"UNCHECKED_CAST\")\n",
    "    fun <T : Any> get(clazz: KClass<T>): T {\n",
    "        println(\"Container.get() 호출: ${clazz.simpleName}\")\n",
    "        val provider = providers[clazz] ?: autoResolveProvider(clazz)\n",
    "        return provider?.invoke(this) as? T\n",
    "            ?: throw IllegalStateException(\"No provider found for $clazz\")\n",
    "    }\n",
    "\n",
    "    private fun <T : Any> autoResolveProvider(clazz: KClass<T>): Provider<T>? {\n",
    "        val constructor = clazz.constructors.find {\n",
    "            it.annotations.any { it is Inject }\n",
    "        } ?: clazz.primaryConstructor\n",
    "\n",
    "        if (constructor != null) {\n",
    "            val provider: Provider<T> = {\n",
    "                val params = constructor.parameters.map { param ->\n",
    "                    val paramClass = param.type.classifier as? KClass<*>\n",
    "                        ?: throw IllegalArgumentException(\"Cannot resolve parameter type\")\n",
    "                    get(paramClass as KClass<Any>)\n",
    "                }\n",
    "                constructor.call(*params.toTypedArray())\n",
    "            }\n",
    "            providers[clazz] = provider\n",
    "            return provider\n",
    "        }\n",
    "        return null\n",
    "    }\n",
    "\n",
    "    inline fun <reified T : Any> get(): T = get(T::class)\n",
    "}\n",
    "\n",
    "class ContainerBuilder {\n",
    "    private val actions = mutableListOf<Container.() -> Unit>()\n",
    "\n",
    "    fun <T : Any> singleton(clazz: KClass<T>, provider: Provider<T>) {\n",
    "        println(\"normal singleton<T: Any> 호출\")\n",
    "        actions += { singleton(clazz, provider) }\n",
    "    }\n",
    "\n",
    "    inline fun <reified T : Any> singleton(noinline provider: Provider<T>) {\n",
    "        println(\"inline singleton<T: Any> 호출\")\n",
    "        singleton(T::class, provider)\n",
    "    }\n",
    "\n",
    "    fun <T : Any> factory(clazz: KClass<T>, provider: Provider<T>) {\n",
    "        actions += { factory(clazz, provider) }\n",
    "    }\n",
    "\n",
    "    inline fun <reified T : Any> factory(noinline provider: Provider<T>) =\n",
    "        factory(T::class, provider)\n",
    "\n",
    "    fun build(): Container = Container().apply {\n",
    "        println(\"ContainerBuilder.build() 호출\")\n",
    "        actions.forEach {\n",
    "            println(\"ContainerBuilder.build()에서 action 실행: $it\")\n",
    "            it(this)\n",
    "        }\n",
    "    }\n",
    "}\n",
    "\n",
    "fun container(init: ContainerBuilder.() -> Unit): Container {\n",
    "    println(\">>>>>>>>> init 호출: type is ${init::class.simpleName}\")\n",
    "    val container = ContainerBuilder().apply(init).build()\n",
    "    println(\">>>>>>>>> init 호출완료: type is ${init::class.simpleName}\")\n",
    "    return container\n",
    "}\n",
    "\n",
    "// 예시 클래스\n",
    "interface Database\n",
    "class MySQLDatabase : Database {\n",
    "    init {\n",
    "        println(\"MySQLDatabase 생성\")\n",
    "    }\n",
    "}\n",
    "\n",
    "\n",
    "interface Service\n",
    "class UserService(val db: Database) : Service {\n",
    "    init {\n",
    "        println(\"UserService 생성\")\n",
    "    }\n",
    "}\n",
    "\n",
    "\n",
    "// 예시 사용법\n",
    "val container = container {\n",
    "    println(\"container DSL 시작\")\n",
    "    singleton<Database> { MySQLDatabase() }\n",
    "    println(\"=================\")\n",
    "    factory<Service> { UserService(get()) }\n",
    "    println(\"container DSL 설정 완료\")\n",
    "}\n",
    "\n",
    "println(\"--- DI 컨테이너 설정 완료 ---\\n\")\n",
    "\n",
    "val service: Service = container.get()\n",
    "println(service is UserService) // true\n",
    "println((service as UserService).db is MySQLDatabase) // true"
   ],
   "outputs": [
    {
     "name": "stdout",
     "output_type": "stream",
     "text": [
      ">>>>>>>>> init 호출: type is Line_141_jupyter$$Lambda/0x0000007801aa4400\n",
      "container DSL 시작\n",
      "inline singleton<T: Any> 호출\n",
      "normal singleton<T: Any> 호출\n",
      "=================\n",
      "container DSL 설정 완료\n",
      "ContainerBuilder.build() 호출\n",
      "ContainerBuilder.build()에서 action 실행: Line_141_jupyter$ContainerBuilder$$Lambda/0x0000007801aa4c10@7ec9c49e\n",
      "Container.singleton() 호출: Database\n",
      "ContainerBuilder.build()에서 action 실행: Line_141_jupyter$ContainerBuilder$$Lambda/0x0000007801aa5400@44a7486d\n",
      "Container.factory() 호출: Service\n",
      ">>>>>>>>> init 호출완료: type is Line_141_jupyter$$Lambda/0x0000007801aa4400\n",
      "--- DI 컨테이너 설정 완료 ---\n",
      "\n",
      "Container.get() 호출: Service\n",
      "Container.get() 호출: Database\n",
      "MySQLDatabase 생성\n",
      "UserService 생성\n",
      "true\n",
      "true\n"
     ]
    }
   ],
   "execution_count": 135
  }
 ],
 "metadata": {
  "kernelspec": {
   "display_name": "Kotlin",
   "language": "kotlin",
   "name": "kotlin"
  },
  "language_info": {
   "codemirror_mode": "text/x-kotlin",
   "file_extension": ".kt",
   "mimetype": "text/x-kotlin",
   "name": "kotlin",
   "nbconvert_exporter": "",
   "pygments_lexer": "kotlin",
   "version": "1.8.0"
  }
 },
 "nbformat": 4,
 "nbformat_minor": 4
}
