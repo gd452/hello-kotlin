{
 "cells": [
  {
   "cell_type": "markdown",
   "metadata": {},
   "source": [
    "## 자바 개발자를 위한 코틀린 마스터: 종합 실습 노트북  종합편\n",
    "\n",
    "자바 개발자로서 코틀린의 매력을 가장 빠르고 깊이 있게 이해할 수 있도록, **기본편**과 **실전편**을 하나로 합친 종합 가이드입니다.\n",
    "\n",
    "**1부**에서는 자바의 상용구 코드를 획기적으로 줄여주는 코틀린의 기본 문법을, **2부**에서는 실제 개발 시나리오에서 문제를 우아하게 해결하는 코틀린의 고급 기법을 다룹니다.\n",
    "\n",
    "각 예제를 순서대로 실행하며 코틀린 전문가로 거듭나 보세요!"
   ],
   "id": "8c67d293bf69f2e6"
  },
  {
   "cell_type": "markdown",
   "metadata": {},
   "source": [
    "#  Part 1: 기본편 - 보일러플레이트를 넘어 생산성으로"
   ],
   "id": "302a5994361a17f9"
  },
  {
   "cell_type": "markdown",
   "metadata": {},
   "source": [
    "---"
   ],
   "id": "6d4b753049fd43b8"
  },
  {
   "cell_type": "markdown",
   "metadata": {},
   "source": [
    "### 1. 데이터 클래스 (DTO/POJO) 정의: 보일러플레이트의 증발"
   ],
   "id": "219426e587f50cd1"
  },
  {
   "cell_type": "markdown",
   "metadata": {},
   "source": [
    "**[Java]** `User` DTO를 만들기 위해 생성자, Getter, `equals()`, `hashCode()`, `toString()` 등 수많은 상용구를 작성해야 합니다.\n",
    "\n",
    "**[Kotlin]** `data` 키워드 하나면 컴파일러가 위 모든 메서드를 **자동으로 생성**해 줍니다. 코드의 양이 획기적으로 줄어들어 가독성과 유지보수성이 크게 향상됩니다."
   ],
   "id": "2cec3067f68f1b09"
  },
  {
   "cell_type": "code",
   "metadata": {
    "ExecuteTime": {
     "end_time": "2025-07-17T05:04:40.689455Z",
     "start_time": "2025-07-17T05:04:40.481110Z"
    }
   },
   "source": [
    "data class User(val name: String, val age: Int, val email: String?)\n",
    "\n",
    "val user1 = User(\"Alice\", 30, \"alice@example.com\")\n",
    "val user2 = User(\"Alice\", 30, \"alice@example.com\")\n",
    "\n",
    "println(user1) // toString() 자동 생성\n",
    "println(user1 == user2) // equals() & hashCode() 자동 생성"
   ],
   "id": "96155c768223de51",
   "outputs": [
    {
     "name": "stdout",
     "output_type": "stream",
     "text": [
      "User(name=Alice, age=30, email=alice@example.com)\n",
      "true\n"
     ]
    }
   ],
   "execution_count": 1
  },
  {
   "cell_type": "markdown",
   "metadata": {},
   "source": [
    "---"
   ],
   "id": "5f9199f0f02fe31b"
  },
  {
   "cell_type": "markdown",
   "metadata": {},
   "source": [
    "### 2. Null 처리: NullPointerException(NPE)과의 작별 👋"
   ],
   "id": "aa38c4833ba457cb"
  },
  {
   "cell_type": "markdown",
   "metadata": {},
   "source": [
    "**[Kotlin]** 타입 선언 시 `?`를 붙여 **Null이 될 수 있는 타입(Nullable)과 없는 타입(Non-null)을 명확히 구분**합니다. Nullable 타입에 접근하려면 **Safe Call 연산자 `?.`** 나 **Elvis 연산자 `?:`** 를 사용하도록 컴파일 시점에 강제하여 NPE를 원천적으로 방지합니다."
   ],
   "id": "8350be568ccc25bb"
  },
  {
   "cell_type": "code",
   "metadata": {
    "ExecuteTime": {
     "end_time": "2025-07-17T05:04:42.016498Z",
     "start_time": "2025-07-17T05:04:41.930771Z"
    }
   },
   "source": [
    "val bob = User(\"Bob\", 25, null) // email은 nullable 타입\n",
    "\n",
    "// Safe Call: email이 null이 아니면 toUpperCase()를 호출하고, null이면 전체 결과가 null이 됨\n",
    "val upperEmail = bob.email?.uppercase()\n",
    "println(\"Bob의 이메일(대문자): $upperEmail\")\n",
    "\n",
    "// Elvis 연산자: null일 경우 \"이메일 없음\" 이라는 기본값을 지정\n",
    "val emailOrDefault = bob.email ?: \"이메일 없음\"\n",
    "println(\"Bob의 이메일 주소: $emailOrDefault\")"
   ],
   "id": "b424bc4f48045341",
   "outputs": [
    {
     "name": "stdout",
     "output_type": "stream",
     "text": [
      "Bob의 이메일(대문자): null\n",
      "Bob의 이메일 주소: 이메일 없음\n"
     ]
    }
   ],
   "execution_count": 2
  },
  {
   "cell_type": "markdown",
   "metadata": {},
   "source": [
    "---"
   ],
   "id": "2f005ddc0f9c17e8"
  },
  {
   "cell_type": "markdown",
   "metadata": {},
   "source": [
    "### 3. 컬렉션 다루기: 더 똑똑하고 간결하게 🧠"
   ],
   "id": "25bd60e3911a90de"
  },
  {
   "cell_type": "markdown",
   "metadata": {},
   "source": [
    "**[Kotlin]** `filter`, `map`, `forEach` 등 **직관적인 고차 함수**를 기본으로 제공하여, 데이터의 흐름을 선언적으로 기술할 수 있습니다. 코드가 짧아지고 의도가 명확해집니다."
   ],
   "id": "c4335ad12dfc4636"
  },
  {
   "cell_type": "code",
   "metadata": {
    "ExecuteTime": {
     "end_time": "2025-07-17T05:05:44.623785Z",
     "start_time": "2025-07-17T05:05:44.543530Z"
    }
   },
   "source": [
    "val users = listOf(\n",
    "    User(\"Charlie\", 35, \"c@test.com\"), \n",
    "    User(\"David\", 28, null), \n",
    "    User(\"Eve\", 40, \"e@test.com\")\n",
    ")\n",
    "\n",
    "val results = users\n",
    "    .filter { it.age >= 30 } // 30세 이상만 필터링\n",
    "    .map { it.name.uppercase() } // 이름을 대문자로 변환\n",
    "\n",
    "println(\"30세 이상 사용자 이름: $results\")"
   ],
   "id": "ac77d212e00f0ac0",
   "outputs": [
    {
     "name": "stdout",
     "output_type": "stream",
     "text": [
      "30세 이상 사용자 이름: [CHARLIE, EVE]\n"
     ]
    }
   ],
   "execution_count": 5
  },
  {
   "cell_type": "markdown",
   "metadata": {},
   "source": [
    "---"
   ],
   "id": "d1dae27fcc3c23ee"
  },
  {
   "cell_type": "markdown",
   "metadata": {},
   "source": [
    "### 4. 조건문과 When 표현식: `if`와 `switch`를 넘어서"
   ],
   "id": "351510f195a10f36"
  },
  {
   "cell_type": "markdown",
   "metadata": {},
   "source": [
    "**[Kotlin]** `if` 와 `when`은 **표현식(expression)**이므로 **결과 값을 직접 반환**할 수 있습니다. 코드가 간결해지고 `val`(final 변수) 사용을 유도하여 불변성을 높입니다. `when`은 범위, 타입 등 훨씬 다양한 조건으로 분기할 수 있습니다."
   ],
   "id": "f103fc275f309b89"
  },
  {
   "cell_type": "code",
   "metadata": {
    "ExecuteTime": {
     "end_time": "2025-07-17T05:06:51.770347Z",
     "start_time": "2025-07-17T05:06:51.703945Z"
    }
   },
   "source": [
    "fun getGrade(score: Int): String {\n",
    "    return when (score) {\n",
    "        in 90..100 -> \"A\"\n",
    "        in 80..89 -> \"B\"\n",
    "        in 70..79 -> \"C\"\n",
    "        else -> \"F\"\n",
    "    }\n",
    "}\n",
    "\n",
    "println(\"95점은 ${getGrade(95)}학점입니다.\")\n",
    "println(\"65점은 ${getGrade(65)}학점입니다.\")"
   ],
   "id": "cd09c2cfbb38599e",
   "outputs": [
    {
     "name": "stdout",
     "output_type": "stream",
     "text": [
      "95점은 A학점입니다.\n",
      "65점은 F학점입니다.\n"
     ]
    }
   ],
   "execution_count": 6
  },
  {
   "cell_type": "markdown",
   "metadata": {},
   "source": [
    "---"
   ],
   "id": "636651b91470c4a6"
  },
  {
   "cell_type": "markdown",
   "metadata": {},
   "source": [
    "### 5. 싱글톤 패턴: 단 한 줄로 완성 ✨"
   ],
   "id": "dab1e8f00e83aaa"
  },
  {
   "cell_type": "markdown",
   "metadata": {},
   "source": [
    "**[Kotlin]** `class` 대신 `object` 키워드를 사용하면, **스레드에 안전한(thread-safe) 싱글톤**이 즉시 만들어집니다."
   ],
   "id": "89fed862a464f571"
  },
  {
   "cell_type": "code",
   "metadata": {
    "ExecuteTime": {
     "end_time": "2025-07-17T05:07:17.424317Z",
     "start_time": "2025-07-17T05:07:17.371514Z"
    }
   },
   "source": [
    "object DatabaseConnector {\n",
    "    init {\n",
    "        println(\"데이터베이스 연결 초기화...\")\n",
    "    }\n",
    "    fun connect() = \"데이터베이스에 연결되었습니다.\"\n",
    "}\n",
    "\n",
    "println(DatabaseConnector.connect())\n",
    "println(DatabaseConnector.connect()) // init 블록은 최초 한 번만 실행됨"
   ],
   "id": "e9dcefb3edbf3aaa",
   "outputs": [
    {
     "name": "stdout",
     "output_type": "stream",
     "text": [
      "데이터베이스 연결 초기화...\n",
      "데이터베이스에 연결되었습니다.\n",
      "데이터베이스에 연결되었습니다.\n"
     ]
    }
   ],
   "execution_count": 7
  },
  {
   "cell_type": "markdown",
   "metadata": {},
   "source": [
    "---"
   ],
   "id": "e03d8cdaa6e5f25e"
  },
  {
   "cell_type": "markdown",
   "metadata": {},
   "source": [
    "### 6. 확장 함수: 기존 클래스에 날개 달기 🚀"
   ],
   "id": "7c9e56c4abb2b975"
  },
  {
   "cell_type": "markdown",
   "metadata": {},
   "source": [
    "**[Kotlin]** **확장 함수(Extension Function)**를 사용하면 상속 없이도 `String` 같은 기존 클래스에 새로운 함수를 추가할 수 있습니다. 마치 원래 있던 멤버 함수처럼 자연스럽게 사용할 수 있습니다."
   ],
   "id": "47191788fbecc9c"
  },
  {
   "cell_type": "code",
   "metadata": {
    "ExecuteTime": {
     "end_time": "2025-07-17T05:09:17.367724Z",
     "start_time": "2025-07-17T05:09:17.280058Z"
    }
   },
   "source": [
    "// String 클래스에 isEmail() 이라는 새로운 함수를 추가\n",
    "fun String.isEmail(): Boolean {\n",
    "    return this.contains(\"@\") && this.contains(\".\")\n",
    "}\n",
    "\n",
    "val emailStr = \"my-email@example.com\"\n",
    "val nonEmailStr = \"just a string\"\n",
    "\n",
    "println(\"'$emailStr'는 이메일 형식인가요? ${emailStr.isEmail()}\")\n",
    "println(\"'$nonEmailStr'는 이메일 형식인가요? ${nonEmailStr.isEmail()}\")"
   ],
   "id": "94079c4ac57fe83f",
   "outputs": [
    {
     "name": "stdout",
     "output_type": "stream",
     "text": [
      "'my-email@example.com'는 이메일 형식인가요? true\n",
      "'just a string'는 이메일 형식인가요? false\n"
     ]
    }
   ],
   "execution_count": 8
  },
  {
   "cell_type": "markdown",
   "metadata": {},
   "source": [
    "# Part 2: 실전편 - 우아하게 문제 해결하기"
   ],
   "id": "559f3998f9fe50f1"
  },
  {
   "cell_type": "markdown",
   "metadata": {},
   "source": [
    "---"
   ],
   "id": "aa0ad91bf6fd5e8d"
  },
  {
   "cell_type": "markdown",
   "metadata": {},
   "source": [
    "### 7. 함수 오버로딩 탈출: 기본값 & 이름 붙인 인자"
   ],
   "id": "c84619cbd0837da1"
  },
  {
   "cell_type": "markdown",
   "metadata": {},
   "source": [
    "**[시나리오]** 다양한 옵션을 가진 함수를 만들어야 합니다.\n",
    "\n",
    "**[Kotlin]** 함수 정의 시 **기본 인자(Default Argument)**를 지정할 수 있어 여러 함수를 만들 필요가 없습니다. 함수 호출 시 **이름 붙인 인자(Named Argument)**를 사용하면 파라미터의 순서와 상관없이 값을 전달할 수 있어 가독성이 높아집니다."
   ],
   "id": "c49d578efa6cd977"
  },
  {
   "cell_type": "code",
   "metadata": {
    "ExecuteTime": {
     "end_time": "2025-07-17T05:10:02.656767Z",
     "start_time": "2025-07-17T05:10:02.577642Z"
    }
   },
   "source": [
    "fun sendEmail(\n",
    "    to: String,\n",
    "    subject: String,\n",
    "    body: String,\n",
    "    isHtml: Boolean = false, // 기본값 지정\n",
    "    retryCount: Int = 3 // 기본값 지정\n",
    ") {\n",
    "    println(\"--- 이메일 발송 ---\")\n",
    "    println(\"수신: $to, 제목: $subject, HTML: $isHtml, 재시도: $retryCount\")\n",
    "}\n",
    "\n",
    "// 1. 필수 인자만 사용하여 호출\n",
    "sendEmail(to = \"user1@test.com\", subject = \"Hello\", body = \"Hi there!\")\n",
    "\n",
    "// 2. 일부 옵션만 이름으로 지정하여 호출 (순서 무관)\n",
    "sendEmail(to = \"user2@test.com\", subject = \"Report\", body = \"See attachment\", isHtml = true)"
   ],
   "id": "2b6378800816bd13",
   "outputs": [
    {
     "name": "stdout",
     "output_type": "stream",
     "text": [
      "--- 이메일 발송 ---\n",
      "수신: user1@test.com, 제목: Hello, HTML: false, 재시도: 3\n",
      "--- 이메일 발송 ---\n",
      "수신: user2@test.com, 제목: Report, HTML: true, 재시도: 3\n"
     ]
    }
   ],
   "execution_count": 9
  },
  {
   "cell_type": "markdown",
   "metadata": {},
   "source": [
    "---"
   ],
   "id": "32b4f83a5c9ecc17"
  },
  {
   "cell_type": "markdown",
   "metadata": {},
   "source": [
    "### 8. 고급 컬렉션 처리: 복잡한 데이터를 원하는 대로 주무르기"
   ],
   "id": "b01a566e590febd7"
  },
  {
   "cell_type": "markdown",
   "metadata": {},
   "source": [
    "**[시나리오]** 여러 주문(Order) 데이터를 '고객별'로 그룹화하고, 각 고객의 총주문 금액을 계산해야 합니다.\n",
    "\n",
    "**[Kotlin]** `groupBy`로 데이터를 묶고, `mapValues`로 각 그룹의 값을 변환하는 연산을 직관적으로 연결할 수 있습니다. 마치 SQL 쿼리를 작성하듯 자연스럽습니다."
   ],
   "id": "efe12f0d0b03f8e2"
  },
  {
   "cell_type": "code",
   "metadata": {
    "ExecuteTime": {
     "end_time": "2025-07-17T05:23:18.070725Z",
     "start_time": "2025-07-17T05:23:18.005302Z"
    }
   },
   "source": [
    "data class Order(val customerId: String, val amount: Double)\n",
    "\n",
    "val orders = listOf(\n",
    "    Order(\"Alice\", 150.0),\n",
    "    Order(\"Bob\", 200.0),\n",
    "    Order(\"Alice\", 50.5),\n",
    "    Order(\"Charlie\", 300.0),\n",
    "    Order(\"Bob\", 75.0)\n",
    ")\n",
    "\n",
    "// 고객 ID로 주문들을 그룹화하고 각 고객의 총 주문 금액 계산\n",
    "val totalAmountByCustomer = orders\n",
    "    .groupBy { it.customerId }\n",
    "    .mapValues { it.value.sumOf { order -> order.amount} }\n",
    "\n",
    "println(\"고객별 총 주문 금액: $totalAmountByCustomer\")"
   ],
   "id": "edee937414dd43ea",
   "outputs": [
    {
     "name": "stdout",
     "output_type": "stream",
     "text": [
      "고객별 총 주문 금액: {Alice=200.5, Bob=275.0, Charlie=300.0}\n"
     ]
    }
   ],
   "execution_count": 45
  },
  {
   "cell_type": "markdown",
   "metadata": {},
   "source": [
    "---"
   ],
   "id": "f0d766e5bc8f6009"
  },
  {
   "cell_type": "markdown",
   "metadata": {},
   "source": [
    "### 9. 스코프 함수 활용: 코드 블록을 깔끔하게 정리하기"
   ],
   "id": "9f0986cc974f5091"
  },
  {
   "cell_type": "markdown",
   "metadata": {},
   "source": [
    "**[시나리오]** 객체를 생성한 후 여러 속성을 설정하거나, Null이 아닌 경우에만 특정 로직을 실행하고 싶습니다.\n",
    "\n",
    "**[Kotlin]** `apply`, `let`, `run` 등 스코프 함수를 사용해 코드의 맥락(context)을 명확히 하고 반복을 줄입니다.\n",
    "\n",
    "- **`apply`**: 객체 초기화 및 설정에 사용. 객체 자신(`this`)을 반환합니다. (빌더 패턴 대체)\n",
    "- **`let`**: Null-safe 호출에 주로 사용. 결과물을 람다(`it`)로 받아 다른 값을 반환할 수 있습니다."
   ],
   "id": "74d4a74bffbc595"
  },
  {
   "cell_type": "code",
   "metadata": {
    "ExecuteTime": {
     "end_time": "2025-07-17T05:29:18.841148Z",
     "start_time": "2025-07-17T05:29:18.786221Z"
    }
   },
   "source": [
    "class HttpClient {\n",
    "    var timeout: Int = 5000\n",
    "    var userAgent: String = \"Default-Client\"\n",
    "    fun execute() = println(\"$userAgent - (timeout: $timeout) 요청 실행\")\n",
    "}\n",
    "data class Address(val street: String?)\n",
    "data class Person(val name: String, val address: Address?)\n",
    "\n",
    "// 1. apply를 사용한 객체 설정\n",
    "val client = HttpClient().apply {\n",
    "    timeout = 10000\n",
    "    userAgent = \"My-Kotlin-Client\"\n",
    "}\n",
    "client.execute()\n",
    "\n",
    "// 2. let을 사용한 Null-safe 처리\n",
    "Person(\"Grace\", Address(\"Pangyo\")).address?.street?.let {\n",
    "    println(\"주소는 '$it' 입니다.\") // it은 null이 아닌 street\n",
    "}\n"
   ],
   "id": "69f98c6915bfe3e8",
   "outputs": [
    {
     "name": "stdout",
     "output_type": "stream",
     "text": [
      "My-Kotlin-Client - (timeout: 10000) 요청 실행\n",
      "주소는 'Pangyo' 입니다.\n"
     ]
    }
   ],
   "execution_count": 53
  },
  {
   "cell_type": "markdown",
   "metadata": {},
   "source": [
    "---"
   ],
   "id": "d8edef8887dcefcd"
  },
  {
   "cell_type": "markdown",
   "metadata": {},
   "source": [
    "### 10. 구조 분해 할당: 객체를 손쉽게 분해하기"
   ],
   "id": "8cb7f7d3e70b3af2"
  },
  {
   "cell_type": "markdown",
   "metadata": {},
   "source": [
    "**[시나리오]** Map의 key와 value를 동시에 사용하거나, 함수에서 여러 값을 반환받아 사용하고 싶습니다.\n",
    "\n",
    "**[Kotlin]** **구조 분해 할당(Destructuring Declarations)**을 통해 객체의 프로퍼티를 여러 변수에 한 번에 할당할 수 있습니다. `data class`, `Pair`, `Triple`, `Map.Entry` 등이 기본 지원됩니다."
   ],
   "id": "ef334e9f504a748b"
  },
  {
   "cell_type": "code",
   "metadata": {
    "ExecuteTime": {
     "end_time": "2025-07-17T05:30:57.987166Z",
     "start_time": "2025-07-17T05:30:57.872549Z"
    }
   },
   "source": [
    "// 1. Map의 key, value를 바로 변수로 사용\n",
    "for ((customer, total) in totalAmountByCustomer) {\n",
    "    println(\"$customer 님의 총 주문액은 $total 입니다.\")\n",
    "}\n",
    "\n",
    "// 2. data class의 프로퍼티를 변수로 분해\n",
    "val (name, age, email) = User(\"Tom\", 42, \"tom@a.com\")\n",
    "println(\"\\n이름: $name, 나이: $age, 이메일: $email\")"
   ],
   "id": "f0ec10e81b0363a0",
   "outputs": [
    {
     "name": "stdout",
     "output_type": "stream",
     "text": [
      "Alice 님의 총 주문액은 200.5 입니다.\n",
      "Bob 님의 총 주문액은 275.0 입니다.\n",
      "Charlie 님의 총 주문액은 300.0 입니다.\n",
      "\n",
      "이름: Tom, 나이: 42, 이메일: tom@a.com\n"
     ]
    }
   ],
   "execution_count": 54
  },
  {
   "cell_type": "markdown",
   "metadata": {},
   "source": [
    "---"
   ],
   "id": "74c9658cfd8cf0a9"
  },
  {
   "cell_type": "markdown",
   "metadata": {},
   "source": [
    "### 11. 위임 프로퍼티: 똑똑한 속성 만들기"
   ],
   "id": "1c044e4569468828"
  },
  {
   "cell_type": "markdown",
   "metadata": {},
   "source": [
    "**[시나리오]** 특정 프로퍼티의 값이 변경될 때마다 로그를 남기거나, 프로퍼티가 처음 사용될 때 초기화(Lazy Loading)하고 싶습니다.\n",
    "\n",
    "**[Kotlin]** `by` 키워드를 이용한 **위임(Delegation)**을 통해 공통 로직을 재사용합니다. `lazy`나 `Delegates.observable` 같은 표준 위임 객체를 활용하면 매우 간단합니다."
   ],
   "id": "aab4c192e15f119f"
  },
  {
   "cell_type": "code",
   "metadata": {
    "ExecuteTime": {
     "end_time": "2025-07-17T05:33:56.502651Z",
     "start_time": "2025-07-17T05:33:56.402329Z"
    }
   },
   "source": [
    "import kotlin.properties.Delegates\n",
    "\n",
    "class ServerConfig {\n",
    "    // 1. Lazy-loading: config 프로퍼티가 처음 사용될 때 초기화 블록이 실행됨\n",
    "    val config: Map<String, String> by lazy {\n",
    "        println(\"파일에서 설정 읽는 중...\")\n",
    "        mapOf(\"db_host\" to \"localhost\", \"db_port\" to \"5432\")\n",
    "    }\n",
    "\n",
    "    // 2. Observable: status 프로퍼티 값이 변경될 때마다 람다 블록이 실행됨\n",
    "    var status: String by Delegates.observable(\"IDLE\") { prop, old, new ->\n",
    "        println(\"prop: ${prop.name}, old: $old, new: $new\")\n",
    "//        println(\"서버 상태 변경: '$old' -> '$new'\")\n",
    "    }\n",
    "}\n",
    "\n",
    "val server = ServerConfig()\n",
    "server.status = \"RUNNING\"\n",
    "println(\"DB 호스트: ${server.config[\"db_host\"]}\") // 이 시점에 lazy 블록 실행\n",
    "println(\"DB 포트: ${server.config[\"db_port\"]}\")"
   ],
   "id": "c0fa7862379b48a2",
   "outputs": [
    {
     "name": "stdout",
     "output_type": "stream",
     "text": [
      "prop: status, old: IDLE, new: RUNNING\n",
      "파일에서 설정 읽는 중...\n",
      "DB 호스트: localhost\n",
      "DB 포트: 5432\n"
     ]
    }
   ],
   "execution_count": 56
  },
  {
   "cell_type": "markdown",
   "metadata": {},
   "source": [
    "---"
   ],
   "id": "435374d42e1f17f2"
  },
  {
   "cell_type": "markdown",
   "metadata": {},
   "source": [
    "### 12. 코루틴을 이용한 비동기 처리: 깔끔한 동시성"
   ],
   "id": "fcbcb89e393efa94"
  },
  {
   "cell_type": "markdown",
   "metadata": {},
   "source": [
    "**[시나리오]** 외부 API에서 사용자 정보와 주문 내역을 동시에 가져와 조합해야 합니다. 각 API 호출은 시간이 걸립니다.\n",
    "\n",
    "**[Kotlin]** **코루틴(Coroutines)**을 사용하면 비동기 코드를 마치 동기 코드처럼 순차적으로 작성할 수 있습니다. `async`로 비동기 작업을 시작하고 `await`로 결과를 기다리는 방식은 매우 직관적입니다."
   ],
   "id": "2abcd2e8f71d8bba"
  },
  {
   "cell_type": "code",
   "execution_count": null,
   "metadata": {},
   "outputs": [],
   "source": [
    "import kotlinx.coroutines.*\n",
    "\n",
    "suspend fun fetchUserData(userId: String): String {\n",
    "    delay(1000L) // 1초 지연\n",
    "    return \"User(name=Ivan, id=$userId)\"\n",
    "}\n",
    "\n",
    "suspend fun fetchUserOrders(userId: String): List<String> {\n",
    "    delay(1500L) // 1.5초 지연\n",
    "    return listOf(\"Order-1\", \"Order-2\")\n",
    "}\n",
    "\n",
    "// 코루틴 스코프에서 비동기 작업 실행\n",
    "runBlocking {\n",
    "    val startTime = System.currentTimeMillis()\n",
    "\n",
    "    val userDeferred = async { fetchUserData(\"ivan123\") }\n",
    "    val ordersDeferred = async { fetchUserOrders(\"ivan123\") }\n",
    "\n",
    "    val user = userDeferred.await()\n",
    "    val orders = ordersDeferred.await()\n",
    "\n",
    "    println(\"사용자 정보: $user\")\n",
    "    println(\"주문 내역: $orders\")\n",
    "    println(\"총 소요 시간: ${System.currentTimeMillis() - startTime}ms\") // 순차 실행했다면 2500ms, 동시 실행해서 1500ms 근처\n",
    "}"
   ],
   "id": "43fb637ba41bc560"
  }
 ],
 "metadata": {
  "kernelspec": {
   "display_name": "Kotlin",
   "language": "kotlin",
   "name": "kotlin"
  },
  "language_info": {
   "codemirror_mode": "text/x-kotlin",
   "file_extension": ".kt",
   "mimetype": "text/x-kotlin",
   "name": "kotlin",
   "pygments_lexer": "kotlin",
   "version": "1.9.23"
  }
 },
 "nbformat": 4,
 "nbformat_minor": 5
}
