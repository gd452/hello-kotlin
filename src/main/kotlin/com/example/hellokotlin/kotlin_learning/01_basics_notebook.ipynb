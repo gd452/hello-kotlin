{
 "cells": [
  {
   "cell_type": "markdown",
   "metadata": {},
   "source": [
    "# Kotlin 기본 문법 학습\n",
    "## Java, C, Python과 비교하며 배우는 Kotlin\n",
    "\n",
    "이 노트북은 Kotlin의 기본 문법을 인터랙티브하게 학습할 수 있도록 구성되었습니다.\n",
    "\n",
    "### 실행 방법\n",
    "1. **Jupyter Notebook + Kotlin Kernel 설치**\n",
    "   ```bash\n",
    "   pip install jupyter\n",
    "   conda install -c jetbrains kotlin-jupyter-kernel\n",
    "   ```\n",
    "\n",
    "2. **노트북 실행**\n",
    "   ```bash\n",
    "   jupyter notebook 01_basics_notebook.ipynb\n",
    "   ```\n",
    "\n",
    "3. **IntelliJ Ultimate / DataSpell**\n",
    "   - 파일을 열면 자동으로 Kotlin Notebook으로 인식\n",
    "   - 각 셀을 개별적으로 실행 가능"
   ]
  },
  {
   "cell_type": "markdown",
   "metadata": {},
   "source": [
    "## 1. 변수 선언\n",
    "\n",
    "Kotlin의 변수 선언은 Python처럼 타입 추론이 가능하지만, Java/C처럼 타입을 명시할 수도 있습니다."
   ]
  },
  {
   "cell_type": "code",
   "metadata": {
    "ExecuteTime": {
     "end_time": "2025-07-09T01:55:28.459147Z",
     "start_time": "2025-07-09T01:55:28.363083Z"
    }
   },
   "source": [
    "// val: 불변 변수 (Java의 final, C의 const와 유사)\n",
    "val immutableName = \"GD\"  // 타입 추론: String\n",
    "println(\"val (불변): $immutableName\")\n",
    "\n",
    "// val은 재할당 불가능합니다. 아래 주석을 해제하면 오류가 발생합니다.\n",
    "// immutableName = \"NewName\"  // 컴파일 에러!"
   ],
   "outputs": [
    {
     "name": "stdout",
     "output_type": "stream",
     "text": [
      "val (불변): GD\n"
     ]
    }
   ],
   "execution_count": 1
  },
  {
   "cell_type": "code",
   "execution_count": null,
   "metadata": {},
   "outputs": [],
   "source": [
    "// var: 가변 변수 (일반적인 변수)\n",
    "var mutableAge = 25  // 타입 추론: Int\n",
    "println(\"var (가변): $mutableAge\")\n",
    "\n",
    "mutableAge = 26  // var는 재할당 가능\n",
    "println(\"나이 변경 후: $mutableAge\")"
   ]
  },
  {
   "cell_type": "code",
   "execution_count": null,
   "metadata": {},
   "outputs": [],
   "source": [
    "// 타입 추론 vs 명시적 타입 선언\n",
    "val inferredType = \"타입 추론\"           // 타입 추론\n",
    "val explicitType: String = \"명시적 타입\"  // Java처럼 타입 명시\n",
    "\n",
    "println(\"타입 추론: $inferredType (Python처럼 자동)\")\n",
    "println(\"명시적 타입: $explicitType (Java/C처럼 명시)\")"
   ]
  },
  {
   "cell_type": "code",
   "execution_count": null,
   "metadata": {},
   "outputs": [],
   "source": [
    "// Kotlin의 기본 타입들 (Java의 primitive 타입과 달리 모두 객체)\n",
    "val intNum: Int = 42        // Java의 int (32비트)\n",
    "val longNum: Long = 42L     // Java의 long (64비트)\n",
    "val floatNum: Float = 3.14f // Java의 float\n",
    "val doubleNum: Double = 3.14 // Java의 double\n",
    "val boolValue: Boolean = true // Java의 boolean\n",
    "val charValue: Char = 'A'    // Java의 char\n",
    "\n",
    "println(\"Int: $intNum, Long: $longNum\")\n",
    "println(\"Float: $floatNum, Double: $doubleNum\")\n",
    "println(\"Boolean: $boolValue, Char: $charValue\")"
   ]
  },
  {
   "cell_type": "markdown",
   "metadata": {},
   "source": [
    "### 💡 핵심 포인트\n",
    "- **Python과 달리** Kotlin은 정적 타입 언어입니다.\n",
    "- **C와 달리** 메모리 관리는 자동으로 처리됩니다.\n",
    "- **Java와 달리** primitive 타입이 없고 모든 것이 객체입니다."
   ]
  },
  {
   "cell_type": "markdown",
   "metadata": {},
   "source": [
    "## 2. 함수 선언\n",
    "\n",
    "Kotlin의 함수는 Java보다 간결하고, Python처럼 유연합니다."
   ]
  },
  {
   "cell_type": "code",
   "execution_count": null,
   "metadata": {},
   "outputs": [],
   "source": [
    "// 기본 함수 선언 (Java와 유사하지만 더 간결)\n",
    "fun greet(name: String): String {\n",
    "    return \"안녕하세요, ${name}님!\"\n",
    "}\n",
    "\n",
    "println(greet(\"Kotlin\"))"
   ]
  },
  {
   "cell_type": "code",
   "execution_count": null,
   "metadata": {},
   "outputs": [],
   "source": [
    "// 단일 표현식 함수 (Python의 lambda처럼 간결)\n",
    "fun greetShort(name: String) = \"반갑습니다, ${name}님!\"\n",
    "\n",
    "println(greetShort(\"개발자\"))"
   ]
  },
  {
   "cell_type": "code",
   "execution_count": null,
   "metadata": {},
   "outputs": [],
   "source": [
    "// 반환값이 없는 함수 (Java의 void, C의 void와 동일한 개념)\n",
    "fun printSum(a: Int, b: Int) {\n",
    "    println(\"$a + $b = ${a + b}\")\n",
    "}\n",
    "\n",
    "printSum(10, 20)"
   ]
  },
  {
   "cell_type": "code",
   "execution_count": null,
   "metadata": {},
   "outputs": [],
   "source": [
    "// 기본 매개변수 (Python처럼 기본값 지원)\n",
    "fun multiply(a: Int, b: Int = 2) = a * b\n",
    "\n",
    "println(\"기본값 함수: 5 * 2 = ${multiply(5)}\")\n",
    "println(\"인자 전달: 5 * 3 = ${multiply(5, 3)}\")"
   ]
  },
  {
   "cell_type": "code",
   "execution_count": null,
   "metadata": {},
   "outputs": [],
   "source": [
    "// 명명된 인자 (Python의 keyword arguments와 유사)\n",
    "fun createUser(name: String, age: Int, city: String = \"Seoul\") = \n",
    "    \"User(name=$name, age=$age, city=$city)\"\n",
    "\n",
    "println(createUser(\"김철수\", 30))\n",
    "println(createUser(age = 25, name = \"이영희\", city = \"Busan\"))  // 순서 바꿔도 OK"
   ]
  },
  {
   "cell_type": "code",
   "execution_count": null,
   "metadata": {},
   "outputs": [],
   "source": [
    "// 가변 인자 (Java의 varargs, Python의 *args와 유사)\n",
    "fun sum(vararg numbers: Int): Int {\n",
    "    return numbers.sum()\n",
    "}\n",
    "\n",
    "println(\"sum(1, 2, 3) = ${sum(1, 2, 3)}\")\n",
    "println(\"sum(1, 2, 3, 4, 5) = ${sum(1, 2, 3, 4, 5)}\")"
   ]
  },
  {
   "cell_type": "markdown",
   "metadata": {},
   "source": [
    "### 💡 핵심 포인트\n",
    "- **Java와 달리** 함수를 최상위 레벨에 선언 가능 (클래스 불필요)\n",
    "- **Python처럼** 기본 매개변수와 명명된 인자 지원\n",
    "- **C와 달리** 함수 포인터 대신 함수 타입 사용"
   ]
  },
  {
   "cell_type": "markdown",
   "metadata": {},
   "source": [
    "## 3. 조건문\n",
    "\n",
    "Kotlin의 조건문은 Java/C의 문법을 기반으로 하지만, 더 강력하고 표현력이 뛰어납니다."
   ]
  },
  {
   "cell_type": "code",
   "execution_count": null,
   "metadata": {},
   "outputs": [],
   "source": [
    "// if-else (Java/C와 동일하지만 표현식으로도 사용 가능)\n",
    "val score = 85\n",
    "\n",
    "if (score >= 90) {\n",
    "    println(\"등급: A\")\n",
    "} else if (score >= 80) {\n",
    "    println(\"등급: B\")\n",
    "} else {\n",
    "    println(\"등급: C\")\n",
    "}"
   ]
  },
  {
   "cell_type": "code",
   "execution_count": null,
   "metadata": {},
   "outputs": [],
   "source": [
    "// if를 표현식으로 사용 (Python의 삼항 연산자와 유사)\n",
    "val score = 85\n",
    "val grade = if (score >= 90) \"A\" else if (score >= 80) \"B\" else \"C\"\n",
    "println(\"표현식으로 사용: 등급 = $grade\")"
   ]
  },
  {
   "cell_type": "code",
   "execution_count": null,
   "metadata": {},
   "outputs": [],
   "source": [
    "// when (Java의 switch, Python의 match와 유사하지만 더 강력)\n",
    "val day = 3\n",
    "val dayName = when (day) {\n",
    "    1 -> \"월요일\"\n",
    "    2 -> \"화요일\"\n",
    "    3 -> \"수요일\"\n",
    "    4 -> \"목요일\"\n",
    "    5 -> \"금요일\"\n",
    "    6, 7 -> \"주말\"  // 여러 값을 한 번에\n",
    "    else -> \"잘못된 입력\"\n",
    "}\n",
    "println(\"when 기본: ${day}일은 $dayName\")"
   ]
  },
  {
   "cell_type": "code",
   "execution_count": null,
   "metadata": {},
   "outputs": [],
   "source": [
    "// when with conditions (if-elif-else를 더 깔끔하게)\n",
    "val number = 15\n",
    "when {\n",
    "    number % 2 == 0 -> println(\"${number}는 짝수\")\n",
    "    number % 3 == 0 -> println(\"${number}는 3의 배수\")\n",
    "    number % 5 == 0 -> println(\"${number}는 5의 배수\")\n",
    "    else -> println(\"${number}는 특별한 성질이 없음\")\n",
    "}"
   ]
  },
  {
   "cell_type": "code",
   "execution_count": null,
   "metadata": {},
   "outputs": [],
   "source": [
    "// when with ranges\n",
    "val testScore = 75\n",
    "val letterGrade = when (testScore) {\n",
    "    in 90..100 -> \"A\"\n",
    "    in 80..89 -> \"B\"\n",
    "    in 70..79 -> \"C\"\n",
    "    in 60..69 -> \"D\"\n",
    "    else -> \"F\"\n",
    "}\n",
    "println(\"범위 체크: ${testScore}점은 ${letterGrade} 등급\")"
   ]
  },
  {
   "cell_type": "code",
   "execution_count": null,
   "metadata": {},
   "outputs": [],
   "source": [
    "// when with type checking\n",
    "val x: Any = \"Hello\"\n",
    "when (x) {\n",
    "    is String -> println(\"타입 체크: 문자열 길이는 ${x.length}\")\n",
    "    is Int -> println(\"타입 체크: 정수값은 $x\")\n",
    "    else -> println(\"타입 체크: 알 수 없는 타입\")\n",
    "}"
   ]
  },
  {
   "cell_type": "markdown",
   "metadata": {},
   "source": [
    "### 💡 핵심 포인트\n",
    "- **Java의 switch와 달리** break가 필요 없음 (fall-through 없음)\n",
    "- **Python의 match보다** 더 간결하고 표현력이 뛰어남\n",
    "- **모든 조건문이** 표현식으로 사용 가능 (값을 반환)"
   ]
  },
  {
   "cell_type": "markdown",
   "metadata": {},
   "source": [
    "## 4. 반복문\n",
    "\n",
    "Kotlin의 반복문은 Python의 직관성과 Java의 안정성을 결합했습니다."
   ]
  },
  {
   "cell_type": "code",
   "execution_count": null,
   "metadata": {},
   "outputs": [],
   "source": [
    "// for 루프 - 범위 (Python의 range와 유사)\n",
    "println(\"1..5 (5 포함):\")\n",
    "for (i in 1..5) {\n",
    "    print(\"$i \")\n",
    "}\n",
    "println()\n",
    "\n",
    "println(\"1 until 5 (5 제외):\")\n",
    "for (i in 1 until 5) {\n",
    "    print(\"$i \")\n",
    "}\n",
    "println()"
   ]
  },
  {
   "cell_type": "code",
   "execution_count": null,
   "metadata": {},
   "outputs": [],
   "source": [
    "// 역순과 step\n",
    "println(\"5 downTo 1 (역순):\")\n",
    "for (i in 5 downTo 1) {\n",
    "    print(\"$i \")\n",
    "}\n",
    "println()\n",
    "\n",
    "println(\"1..10 step 2 (2씩 증가):\")\n",
    "for (i in 1..10 step 2) {\n",
    "    print(\"$i \")\n",
    "}\n",
    "println()"
   ]
  },
  {
   "cell_type": "code",
   "execution_count": null,
   "metadata": {},
   "outputs": [],
   "source": [
    "// 컬렉션 순회 (Python의 for-in과 동일)\n",
    "val fruits = listOf(\"사과\", \"바나나\", \"오렌지\")\n",
    "println(\"기본 순회:\")\n",
    "for (fruit in fruits) {\n",
    "    println(\"- $fruit\")\n",
    "}"
   ]
  },
  {
   "cell_type": "code",
   "execution_count": null,
   "metadata": {},
   "outputs": [],
   "source": [
    "// 인덱스와 함께 (Python의 enumerate와 유사)\n",
    "val fruits = listOf(\"사과\", \"바나나\", \"오렌지\")\n",
    "println(\"인덱스와 함께:\")\n",
    "for ((index, fruit) in fruits.withIndex()) {\n",
    "    println(\"$index: $fruit\")\n",
    "}"
   ]
  },
  {
   "cell_type": "code",
   "execution_count": null,
   "metadata": {},
   "outputs": [],
   "source": [
    "// while 루프 (Java/C와 동일)\n",
    "var count = 0\n",
    "while (count < 3) {\n",
    "    println(\"카운트: $count\")\n",
    "    count++\n",
    "}"
   ]
  },
  {
   "cell_type": "code",
   "execution_count": null,
   "metadata": {},
   "outputs": [],
   "source": [
    "// do-while (Java/C와 동일, Python에는 없음)\n",
    "var num = 0\n",
    "do {\n",
    "    println(\"실행: $num\")\n",
    "    num++\n",
    "} while (num < 3)"
   ]
  },
  {
   "cell_type": "code",
   "execution_count": null,
   "metadata": {},
   "outputs": [],
   "source": [
    "// break와 continue (모든 언어와 동일)\n",
    "print(\"break 예제: \")\n",
    "for (i in 1..10) {\n",
    "    if (i > 5) break\n",
    "    print(\"$i \")\n",
    "}\n",
    "println()\n",
    "\n",
    "print(\"continue 예제 (홀수만): \")\n",
    "for (i in 1..10) {\n",
    "    if (i % 2 == 0) continue  // 짝수 건너뛰기\n",
    "    print(\"$i \")\n",
    "}\n",
    "println()"
   ]
  },
  {
   "cell_type": "markdown",
   "metadata": {},
   "source": [
    "### 💡 핵심 포인트\n",
    "- **Python의 range()보다** 더 직관적인 범위 표현\n",
    "- **Java의 향상된 for문보다** 더 다양한 순회 방법\n",
    "- **C의 for(;;)보다** 안전하고 간결한 문법"
   ]
  },
  {
   "cell_type": "markdown",
   "metadata": {},
   "source": [
    "## 5. Null Safety (Kotlin의 킬러 기능)\n",
    "\n",
    "Kotlin의 타입 시스템은 null 참조를 명시적으로 다룹니다. 이는 \"Billion Dollar Mistake\"라 불리는 NullPointerException을 방지합니다."
   ]
  },
  {
   "cell_type": "code",
   "execution_count": null,
   "metadata": {},
   "outputs": [],
   "source": [
    "// nullable vs non-null 타입\n",
    "var nullableName: String? = \"Kotlin\"  // ?가 있으면 null 가능\n",
    "var nonNullName: String = \"Java\"      // ?가 없으면 null 불가능\n",
    "\n",
    "println(\"nullable 변수 (String?): $nullableName\")\n",
    "println(\"non-null 변수 (String): $nonNullName\")\n",
    "\n",
    "nullableName = null  // OK\n",
    "// nonNullName = null  // 컴파일 에러!\n",
    "println(\"null 할당 후: $nullableName\")"
   ]
  },
  {
   "cell_type": "code",
   "execution_count": null,
   "metadata": {},
   "outputs": [],
   "source": [
    "// 안전한 호출 연산자 (?.)\n",
    "var testName: String? = \"테스트\"\n",
    "println(\"값이 있을 때: ${testName?.length}\")  // 정상 실행\n",
    "\n",
    "testName = null\n",
    "println(\"null일 때: ${testName?.length}\")  // null 반환 (에러 없음)"
   ]
  },
  {
   "cell_type": "code",
   "execution_count": null,
   "metadata": {},
   "outputs": [],
   "source": [
    "// Elvis 연산자 (?:) - null일 때 기본값 제공\n",
    "var testName: String? = null\n",
    "val length = testName?.length ?: 0  // Python의 or와 유사하지만 더 안전\n",
    "println(\"null일 때 기본값: 길이 = $length\")\n",
    "\n",
    "val name = testName ?: \"기본 이름\"\n",
    "println(\"null일 때 기본 문자열: $name\")"
   ]
  },
  {
   "cell_type": "code",
   "execution_count": null,
   "metadata": {},
   "outputs": [],
   "source": [
    "// let과 함께 사용 (null이 아닐 때만 실행)\n",
    "fun printLength(text: String?) {\n",
    "    text?.let {\n",
    "        println(\"텍스트 '${it}'의 길이: ${it.length}\")\n",
    "    } ?: println(\"텍스트가 null입니다\")\n",
    "}\n",
    "\n",
    "printLength(\"Hello\")\n",
    "printLength(null)"
   ]
  },
  {
   "cell_type": "code",
   "execution_count": null,
   "metadata": {},
   "outputs": [],
   "source": [
    "// null 아님 단언 (!!) - 주의해서 사용\n",
    "var assertName: String? = \"무조건 있다!\"\n",
    "println(\"!! 사용: ${assertName!!.length}\")  // null이면 NPE 발생\n",
    "\n",
    "// 아래 주석을 해제하면 NullPointerException 발생\n",
    "// assertName = null\n",
    "// println(assertName!!.length)"
   ]
  },
  {
   "cell_type": "code",
   "execution_count": null,
   "metadata": {},
   "outputs": [],
   "source": [
    "// 스마트 캐스트\n",
    "var smartName: String? = \"스마트\"\n",
    "if (smartName != null) {\n",
    "    // 이 블록 안에서는 smartName이 자동으로 String 타입으로 변환\n",
    "    println(\"if 블록 내부: 길이는 ${smartName.length}\")  // ? 불필요\n",
    "}"
   ]
  },
  {
   "cell_type": "code",
   "execution_count": null,
   "metadata": {},
   "outputs": [],
   "source": [
    "// 실용적인 예제\n",
    "data class User(val name: String, val email: String?)\n",
    "\n",
    "fun sendEmail(user: User) {\n",
    "    user.email?.let { email ->\n",
    "        println(\"${user.name}님께 이메일 전송: $email\")\n",
    "    } ?: println(\"${user.name}님의 이메일이 없습니다\")\n",
    "}\n",
    "\n",
    "sendEmail(User(\"김철수\", \"kim@example.com\"))\n",
    "sendEmail(User(\"박영희\", null))"
   ]
  },
  {
   "cell_type": "markdown",
   "metadata": {},
   "source": [
    "### 💡 핵심 포인트\n",
    "- **Java**: NullPointerException 위험 상존, Optional 사용이 번거로움\n",
    "- **Python**: None 체크를 런타임에만 할 수 있음\n",
    "- **C**: NULL 포인터 역참조로 인한 세그먼테이션 폴트\n",
    "- **Kotlin**: 컴파일 시점에 null 안정성 보장!\n",
    "\n",
    "### 🎯 Null Safety 정리\n",
    "1. `?`로 nullable 타입 명시\n",
    "2. `?.`로 안전하게 접근\n",
    "3. `?:`로 기본값 제공\n",
    "4. `let`으로 null이 아닐 때만 실행\n",
    "5. `!!`는 정말 확실할 때만 사용"
   ]
  },
  {
   "cell_type": "markdown",
   "metadata": {},
   "source": [
    "## 실습 과제\n",
    "\n",
    "배운 내용을 활용해서 아래 과제를 완성해보세요:"
   ]
  },
  {
   "cell_type": "code",
   "execution_count": null,
   "metadata": {},
   "outputs": [],
   "source": [
    "// 과제 1: 학생 성적 관리 프로그램\n",
    "// TODO: 학생 이름과 점수를 받아서 등급을 반환하는 함수 작성\n",
    "// - 90점 이상: A\n",
    "// - 80점 이상: B\n",
    "// - 70점 이상: C\n",
    "// - 60점 이상: D\n",
    "// - 그 외: F\n",
    "\n",
    "fun calculateGrade(name: String, score: Int?): String {\n",
    "    // 여기에 코드 작성\n",
    "    return \"\"\n",
    "}\n",
    "\n",
    "// 테스트\n",
    "// println(calculateGrade(\"김철수\", 95))\n",
    "// println(calculateGrade(\"이영희\", null))"
   ]
  },
  {
   "cell_type": "code",
   "execution_count": null,
   "metadata": {},
   "outputs": [],
   "source": [
    "// 과제 2: 리스트 필터링\n",
    "// TODO: 숫자 리스트에서 짝수만 추출하여 출력하는 프로그램 작성\n",
    "\n",
    "val numbers = listOf(1, 2, 3, 4, 5, 6, 7, 8, 9, 10)\n",
    "\n",
    "// 여기에 코드 작성"
   ]
  }
 ],
 "metadata": {
  "kernelspec": {
   "display_name": "Kotlin",
   "language": "kotlin",
   "name": "kotlin"
  },
  "language_info": {
   "codemirror_mode": "text/x-kotlin",
   "file_extension": ".kt",
   "mimetype": "text/x-kotlin",
   "name": "kotlin",
   "nbconvert_exporter": "",
   "pygments_lexer": "kotlin",
   "version": "1.8.0"
  }
 },
 "nbformat": 4,
 "nbformat_minor": 4
}
